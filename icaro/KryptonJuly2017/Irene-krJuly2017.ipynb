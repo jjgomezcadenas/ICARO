{
 "cells": [
  {
   "cell_type": "code",
   "execution_count": 1,
   "metadata": {
    "collapsed": false
   },
   "outputs": [
    {
     "name": "stdout",
     "output_type": "stream",
     "text": [
      "2017-07-02 19:48:36\n"
     ]
    }
   ],
   "source": [
    "import os\n",
    "import datetime\n",
    "print(datetime.datetime.now().strftime('%Y-%m-%d %H:%M:%S'))\n",
    "\n",
    "import time\n",
    "import glob\n",
    "import tables as tb\n",
    "import numpy as np\n",
    "import pandas as pd\n",
    "import matplotlib.pyplot as plt\n",
    "from functools import reduce"
   ]
  },
  {
   "cell_type": "code",
   "execution_count": 2,
   "metadata": {
    "collapsed": false
   },
   "outputs": [],
   "source": [
    "%matplotlib inline\n",
    "%load_ext autoreload\n",
    "%autoreload 2\n",
    "\n",
    "plt.rcParams[\"figure.figsize\"] = 10, 8\n",
    "plt.rcParams[\"font.size\"     ] = 14"
   ]
  },
  {
   "cell_type": "code",
   "execution_count": 3,
   "metadata": {
    "collapsed": false
   },
   "outputs": [],
   "source": [
    "from invisible_cities.database import load_db\n",
    "\n",
    "import invisible_cities.sierpe.blr as blr\n",
    "\n",
    "import invisible_cities.reco.tbl_functions as tbl\n",
    "import invisible_cities.reco.peak_functions as pf\n",
    "import invisible_cities.reco.peak_functions_c as cpf\n",
    "\n",
    "from   invisible_cities.reco.params           import S12Params \n",
    "from   invisible_cities.reco.params           import CalibVectors\n",
    "from   invisible_cities.reco.params           import DeconvParams\n",
    "from   invisible_cities.reco.params           import ThresholdParams\n",
    "\n",
    "from   invisible_cities.core.system_of_units_c import units\n",
    "from   invisible_cities.core.ic_types import minmax\n",
    "import invisible_cities.icaro.mpl_functions as mpl\n",
    "from invisible_cities.icaro.pmaps_mpl import plot_s12\n"
   ]
  },
  {
   "cell_type": "code",
   "execution_count": 4,
   "metadata": {
    "collapsed": true
   },
   "outputs": [],
   "source": [
    "import invisible_cities.icaro.mpl_functions as mpl"
   ]
  },
  {
   "cell_type": "code",
   "execution_count": 5,
   "metadata": {
    "collapsed": false
   },
   "outputs": [],
   "source": [
    "import invisible_cities.reco.event_model as evm\n",
    "from invisible_cities.core.ic_types import minmax"
   ]
  },
  {
   "cell_type": "code",
   "execution_count": 5,
   "metadata": {
    "collapsed": true
   },
   "outputs": [],
   "source": [
    "from invisible_cities.core.exceptions        import SipmEmptyList\n",
    "from invisible_cities.core.exceptions        import SipmNotFound\n",
    "from invisible_cities.core.exceptions        import PeakNotFound"
   ]
  },
  {
   "cell_type": "code",
   "execution_count": 6,
   "metadata": {
    "collapsed": false
   },
   "outputs": [],
   "source": [
    "run_number = 4446\n",
    "DataPMT = load_db.DataPMT(run_number)\n",
    "DataSiPM = load_db.DataSiPM(run_number)\n",
    "xs = DataSiPM.X.values\n",
    "ys = DataSiPM.Y.values\n",
    "pmt_active = np.nonzero(DataPMT.Active.values)[0].tolist()"
   ]
  },
  {
   "cell_type": "code",
   "execution_count": 7,
   "metadata": {
    "collapsed": true
   },
   "outputs": [],
   "source": [
    "channel_id = DataPMT.ChannelID.values\n",
    "coeff_blr = abs(DataPMT.coeff_blr.values)\n",
    "coeff_c = abs(DataPMT.coeff_c .values)\n",
    "adc_to_pes = abs(DataPMT.adc_to_pes.values)\n",
    "adc_to_pes_sipm = abs(DataSiPM.adc_to_pes.values)"
   ]
  },
  {
   "cell_type": "code",
   "execution_count": 8,
   "metadata": {
    "collapsed": false
   },
   "outputs": [],
   "source": [
    "from invisible_cities.reco.dst_functions  import load_dst"
   ]
  },
  {
   "cell_type": "code",
   "execution_count": 13,
   "metadata": {
    "collapsed": true
   },
   "outputs": [],
   "source": [
    "event=0"
   ]
  },
  {
   "cell_type": "code",
   "execution_count": 10,
   "metadata": {
    "collapsed": false
   },
   "outputs": [
    {
     "name": "stdout",
     "output_type": "stream",
     "text": [
      "####################\n",
      "SensorParams\n",
      "####################\n",
      "npmt: 12\n",
      "pmtwl: 52000\n",
      "nsipm: 1792\n",
      "sipmwl: 1300\n",
      "\n"
     ]
    }
   ],
   "source": [
    "filename = '/Users/jjgomezcadenas/Projects/ICDATA/LSC/wvfms/4446/dst_waves.gdcsnext.999_4446.root.h5'\n",
    "input_files = [filename]\n",
    "h5rwf = tb.open_file(filename, \"r\") \n",
    "NEVT, pmtrwf, sipmrwf, _ = tbl.get_rwf_vectors(h5rwf)\n",
    "sp = tbl.get_sensor_params_from_vectors(pmtrwf, sipmrwf)\n",
    "print(sp)"
   ]
  },
  {
   "cell_type": "markdown",
   "metadata": {},
   "source": [
    "### Reconstruction Parameters"
   ]
  },
  {
   "cell_type": "code",
   "execution_count": 11,
   "metadata": {
    "collapsed": false
   },
   "outputs": [],
   "source": [
    "calib_vectors = CalibVectors(channel_id = DataPMT.ChannelID.values,\n",
    "                             coeff_blr = abs(DataPMT.coeff_blr   .values),\n",
    "                             coeff_c = abs(DataPMT.coeff_c   .values),\n",
    "                             adc_to_pes = DataPMT.adc_to_pes.values,\n",
    "                             adc_to_pes_sipm = DataSiPM.adc_to_pes.values,\n",
    "                             pmt_active = np.nonzero(DataPMT.Active.values)[0].tolist())\n",
    "\n",
    "\n",
    "deconv_params = DeconvParams(n_baseline = 48000,\n",
    "                              thr_trigger = 5)\n",
    "\n",
    "s1par = S12Params(time = minmax(min    = 0 * units.mus,\n",
    "                           max    = 649 * units.mus),\n",
    "                           stride = 4,\n",
    "                           length = minmax(min = 4, max = 20),  #250 ns -- 50 ns\n",
    "                           rebin  = False)\n",
    "\n",
    "s2par = S12Params(time = minmax(min    = 650 * units.mus,\n",
    "                           max    = 1299 * units.mus),\n",
    "                           stride = 40,\n",
    "                           length = minmax(min = 80, max = 1e5),  # 4 mus --\n",
    "                           rebin  = True)\n",
    "\n",
    "thresholds = ThresholdParams(thr_s1=0.2 * units.pes,\n",
    "                      thr_s2=0.5 * units.pes,\n",
    "                      thr_MAU=3*units.adc,\n",
    "                      thr_sipm=3.5*units.pes,\n",
    "                      thr_SIPM=10*units.pes)\n",
    "\n"
   ]
  },
  {
   "cell_type": "markdown",
   "metadata": {},
   "source": [
    "#### Using method compute_csum_and_pmaps defined in reco/peak_functions.py"
   ]
  },
  {
   "cell_type": "raw",
   "metadata": {},
   "source": [
    "def compute_csum_and_pmaps(event, pmtrwf, sipmrwf, s1par, s2par, thresholds,\n",
    "                        calib_vectors, deconv_params):\n",
    "    \"\"\"Compute calibrated sum and PMAPS.\n",
    "\n",
    "    \n",
    "    return (CalibratedSum(csum=csum, csum_mau=csum_mau),\n",
    "            PMaps(S1=S1, S2=S2, S2Si=S2Si))"
   ]
  },
  {
   "cell_type": "code",
   "execution_count": 22,
   "metadata": {
    "collapsed": false
   },
   "outputs": [
    {
     "name": "stdout",
     "output_type": "stream",
     "text": [
      "compute_csum_and_pmaps in  = 0.4557952880859375 s\n"
     ]
    }
   ],
   "source": [
    "event=0\n",
    "t0 = time.time()\n",
    "csum, pmp = pf.compute_csum_and_pmaps(event, pmtrwf, sipmrwf, s1par, s2par, thresholds,\n",
    "                        calib_vectors, deconv_params)\n",
    "t1 = time.time()\n",
    "dt = t1 - t0\n",
    "print(\"compute_csum_and_pmaps in  = {} s\".format(dt))"
   ]
  },
  {
   "cell_type": "code",
   "execution_count": 24,
   "metadata": {
    "collapsed": false
   },
   "outputs": [
    {
     "data": {
      "image/png": "[encoded data removed]",
      "text/plain": [
       "<matplotlib.figure.Figure at 0x118feb080>"
      ]
     },
     "metadata": {},
     "output_type": "display_data"
    }
   ],
   "source": [
    "mpl.plot_signal_vs_time_mus(csum.csum,\n",
    "                        t_min      = 0,\n",
    "                        t_max      = 1300,\n",
    "                        signal_min =    0,\n",
    "                        signal_max =  60,\n",
    "                        figsize=(6,6))"
   ]
  },
  {
   "cell_type": "markdown",
   "metadata": {},
   "source": [
    "#### Raw S1 dictionary"
   ]
  },
  {
   "cell_type": "code",
   "execution_count": 25,
   "metadata": {
    "collapsed": false
   },
   "outputs": [
    {
     "data": {
      "text/plain": [
       "{0: [array([ 40925.,  40950.,  40975.,  41000.]),\n",
       "  <MemoryView of 'ndarray' at 0x118b9ba38>],\n",
       " 1: [array([ 135450.,  135475.,  135500.,  135525.]),\n",
       "  <MemoryView of 'ndarray' at 0x118b9bbe0>],\n",
       " 2: [array([ 140675.,  140700.,  140725.,  140750.]),\n",
       "  <MemoryView of 'ndarray' at 0x118b9bd88>],\n",
       " 3: [array([ 158975.,  159000.,  159025.,  159050.,  159075.,  159100.]),\n",
       "  <MemoryView of 'ndarray' at 0x118b9b048>],\n",
       " 4: [array([ 161400.,  161425.,  161450.,  161475.]),\n",
       "  <MemoryView of 'ndarray' at 0x118b9c1f0>],\n",
       " 5: [array([ 181700.,  181725.,  181750.,  181775.]),\n",
       "  <MemoryView of 'ndarray' at 0x118b9c398>],\n",
       " 6: [array([ 441775.,  441800.,  441825.,  441850.,  441875.,  441900.,\n",
       "          441925.,  441950.,  441975.,  442000.,  442025.,  442050.,\n",
       "          442075.,  442100.,  442125.,  442150.]),\n",
       "  <MemoryView of 'ndarray' at 0x118b9c540>],\n",
       " 7: [array([ 480800.,  480825.,  480850.,  480875.]),\n",
       "  <MemoryView of 'ndarray' at 0x118b9c6e8>],\n",
       " 8: [array([ 647750.,  647775.,  647800.,  647825.]),\n",
       "  <MemoryView of 'ndarray' at 0x118b9c890>],\n",
       " 9: [array([ 647950.,  647975.,  648000.,  648025.,  648050.,  648075.,\n",
       "          648100.,  648125.,  648150.,  648175.]),\n",
       "  <MemoryView of 'ndarray' at 0x118b9ca38>]}"
      ]
     },
     "execution_count": 25,
     "metadata": {},
     "output_type": "execute_result"
    }
   ],
   "source": [
    "pmp.S1"
   ]
  },
  {
   "cell_type": "markdown",
   "metadata": {},
   "source": [
    "#### Instance of S1 class"
   ]
  },
  {
   "cell_type": "code",
   "execution_count": 26,
   "metadata": {
    "collapsed": false
   },
   "outputs": [],
   "source": [
    "s1 = evm.S1(pmp.S1)"
   ]
  },
  {
   "cell_type": "code",
   "execution_count": 27,
   "metadata": {
    "collapsed": false
   },
   "outputs": [
    {
     "data": {
      "text/plain": [
       "S1(number of peaks = 10)\n",
       "peak number = 0: Waveform(samples = 4 width = 0.1 mus , energy = 1.6 pes\n",
       "        height = 0.5 pes tmin-tmax = minmax(min=40.9, max=41.0) mus  \n",
       "peak number = 1: Waveform(samples = 4 width = 0.1 mus , energy = 1.4 pes\n",
       "        height = 0.4 pes tmin-tmax = minmax(min=135.4, max=135.5) mus  \n",
       "peak number = 2: Waveform(samples = 4 width = 0.1 mus , energy = 1.5 pes\n",
       "        height = 0.4 pes tmin-tmax = minmax(min=140.7, max=140.8) mus  \n",
       "peak number = 3: Waveform(samples = 6 width = 0.1 mus , energy = 4.2 pes\n",
       "        height = 1.1 pes tmin-tmax = minmax(min=159.0, max=159.1) mus  \n",
       "peak number = 4: Waveform(samples = 4 width = 0.1 mus , energy = 1.3 pes\n",
       "        height = 0.5 pes tmin-tmax = minmax(min=161.4, max=161.5) mus  \n",
       "peak number = 5: Waveform(samples = 4 width = 0.1 mus , energy = 1.0 pes\n",
       "        height = 0.4 pes tmin-tmax = minmax(min=181.7, max=181.8) mus  \n",
       "peak number = 6: Waveform(samples = 16 width = 0.4 mus , energy = 17.9 pes\n",
       "        height = 2.0 pes tmin-tmax = minmax(min=441.8, max=442.2) mus  \n",
       "peak number = 7: Waveform(samples = 4 width = 0.1 mus , energy = 1.7 pes\n",
       "        height = 0.5 pes tmin-tmax = minmax(min=480.8, max=480.9) mus  \n",
       "peak number = 8: Waveform(samples = 4 width = 0.1 mus , energy = 1.7 pes\n",
       "        height = 0.5 pes tmin-tmax = minmax(min=647.8, max=647.8) mus  \n",
       "peak number = 9: Waveform(samples = 10 width = 0.2 mus , energy = 5.0 pes\n",
       "        height = 0.7 pes tmin-tmax = minmax(min=648.0, max=648.2) mus  "
      ]
     },
     "execution_count": 27,
     "metadata": {},
     "output_type": "execute_result"
    }
   ],
   "source": [
    "s1"
   ]
  },
  {
   "cell_type": "code",
   "execution_count": 32,
   "metadata": {
    "collapsed": false
   },
   "outputs": [
    {
     "data": {
      "text/plain": [
       "1"
      ]
     },
     "execution_count": 32,
     "metadata": {},
     "output_type": "execute_result"
    }
   ],
   "source": [
    "s1.number_of_peaks"
   ]
  },
  {
   "cell_type": "code",
   "execution_count": 33,
   "metadata": {
    "collapsed": false
   },
   "outputs": [
    {
     "data": {
      "text/plain": [
       "Waveform(samples = 7 width = 0.1 mus , energy = 9.0 pes\n",
       "        height = 2.0 pes tmin-tmax = minmax(min=100.1, max=100.2) mus "
      ]
     },
     "execution_count": 33,
     "metadata": {},
     "output_type": "execute_result"
    }
   ],
   "source": [
    "s1.peak_waveform(0)"
   ]
  },
  {
   "cell_type": "code",
   "execution_count": 34,
   "metadata": {
    "collapsed": false
   },
   "outputs": [],
   "source": [
    "try:\n",
    "    s1.peak_waveform(2)\n",
    "except PeakNotFound:\n",
    "    pass\n",
    "    "
   ]
  },
  {
   "cell_type": "code",
   "execution_count": 35,
   "metadata": {
    "collapsed": false
   },
   "outputs": [
    {
     "data": {
      "text/plain": [
       "array([ 100075.,  100100.,  100125.,  100150.,  100175.,  100200.,  100225.])"
      ]
     },
     "execution_count": 35,
     "metadata": {},
     "output_type": "execute_result"
    }
   ],
   "source": [
    "s1.peak_waveform(0).t"
   ]
  },
  {
   "cell_type": "code",
   "execution_count": 36,
   "metadata": {
    "collapsed": false
   },
   "outputs": [
    {
     "data": {
      "text/plain": [
       "array([ 1.29416144,  1.99560936,  1.88525513,  1.412292  ,  0.73227114,\n",
       "        0.90618465,  0.76593857])"
      ]
     },
     "execution_count": 36,
     "metadata": {},
     "output_type": "execute_result"
    }
   ],
   "source": [
    "s1.peak_waveform(0).E"
   ]
  },
  {
   "cell_type": "markdown",
   "metadata": {},
   "source": [
    "#### Instance of s2 class"
   ]
  },
  {
   "cell_type": "code",
   "execution_count": 37,
   "metadata": {
    "collapsed": true
   },
   "outputs": [],
   "source": [
    "s2 = evm.S2(pmp.S2)"
   ]
  },
  {
   "cell_type": "code",
   "execution_count": 38,
   "metadata": {
    "collapsed": false
   },
   "outputs": [
    {
     "data": {
      "text/plain": [
       "S2(number of peaks = 1)\n",
       "peak number = 0: Waveform(samples = 13 width = 11.4 mus , energy = 6236.7 pes\n",
       "        height = 1204.9 pes tmin-tmax = minmax(min=619.0, max=630.4) mus  "
      ]
     },
     "execution_count": 38,
     "metadata": {},
     "output_type": "execute_result"
    }
   ],
   "source": [
    "s2"
   ]
  },
  {
   "cell_type": "code",
   "execution_count": 39,
   "metadata": {
    "collapsed": false
   },
   "outputs": [
    {
     "data": {
      "text/plain": [
       "1"
      ]
     },
     "execution_count": 39,
     "metadata": {},
     "output_type": "execute_result"
    }
   ],
   "source": [
    "s2.number_of_peaks"
   ]
  },
  {
   "cell_type": "code",
   "execution_count": 41,
   "metadata": {
    "collapsed": false
   },
   "outputs": [
    {
     "data": {
      "text/plain": [
       "Waveform(samples = 13 width = 11.4 mus , energy = 6236.7 pes\n",
       "        height = 1204.9 pes tmin-tmax = minmax(min=619.0, max=630.4) mus "
      ]
     },
     "execution_count": 41,
     "metadata": {},
     "output_type": "execute_result"
    }
   ],
   "source": [
    "s2.peak_waveform(0)"
   ]
  },
  {
   "cell_type": "code",
   "execution_count": 42,
   "metadata": {
    "collapsed": false
   },
   "outputs": [],
   "source": [
    "try:\n",
    "    s2.peak_waveform(5)\n",
    "except PeakNotFound:\n",
    "    pass"
   ]
  },
  {
   "cell_type": "code",
   "execution_count": 43,
   "metadata": {
    "collapsed": false
   },
   "outputs": [
    {
     "data": {
      "image/png": "[encoded data removed]",
      "text/plain": [
       "<matplotlib.figure.Figure at 0x117d5deb8>"
      ]
     },
     "metadata": {},
     "output_type": "display_data"
    }
   ],
   "source": [
    "plot_s12(s1)"
   ]
  },
  {
   "cell_type": "code",
   "execution_count": 44,
   "metadata": {
    "collapsed": false
   },
   "outputs": [
    {
     "data": {
      "image/png": "[encoded data removed]",
      "text/plain": [
       "<matplotlib.figure.Figure at 0x11dc97550>"
      ]
     },
     "metadata": {},
     "output_type": "display_data"
    }
   ],
   "source": [
    "plot_s12(s2)"
   ]
  },
  {
   "cell_type": "markdown",
   "metadata": {},
   "source": [
    "#### Raw S2Si"
   ]
  },
  {
   "cell_type": "code",
   "execution_count": 45,
   "metadata": {
    "collapsed": false
   },
   "outputs": [
    {
     "data": {
      "text/plain": [
       "{0: {1517: array([  0.        ,   0.        ,   0.        ,   7.88852887,\n",
       "           8.88858887,  10.02199021,  12.22212222,  11.02205021,\n",
       "           0.        ,   4.02163019,   0.        ,   0.        ,   0.        ]),\n",
       "  1518: array([  0.        ,   0.        ,   0.        ,   8.8937031 ,\n",
       "          11.89283526,   7.93653326,   6.02219358,   0.        ,\n",
       "          12.91381643,   0.        ,   0.        ,   0.        ,   0.        ]),\n",
       "  1525: array([  0.        ,   0.        ,   0.        ,   0.        ,\n",
       "          11.89251702,  11.89251702,  16.0274716 ,  13.83077698,\n",
       "          11.11721304,   6.98225846,   0.        ,   0.        ,   0.        ]),\n",
       "  1526: array([  0.        ,   0.        ,   0.        ,  10.99067659,\n",
       "           5.01358236,  12.08326371,  19.92418302,  10.02662913,\n",
       "           7.96999456,   5.97762981,   3.98526507,   0.        ,   0.        ]),\n",
       "  1534: array([  0.        ,   0.        ,   0.        ,   0.        ,\n",
       "           8.02370644,   6.93375518,  10.74858458,   5.90435678,\n",
       "           4.0272185 ,   0.        ,   0.        ,   0.        ,   0.        ])}}"
      ]
     },
     "execution_count": 45,
     "metadata": {},
     "output_type": "execute_result"
    }
   ],
   "source": [
    "pmp.S2Si"
   ]
  },
  {
   "cell_type": "markdown",
   "metadata": {},
   "source": [
    "#### Instance of class S2Si"
   ]
  },
  {
   "cell_type": "code",
   "execution_count": 46,
   "metadata": {
    "collapsed": false
   },
   "outputs": [],
   "source": [
    "s2si = evm.S2Si(pmp.S2, pmp.S2Si)"
   ]
  },
  {
   "cell_type": "code",
   "execution_count": 47,
   "metadata": {
    "collapsed": false,
    "scrolled": false
   },
   "outputs": [
    {
     "data": {
      "text/plain": [
       "================================================================================\n",
       "S2Si(number of peaks = 1)\n",
       "peak number = 0: Waveform(samples = 13 width = 11.4 mus , energy = 6236.7 pes\n",
       "        height = 1204.9 pes tmin-tmax = minmax(min=619.0, max=630.4) mus  \n",
       "--------------------------------------------------------------------------------\n",
       "SiPMs for non-empty peaks\n",
       "\n",
       "peak number = 0: nsipm in peak = (1517, 1518, 1525, 1526, 1534)\n",
       "--------------------------------------------------------------------------------\n",
       "SiPMs Waveforms\n",
       "\n",
       "peak number = 0: sipm number = 1517\n",
       "    sipm waveform (zs) = Waveform(samples = 6 width = 6.0 mus , energy = 54.1 pes\n",
       "        height = 12.2 pes tmin-tmax = minmax(min=621.5, max=627.5) mus \n",
       "peak number = 0: sipm number = 1518\n",
       "    sipm waveform (zs) = Waveform(samples = 5 width = 5.0 mus , energy = 47.7 pes\n",
       "        height = 12.9 pes tmin-tmax = minmax(min=621.5, max=626.5) mus \n",
       "peak number = 0: sipm number = 1525\n",
       "    sipm waveform (zs) = Waveform(samples = 6 width = 5.0 mus , energy = 71.7 pes\n",
       "        height = 16.0 pes tmin-tmax = minmax(min=622.5, max=627.5) mus \n",
       "peak number = 0: sipm number = 1526\n",
       "    sipm waveform (zs) = Waveform(samples = 8 width = 7.0 mus , energy = 76.0 pes\n",
       "        height = 19.9 pes tmin-tmax = minmax(min=621.5, max=628.5) mus \n",
       "peak number = 0: sipm number = 1534\n",
       "    sipm waveform (zs) = Waveform(samples = 5 width = 4.0 mus , energy = 35.6 pes\n",
       "        height = 10.7 pes tmin-tmax = minmax(min=622.5, max=626.5) mus \n",
       "================================================================================"
      ]
     },
     "execution_count": 47,
     "metadata": {},
     "output_type": "execute_result"
    }
   ],
   "source": [
    "s2si"
   ]
  },
  {
   "cell_type": "code",
   "execution_count": 48,
   "metadata": {
    "collapsed": false
   },
   "outputs": [
    {
     "data": {
      "text/plain": [
       "1"
      ]
     },
     "execution_count": 48,
     "metadata": {},
     "output_type": "execute_result"
    }
   ],
   "source": [
    "s2si.number_of_peaks"
   ]
  },
  {
   "cell_type": "code",
   "execution_count": 50,
   "metadata": {
    "collapsed": false
   },
   "outputs": [
    {
     "data": {
      "text/plain": [
       "5"
      ]
     },
     "execution_count": 50,
     "metadata": {},
     "output_type": "execute_result"
    }
   ],
   "source": [
    "s2si.number_of_sipms_in_peak(0)"
   ]
  },
  {
   "cell_type": "code",
   "execution_count": 51,
   "metadata": {
    "collapsed": false
   },
   "outputs": [],
   "source": [
    "try:\n",
    "    s2si.sipms_in_peak(5)\n",
    "except PeakNotFound:\n",
    "    pass\n"
   ]
  },
  {
   "cell_type": "code",
   "execution_count": 52,
   "metadata": {
    "collapsed": false
   },
   "outputs": [
    {
     "data": {
      "text/plain": [
       "array([    1.22686353,    59.54449255,   133.04172218,   284.60687433,\n",
       "         579.571922  ,   924.59716426,  1204.89787344,  1066.38161954,\n",
       "         852.14752782,   575.96013119,   340.50972049,   158.42505477,\n",
       "          55.83360781])"
      ]
     },
     "execution_count": 52,
     "metadata": {},
     "output_type": "execute_result"
    }
   ],
   "source": [
    "s2si.peak_waveform(0).E"
   ]
  },
  {
   "cell_type": "code",
   "execution_count": 53,
   "metadata": {
    "collapsed": false
   },
   "outputs": [
    {
     "data": {
      "text/plain": [
       "array([ 618987.5,  619500. ,  620500. ,  621500. ,  622500. ,  623500. ,\n",
       "        624500. ,  625500. ,  626500. ,  627500. ,  628500. ,  629500. ,\n",
       "        630425. ])"
      ]
     },
     "execution_count": 53,
     "metadata": {},
     "output_type": "execute_result"
    }
   ],
   "source": [
    "s2si.peak_waveform(0).t"
   ]
  },
  {
   "cell_type": "code",
   "execution_count": 54,
   "metadata": {
    "collapsed": false
   },
   "outputs": [
    {
     "data": {
      "text/plain": [
       "(1517, 1518, 1525, 1526, 1534)"
      ]
     },
     "execution_count": 54,
     "metadata": {},
     "output_type": "execute_result"
    }
   ],
   "source": [
    "s2si.sipms_in_peak(0)"
   ]
  },
  {
   "cell_type": "code",
   "execution_count": 55,
   "metadata": {
    "collapsed": false
   },
   "outputs": [],
   "source": [
    "try:\n",
    "    s2si.sipms_in_peak(5)\n",
    "except PeakNotFound:\n",
    "    pass\n",
    "\n"
   ]
  },
  {
   "cell_type": "code",
   "execution_count": 56,
   "metadata": {
    "collapsed": false
   },
   "outputs": [
    {
     "data": {
      "text/plain": [
       "Waveform(samples = 13 width = 11.4 mus , energy = 54.1 pes\n",
       "        height = 12.2 pes tmin-tmax = minmax(min=619.0, max=630.4) mus "
      ]
     },
     "execution_count": 56,
     "metadata": {},
     "output_type": "execute_result"
    }
   ],
   "source": [
    "s2si.sipm_waveform(0,1517)"
   ]
  },
  {
   "cell_type": "code",
   "execution_count": 57,
   "metadata": {
    "collapsed": false
   },
   "outputs": [
    {
     "data": {
      "text/plain": [
       "array([  0.        ,   0.        ,   0.        ,   7.88852887,\n",
       "         8.88858887,  10.02199021,  12.22212222,  11.02205021,\n",
       "         0.        ,   4.02163019,   0.        ,   0.        ,   0.        ])"
      ]
     },
     "execution_count": 57,
     "metadata": {},
     "output_type": "execute_result"
    }
   ],
   "source": [
    "s2si.sipm_waveform(0,1517).E"
   ]
  },
  {
   "cell_type": "code",
   "execution_count": 58,
   "metadata": {
    "collapsed": false
   },
   "outputs": [
    {
     "data": {
      "text/plain": [
       "Waveform(samples = 6 width = 6.0 mus , energy = 54.1 pes\n",
       "        height = 12.2 pes tmin-tmax = minmax(min=621.5, max=627.5) mus "
      ]
     },
     "execution_count": 58,
     "metadata": {},
     "output_type": "execute_result"
    }
   ],
   "source": [
    "s2si.sipm_waveform_zs(0,1517)"
   ]
  },
  {
   "cell_type": "code",
   "execution_count": 59,
   "metadata": {
    "collapsed": false
   },
   "outputs": [
    {
     "data": {
      "text/plain": [
       "array([ 621.5,  622.5,  623.5,  624.5,  625.5,  627.5])"
      ]
     },
     "execution_count": 59,
     "metadata": {},
     "output_type": "execute_result"
    }
   ],
   "source": [
    "s2si.sipm_waveform_zs(0,1517).t/units.mus"
   ]
  },
  {
   "cell_type": "code",
   "execution_count": 60,
   "metadata": {
    "collapsed": false
   },
   "outputs": [
    {
     "data": {
      "text/plain": [
       "array([  7.88852887,   8.88858887,  10.02199021,  12.22212222,\n",
       "        11.02205021,   4.02163019])"
      ]
     },
     "execution_count": 60,
     "metadata": {},
     "output_type": "execute_result"
    }
   ],
   "source": [
    "s2si.sipm_waveform_zs(0,1517).E"
   ]
  },
  {
   "cell_type": "code",
   "execution_count": 61,
   "metadata": {
    "collapsed": false
   },
   "outputs": [
    {
     "ename": "KeyError",
     "evalue": "4",
     "output_type": "error",
     "traceback": [
      "\u001b[0;31m---------------------------------------------------------------------------\u001b[0m",
      "\u001b[0;31mKeyError\u001b[0m                                  Traceback (most recent call last)",
      "\u001b[0;32m<ipython-input-61-ac6809e42a9c>\u001b[0m in \u001b[0;36m<module>\u001b[0;34m()\u001b[0m\n\u001b[1;32m      1\u001b[0m \u001b[0;32mtry\u001b[0m\u001b[0;34m:\u001b[0m\u001b[0;34m\u001b[0m\u001b[0m\n\u001b[0;32m----> 2\u001b[0;31m     \u001b[0ms2si\u001b[0m\u001b[0;34m.\u001b[0m\u001b[0msipm_waveform_zs\u001b[0m\u001b[0;34m(\u001b[0m\u001b[0;36m4\u001b[0m\u001b[0;34m,\u001b[0m\u001b[0;36m1\u001b[0m\u001b[0;34m)\u001b[0m\u001b[0;34m\u001b[0m\u001b[0m\n\u001b[0m\u001b[1;32m      3\u001b[0m \u001b[0;32mexcept\u001b[0m \u001b[0mSipmNotFound\u001b[0m\u001b[0;34m:\u001b[0m\u001b[0;34m\u001b[0m\u001b[0m\n\u001b[1;32m      4\u001b[0m     \u001b[0;32mpass\u001b[0m\u001b[0;34m\u001b[0m\u001b[0m\n",
      "\u001b[0;32m/Users/jjgomezcadenas/Projects/IC/invisible_cities/reco/event_model.py\u001b[0m in \u001b[0;36msipm_waveform_zs\u001b[0;34m(self, peak_number, sipm_number)\u001b[0m\n\u001b[1;32m    196\u001b[0m \u001b[0;34m\u001b[0m\u001b[0m\n\u001b[1;32m    197\u001b[0m     \u001b[0;32mdef\u001b[0m \u001b[0msipm_waveform_zs\u001b[0m\u001b[0;34m(\u001b[0m\u001b[0mself\u001b[0m\u001b[0;34m,\u001b[0m \u001b[0mpeak_number\u001b[0m\u001b[0;34m,\u001b[0m \u001b[0msipm_number\u001b[0m\u001b[0;34m)\u001b[0m\u001b[0;34m:\u001b[0m\u001b[0;34m\u001b[0m\u001b[0m\n\u001b[0;32m--> 198\u001b[0;31m         \u001b[0;32mif\u001b[0m \u001b[0mself\u001b[0m\u001b[0;34m.\u001b[0m\u001b[0mnumber_of_sipms_in_peak\u001b[0m\u001b[0;34m(\u001b[0m\u001b[0mpeak_number\u001b[0m\u001b[0;34m)\u001b[0m \u001b[0;34m==\u001b[0m \u001b[0;36m0\u001b[0m\u001b[0;34m:\u001b[0m\u001b[0;34m\u001b[0m\u001b[0m\n\u001b[0m\u001b[1;32m    199\u001b[0m             \u001b[0;32mraise\u001b[0m \u001b[0mSipmEmptyList\u001b[0m\u001b[0;34m(\u001b[0m\u001b[0;34m\"No SiPMs associated to this peak\"\u001b[0m\u001b[0;34m)\u001b[0m\u001b[0;34m\u001b[0m\u001b[0m\n\u001b[1;32m    200\u001b[0m         \u001b[0;32mtry\u001b[0m\u001b[0;34m:\u001b[0m\u001b[0;34m\u001b[0m\u001b[0m\n",
      "\u001b[0;32m/Users/jjgomezcadenas/Projects/IC/invisible_cities/reco/event_model.py\u001b[0m in \u001b[0;36mnumber_of_sipms_in_peak\u001b[0;34m(self, peak_number)\u001b[0m\n\u001b[1;32m    178\u001b[0m \u001b[0;34m\u001b[0m\u001b[0m\n\u001b[1;32m    179\u001b[0m     \u001b[0;32mdef\u001b[0m \u001b[0mnumber_of_sipms_in_peak\u001b[0m\u001b[0;34m(\u001b[0m\u001b[0mself\u001b[0m\u001b[0;34m,\u001b[0m \u001b[0mpeak_number\u001b[0m\u001b[0;34m)\u001b[0m\u001b[0;34m:\u001b[0m\u001b[0;34m\u001b[0m\u001b[0m\n\u001b[0;32m--> 180\u001b[0;31m         \u001b[0;32mreturn\u001b[0m \u001b[0mlen\u001b[0m\u001b[0;34m(\u001b[0m\u001b[0mself\u001b[0m\u001b[0;34m.\u001b[0m\u001b[0m_s2sid\u001b[0m\u001b[0;34m[\u001b[0m\u001b[0mpeak_number\u001b[0m\u001b[0;34m]\u001b[0m\u001b[0;34m)\u001b[0m\u001b[0;34m\u001b[0m\u001b[0m\n\u001b[0m\u001b[1;32m    181\u001b[0m \u001b[0;34m\u001b[0m\u001b[0m\n\u001b[1;32m    182\u001b[0m     \u001b[0;32mdef\u001b[0m \u001b[0msipms_in_peak\u001b[0m\u001b[0;34m(\u001b[0m\u001b[0mself\u001b[0m\u001b[0;34m,\u001b[0m \u001b[0mpeak_number\u001b[0m\u001b[0;34m)\u001b[0m\u001b[0;34m:\u001b[0m\u001b[0;34m\u001b[0m\u001b[0m\n",
      "\u001b[0;31mKeyError\u001b[0m: 4"
     ]
    }
   ],
   "source": [
    "try:\n",
    "    s2si.sipm_waveform_zs(4,1)\n",
    "except SipmNotFound:\n",
    "    pass"
   ]
  },
  {
   "cell_type": "code",
   "execution_count": 62,
   "metadata": {
    "collapsed": false
   },
   "outputs": [
    {
     "ename": "SipmNotFound",
     "evalue": "",
     "output_type": "error",
     "traceback": [
      "\u001b[0;31m---------------------------------------------------------------------------\u001b[0m",
      "\u001b[0;31mKeyError\u001b[0m                                  Traceback (most recent call last)",
      "\u001b[0;32m/Users/jjgomezcadenas/Projects/IC/invisible_cities/reco/event_model.py\u001b[0m in \u001b[0;36msipm_waveform_zs\u001b[0;34m(self, peak_number, sipm_number)\u001b[0m\n\u001b[1;32m    200\u001b[0m         \u001b[0;32mtry\u001b[0m\u001b[0;34m:\u001b[0m\u001b[0;34m\u001b[0m\u001b[0m\n\u001b[0;32m--> 201\u001b[0;31m             \u001b[0mE\u001b[0m \u001b[0;34m=\u001b[0m \u001b[0mself\u001b[0m\u001b[0;34m.\u001b[0m\u001b[0m_s2sid\u001b[0m\u001b[0;34m[\u001b[0m\u001b[0mpeak_number\u001b[0m\u001b[0;34m]\u001b[0m\u001b[0;34m[\u001b[0m\u001b[0msipm_number\u001b[0m\u001b[0;34m]\u001b[0m\u001b[0;34m\u001b[0m\u001b[0m\n\u001b[0m\u001b[1;32m    202\u001b[0m             \u001b[0mt\u001b[0m \u001b[0;34m=\u001b[0m \u001b[0mself\u001b[0m\u001b[0;34m.\u001b[0m\u001b[0mpeak_waveform\u001b[0m\u001b[0;34m(\u001b[0m\u001b[0mpeak_number\u001b[0m\u001b[0;34m)\u001b[0m\u001b[0;34m.\u001b[0m\u001b[0mt\u001b[0m\u001b[0;34m[\u001b[0m\u001b[0mE\u001b[0m\u001b[0;34m>\u001b[0m\u001b[0;36m0\u001b[0m\u001b[0;34m]\u001b[0m\u001b[0;34m\u001b[0m\u001b[0m\n",
      "\u001b[0;31mKeyError\u001b[0m: 1",
      "\nDuring handling of the above exception, another exception occurred:\n",
      "\u001b[0;31mSipmNotFound\u001b[0m                              Traceback (most recent call last)",
      "\u001b[0;32m<ipython-input-62-dd51bd13f2bc>\u001b[0m in \u001b[0;36m<module>\u001b[0;34m()\u001b[0m\n\u001b[1;32m      1\u001b[0m \u001b[0;32mtry\u001b[0m\u001b[0;34m:\u001b[0m\u001b[0;34m\u001b[0m\u001b[0m\n\u001b[0;32m----> 2\u001b[0;31m     \u001b[0ms2si\u001b[0m\u001b[0;34m.\u001b[0m\u001b[0msipm_waveform_zs\u001b[0m\u001b[0;34m(\u001b[0m\u001b[0;36m0\u001b[0m\u001b[0;34m,\u001b[0m\u001b[0;36m1\u001b[0m\u001b[0;34m)\u001b[0m\u001b[0;34m\u001b[0m\u001b[0m\n\u001b[0m\u001b[1;32m      3\u001b[0m \u001b[0;32mexcept\u001b[0m \u001b[0mSipmEmptyList\u001b[0m\u001b[0;34m:\u001b[0m\u001b[0;34m\u001b[0m\u001b[0m\n\u001b[1;32m      4\u001b[0m     \u001b[0mprint\u001b[0m\u001b[0;34m(\u001b[0m\u001b[0;34m\"sipm empty list\"\u001b[0m\u001b[0;34m)\u001b[0m\u001b[0;34m\u001b[0m\u001b[0m\n",
      "\u001b[0;32m/Users/jjgomezcadenas/Projects/IC/invisible_cities/reco/event_model.py\u001b[0m in \u001b[0;36msipm_waveform_zs\u001b[0;34m(self, peak_number, sipm_number)\u001b[0m\n\u001b[1;32m    203\u001b[0m             \u001b[0;32mreturn\u001b[0m \u001b[0mWaveform\u001b[0m\u001b[0;34m(\u001b[0m\u001b[0mt\u001b[0m\u001b[0;34m,\u001b[0m \u001b[0mE\u001b[0m\u001b[0;34m[\u001b[0m\u001b[0mE\u001b[0m\u001b[0;34m>\u001b[0m\u001b[0;36m0\u001b[0m\u001b[0;34m]\u001b[0m\u001b[0;34m)\u001b[0m\u001b[0;34m\u001b[0m\u001b[0m\n\u001b[1;32m    204\u001b[0m         \u001b[0;32mexcept\u001b[0m \u001b[0mKeyError\u001b[0m\u001b[0;34m:\u001b[0m\u001b[0;34m\u001b[0m\u001b[0m\n\u001b[0;32m--> 205\u001b[0;31m             \u001b[0;32mraise\u001b[0m \u001b[0mSipmNotFound\u001b[0m\u001b[0;34m\u001b[0m\u001b[0m\n\u001b[0m\u001b[1;32m    206\u001b[0m \u001b[0;34m\u001b[0m\u001b[0m\n\u001b[1;32m    207\u001b[0m     \u001b[0;32mdef\u001b[0m \u001b[0msipm_total_energy\u001b[0m\u001b[0;34m(\u001b[0m\u001b[0mself\u001b[0m\u001b[0;34m,\u001b[0m \u001b[0mpeak_number\u001b[0m\u001b[0;34m,\u001b[0m \u001b[0msipm_number\u001b[0m\u001b[0;34m)\u001b[0m\u001b[0;34m:\u001b[0m\u001b[0;34m\u001b[0m\u001b[0m\n",
      "\u001b[0;31mSipmNotFound\u001b[0m: "
     ]
    }
   ],
   "source": [
    "try:\n",
    "    s2si.sipm_waveform_zs(0,1)\n",
    "except SipmEmptyList:\n",
    "    print(\"sipm empty list\")"
   ]
  }
 ],
 "metadata": {
  "kernelspec": {
   "display_name": "Python 3",
   "language": "python",
   "name": "python3"
  },
  "language_info": {
   "codemirror_mode": {
    "name": "ipython",
    "version": 3
   },
   "file_extension": ".py",
   "mimetype": "text/x-python",
   "name": "python",
   "nbconvert_exporter": "python",
   "pygments_lexer": "ipython3",
   "version": "3.6.0"
  }
 },
 "nbformat": 4,
 "nbformat_minor": 2
}
