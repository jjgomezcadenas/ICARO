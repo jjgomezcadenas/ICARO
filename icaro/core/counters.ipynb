{
 "cells": [
  {
   "cell_type": "code",
   "execution_count": 181,
   "metadata": {
    "collapsed": false
   },
   "outputs": [
    {
     "name": "stdout",
     "output_type": "stream",
     "text": [
      "2017-07-13 09:15:27\n"
     ]
    }
   ],
   "source": [
    "import os\n",
    "import datetime\n",
    "print(datetime.datetime.now().strftime('%Y-%m-%d %H:%M:%S'))\n",
    "\n"
   ]
  },
  {
   "cell_type": "code",
   "execution_count": 184,
   "metadata": {
    "collapsed": false
   },
   "outputs": [],
   "source": [
    "from invisible_cities.core.ic_types import Counter"
   ]
  },
  {
   "cell_type": "code",
   "execution_count": 185,
   "metadata": {
    "collapsed": false
   },
   "outputs": [],
   "source": [
    "cnt = Counter('CityName')\n",
    "# init by default to zero\n",
    "cnt.init_counter('c1')\n",
    "assert cnt.cd['c1'] == 0"
   ]
  },
  {
   "cell_type": "code",
   "execution_count": 186,
   "metadata": {
    "collapsed": false
   },
   "outputs": [
    {
     "data": {
      "text/plain": [
       "CityName: (counter = c1, value = 0), "
      ]
     },
     "execution_count": 186,
     "metadata": {},
     "output_type": "execute_result"
    }
   ],
   "source": [
    "cnt"
   ]
  },
  {
   "cell_type": "code",
   "execution_count": 187,
   "metadata": {
    "collapsed": true
   },
   "outputs": [],
   "source": [
    "# cannot init again\n",
    "cnt.init_counter('c1', 10)\n",
    "assert cnt.cd['c1'] == 0\n",
    "\n",
    "# but one can set\n",
    "cnt.set_counter('c1', 10)\n",
    "assert cnt.cd['c1'] == 10"
   ]
  },
  {
   "cell_type": "code",
   "execution_count": 188,
   "metadata": {
    "collapsed": false
   },
   "outputs": [
    {
     "data": {
      "text/plain": [
       "CityName: (counter = c1, value = 10), "
      ]
     },
     "execution_count": 188,
     "metadata": {},
     "output_type": "execute_result"
    }
   ],
   "source": [
    "cnt"
   ]
  },
  {
   "cell_type": "code",
   "execution_count": 189,
   "metadata": {
    "collapsed": true
   },
   "outputs": [],
   "source": [
    "# init to a value different than cero\n",
    "cnt.init_counter('c2', 1)\n",
    "assert cnt.cd['c2'] == 1"
   ]
  },
  {
   "cell_type": "code",
   "execution_count": 190,
   "metadata": {
    "collapsed": false
   },
   "outputs": [
    {
     "data": {
      "text/plain": [
       "CityName: (counter = c1, value = 10),  (counter = c2, value = 1), "
      ]
     },
     "execution_count": 190,
     "metadata": {},
     "output_type": "execute_result"
    }
   ],
   "source": [
    "cnt"
   ]
  },
  {
   "cell_type": "code",
   "execution_count": 191,
   "metadata": {
    "collapsed": true
   },
   "outputs": [],
   "source": [
    "# init a sequence of counters to zero\n",
    "cnt_list = ('a1', 'a2', 'a3')\n",
    "cnt.init_counters(cnt_list)\n",
    "for a in cnt_list:\n",
    "    assert cnt.cd[a] == 0"
   ]
  },
  {
   "cell_type": "code",
   "execution_count": 192,
   "metadata": {
    "collapsed": false
   },
   "outputs": [
    {
     "data": {
      "text/plain": [
       "CityName: (counter = c1, value = 10),  (counter = c2, value = 1),  (counter = a1, value = 0),  (counter = a2, value = 0),  (counter = a3, value = 0), "
      ]
     },
     "execution_count": 192,
     "metadata": {},
     "output_type": "execute_result"
    }
   ],
   "source": [
    "cnt"
   ]
  },
  {
   "cell_type": "code",
   "execution_count": 193,
   "metadata": {
    "collapsed": true
   },
   "outputs": [],
   "source": [
    "# set them to diferent values\n",
    "cnt_values = (10, 20, 30)\n",
    "cnt.set_counters(cnt_list, cnt_values)\n",
    "for i, a in enumerate(cnt_list):\n",
    "    assert cnt.cd[a] == cnt_values[i]\n"
   ]
  },
  {
   "cell_type": "code",
   "execution_count": 194,
   "metadata": {
    "collapsed": false
   },
   "outputs": [
    {
     "data": {
      "text/plain": [
       "CityName: (counter = c1, value = 10),  (counter = c2, value = 1),  (counter = a1, value = 10),  (counter = a2, value = 20),  (counter = a3, value = 30), "
      ]
     },
     "execution_count": 194,
     "metadata": {},
     "output_type": "execute_result"
    }
   ],
   "source": [
    "cnt"
   ]
  },
  {
   "cell_type": "code",
   "execution_count": 195,
   "metadata": {
    "collapsed": true
   },
   "outputs": [],
   "source": [
    "# init to diferent values\n",
    "cnt_list2 = ('b1', 'b2', 'b3')\n",
    "cnt.set_counters(cnt_list2, cnt_values)\n",
    "for i, a in enumerate(cnt_list2):\n",
    "    assert cnt.cd[a] == cnt_values[i]\n"
   ]
  },
  {
   "cell_type": "code",
   "execution_count": 196,
   "metadata": {
    "collapsed": false
   },
   "outputs": [
    {
     "data": {
      "text/plain": [
       "CityName: (counter = c1, value = 10),  (counter = c2, value = 1),  (counter = a1, value = 10),  (counter = a2, value = 20),  (counter = a3, value = 30),  (counter = b1, value = 10),  (counter = b2, value = 20),  (counter = b3, value = 30), "
      ]
     },
     "execution_count": 196,
     "metadata": {},
     "output_type": "execute_result"
    }
   ],
   "source": [
    "cnt"
   ]
  },
  {
   "cell_type": "code",
   "execution_count": 197,
   "metadata": {
    "collapsed": false
   },
   "outputs": [],
   "source": [
    "cnt_list3 = ('d1', 'd2', 'd3')\n",
    "cnt.init_counters(cnt_list3)"
   ]
  },
  {
   "cell_type": "code",
   "execution_count": 198,
   "metadata": {
    "collapsed": false
   },
   "outputs": [
    {
     "data": {
      "text/plain": [
       "CityName: (counter = c1, value = 10),  (counter = c2, value = 1),  (counter = a1, value = 10),  (counter = a2, value = 20),  (counter = a3, value = 30),  (counter = b1, value = 10),  (counter = b2, value = 20),  (counter = b3, value = 30),  (counter = d1, value = 0),  (counter = d2, value = 0),  (counter = d3, value = 0), "
      ]
     },
     "execution_count": 198,
     "metadata": {},
     "output_type": "execute_result"
    }
   ],
   "source": [
    "cnt"
   ]
  },
  {
   "cell_type": "code",
   "execution_count": 199,
   "metadata": {
    "collapsed": false
   },
   "outputs": [],
   "source": [
    "for a in (cnt_list3):       \n",
    "    assert cnt.cd[a] == 0"
   ]
  },
  {
   "cell_type": "code",
   "execution_count": 200,
   "metadata": {
    "collapsed": false
   },
   "outputs": [],
   "source": [
    "cnt.init_counters(cnt_list3, cnt_values)\n",
    "assert cnt.cd[a] == 0"
   ]
  },
  {
   "cell_type": "code",
   "execution_count": 201,
   "metadata": {
    "collapsed": false
   },
   "outputs": [],
   "source": [
    "#increment counter (1 by default)\n",
    "cnt.increment_counter('c1')\n",
    "assert cnt.cd['c1'] == 11\n",
    "\n",
    "#increment counter by some value\n",
    "cnt.increment_counter('c1',9)\n",
    "assert cnt.cd['c1'] == 20\n",
    "\n"
   ]
  },
  {
   "cell_type": "code",
   "execution_count": 202,
   "metadata": {
    "collapsed": false
   },
   "outputs": [
    {
     "data": {
      "text/plain": [
       "CityName: (counter = c1, value = 20),  (counter = c2, value = 1),  (counter = a1, value = 10),  (counter = a2, value = 20),  (counter = a3, value = 30),  (counter = b1, value = 10),  (counter = b2, value = 20),  (counter = b3, value = 30),  (counter = d1, value = 0),  (counter = d2, value = 0),  (counter = d3, value = 0), "
      ]
     },
     "execution_count": 202,
     "metadata": {},
     "output_type": "execute_result"
    }
   ],
   "source": [
    "cnt"
   ]
  },
  {
   "cell_type": "code",
   "execution_count": 203,
   "metadata": {
    "collapsed": true
   },
   "outputs": [],
   "source": [
    "cnt.increment_counter('c1',value=8)"
   ]
  },
  {
   "cell_type": "code",
   "execution_count": 204,
   "metadata": {
    "collapsed": false
   },
   "outputs": [
    {
     "data": {
      "text/plain": [
       "CityName: (counter = c1, value = 28),  (counter = c2, value = 1),  (counter = a1, value = 10),  (counter = a2, value = 20),  (counter = a3, value = 30),  (counter = b1, value = 10),  (counter = b2, value = 20),  (counter = b3, value = 30),  (counter = d1, value = 0),  (counter = d2, value = 0),  (counter = d3, value = 0), "
      ]
     },
     "execution_count": 204,
     "metadata": {},
     "output_type": "execute_result"
    }
   ],
   "source": [
    "cnt"
   ]
  },
  {
   "cell_type": "code",
   "execution_count": null,
   "metadata": {
    "collapsed": true
   },
   "outputs": [],
   "source": []
  },
  {
   "cell_type": "code",
   "execution_count": 205,
   "metadata": {
    "collapsed": false
   },
   "outputs": [],
   "source": [
    "cnt = Counter('CityName')\n",
    "# init by default to zero\n",
    "cnt.init_counter('c1')\n",
    "assert cnt.cd['c1'] == 0\n",
    "\n",
    "# cannot init again\n",
    "cnt.init_counter('c1', value=10)\n",
    "assert cnt.cd['c1'] == 0\n",
    "\n",
    "# but one can set\n",
    "cnt.set_counter('c1', 10)\n",
    "assert cnt.cd['c1'] == 10\n",
    "\n",
    "# init to a value different than cero\n",
    "cnt.init_counter('c2', value=1)\n",
    "assert cnt.cd['c2'] == 1\n",
    "\n",
    "# init a sequence of counters to zero\n",
    "cnt_list = ('a1', 'a2', 'a3')\n",
    "cnt.init_counters(cnt_list)\n",
    "for a in cnt_list:\n",
    "    assert cnt.cd[a] == 0\n",
    "\n",
    "# set them to diferent values\n",
    "cnt_values = (10, 20, 30)\n",
    "cnt.set_counters(cnt_list, value=cnt_values)\n",
    "for i, a in enumerate(cnt_list):\n",
    "    assert cnt.cd[a] == cnt_values[i]\n",
    "\n",
    "# init to diferent values\n",
    "cnt_list2 = ('b1', 'b2', 'b3')\n",
    "cnt.set_counters(cnt_list2, value=cnt_values)\n",
    "for i, a in enumerate(cnt_list2):\n",
    "    assert cnt.cd[a] == cnt_values[i]\n",
    "\n",
    "# cannot re-init\n",
    "cnt_list3 = ('d1', 'd2', 'd3')\n",
    "cnt.init_counters(cnt_list3)\n",
    "for a in (cnt_list3):       \n",
    "    assert cnt.cd[a] == 0\n",
    "    \n",
    "cnt.init_counters(cnt_list3, value=cnt_values)\n",
    "for a in (cnt_list3):       \n",
    "    assert cnt.cd[a] == 0\n",
    "\n",
    "#increment counter (1 by default)\n",
    "cnt.increment_counter('c1')\n",
    "assert cnt.cd['c1'] == 11\n",
    "\n",
    "#increment counter by some value\n",
    "cnt.increment_counter('c1',value=9)\n",
    "assert cnt.cd['c1'] == 20\n",
    "\n",
    "\n",
    " "
   ]
  },
  {
   "cell_type": "code",
   "execution_count": 207,
   "metadata": {
    "collapsed": false
   },
   "outputs": [
    {
     "data": {
      "text/plain": [
       "CityName: (counter = c1, value = 20),  (counter = c2, value = 1),  (counter = a1, value = 11),  (counter = a2, value = 21),  (counter = a3, value = 31),  (counter = b1, value = 10),  (counter = b2, value = 20),  (counter = b3, value = 30),  (counter = d1, value = 0),  (counter = d2, value = 0),  (counter = d3, value = 0), "
      ]
     },
     "execution_count": 207,
     "metadata": {},
     "output_type": "execute_result"
    }
   ],
   "source": [
    "cnt"
   ]
  },
  {
   "cell_type": "code",
   "execution_count": 208,
   "metadata": {
    "collapsed": false
   },
   "outputs": [
    {
     "data": {
      "text/plain": [
       "('a1', 'a2', 'a3')"
      ]
     },
     "execution_count": 208,
     "metadata": {},
     "output_type": "execute_result"
    }
   ],
   "source": [
    "cnt_list"
   ]
  },
  {
   "cell_type": "code",
   "execution_count": 209,
   "metadata": {
    "collapsed": true
   },
   "outputs": [],
   "source": [
    "\n",
    "cnt.set_counters(cnt_list)"
   ]
  },
  {
   "cell_type": "code",
   "execution_count": 210,
   "metadata": {
    "collapsed": false
   },
   "outputs": [
    {
     "data": {
      "text/plain": [
       "CityName: (counter = c1, value = 20),  (counter = c2, value = 1),  (counter = a1, value = 0),  (counter = a2, value = 0),  (counter = a3, value = 0),  (counter = b1, value = 10),  (counter = b2, value = 20),  (counter = b3, value = 30),  (counter = d1, value = 0),  (counter = d2, value = 0),  (counter = d3, value = 0), "
      ]
     },
     "execution_count": 210,
     "metadata": {},
     "output_type": "execute_result"
    }
   ],
   "source": [
    "cnt"
   ]
  },
  {
   "cell_type": "code",
   "execution_count": null,
   "metadata": {
    "collapsed": true
   },
   "outputs": [],
   "source": []
  },
  {
   "cell_type": "code",
   "execution_count": 212,
   "metadata": {
    "collapsed": false
   },
   "outputs": [],
   "source": [
    "#increment a list of counters\n",
    "cnt.increment_counters(cnt_list)\n",
    "for a in cnt_list:\n",
    "    assert cnt.cd[a] == 1\n",
    "\n",
    "cnt.increment_counters(cnt_list, value=(10,10,10))\n",
    "for a in cnt_list:\n",
    "    assert cnt.cd[a] == 11\n",
    "\n"
   ]
  },
  {
   "cell_type": "code",
   "execution_count": 219,
   "metadata": {
    "collapsed": false
   },
   "outputs": [
    {
     "name": "stdout",
     "output_type": "stream",
     "text": [
      "('c1', 'c2', 'a1', 'a2', 'a3', 'b1', 'b2', 'b3', 'd1', 'd2', 'd3')\n",
      "('c1', 'c2', 'a1', 'a2', 'a3', 'b1', 'b2', 'b3', 'd1', 'd2', 'd3')\n"
     ]
    }
   ],
   "source": [
    "# get all counters\n",
    "cc = cnt.counters()\n",
    "print(cc)\n",
    "cc2 = ('c1','c2') + cnt_list + cnt_list2 + cnt_list3\n",
    "print(cc2)\n",
    "for c in cc:\n",
    "    assert c in cc2\n",
    "\n"
   ]
  },
  {
   "cell_type": "code",
   "execution_count": null,
   "metadata": {
    "collapsed": true
   },
   "outputs": [],
   "source": []
  },
  {
   "cell_type": "code",
   "execution_count": 229,
   "metadata": {
    "collapsed": false
   },
   "outputs": [],
   "source": [
    "def test_counters():\n",
    "    cnt = Counter('CityName')\n",
    "    # init by default to zero\n",
    "    cnt.init_counter('c1')\n",
    "    assert cnt.cd['c1'] == 0\n",
    "\n",
    "    # cannot init again\n",
    "    cnt.init_counter('c1', value=10)\n",
    "    assert cnt.cd['c1'] == 0\n",
    "\n",
    "    # but one can set\n",
    "    cnt.set_counter('c1', 10)\n",
    "    assert cnt.cd['c1'] == 10\n",
    "\n",
    "    # init to a value different than cero\n",
    "    cnt.init_counter('c2', value=1)\n",
    "    assert cnt.cd['c2'] == 1\n",
    "\n",
    "    # init a sequence of counters to zero\n",
    "    cnt_list = ('a1', 'a2', 'a3')\n",
    "    cnt.init_counters(cnt_list)\n",
    "    for a in cnt_list:\n",
    "        assert cnt.cd[a] == 0\n",
    "\n",
    "    # set them to diferent values\n",
    "    cnt_values = (10, 20, 30)\n",
    "    cnt.set_counters(cnt_list, value=cnt_values)\n",
    "    for i, a in enumerate(cnt_list):\n",
    "        assert cnt.cd[a] == cnt_values[i]\n",
    "\n",
    "    # init to diferent values\n",
    "    cnt_list2 = ('b1', 'b2', 'b3')\n",
    "    cnt.set_counters(cnt_list2, value=cnt_values)\n",
    "    for i, a in enumerate(cnt_list2):\n",
    "        assert cnt.cd[a] == cnt_values[i]\n",
    "\n",
    "    # cannot re-init\n",
    "    cnt_list3 = ('d1', 'd2', 'd3')\n",
    "    cnt.init_counters(cnt_list3)\n",
    "    for a in (cnt_list3):       \n",
    "        assert cnt.cd[a] == 0\n",
    "    \n",
    "    cnt.init_counters(cnt_list3, value=cnt_values)\n",
    "    for a in (cnt_list3):       \n",
    "        assert cnt.cd[a] == 0\n",
    "\n",
    "    #increment counter (1 by default)\n",
    "    cnt.increment_counter('c1')\n",
    "    assert cnt.cd['c1'] == 11\n",
    "\n",
    "    #increment counter by some value\n",
    "    cnt.increment_counter('c1',value=9)\n",
    "    assert cnt.cd['c1'] == 20\n",
    "    \n",
    "    cnt.set_counters(cnt_list)\n",
    "    #print(cnt)\n",
    "\n",
    "    #increment a list of counters\n",
    "    cnt.increment_counters(cnt_list)\n",
    "    #print(cnt)\n",
    "    for a in cnt_list:\n",
    "        assert cnt.cd[a] == 1\n",
    "\n",
    "    cnt.increment_counters(cnt_list, value=(10,10,10))\n",
    "    for a in cnt_list:\n",
    "        assert cnt.cd[a] == 11\n",
    "\n",
    "\n",
    "    cc = cnt.counters()\n",
    "\n",
    "    cc2 = ('c1','c2') + cnt_list + cnt_list2 + cnt_list3\n",
    "\n",
    "    for c in cc:\n",
    "        assert c in cc2\n",
    "    \n",
    "    #counter value\n",
    "    assert cnt.counter_value('c1') == 20\n",
    "    assert cnt.counter_value('c2') == 1\n",
    "    \n"
   ]
  },
  {
   "cell_type": "code",
   "execution_count": 230,
   "metadata": {
    "collapsed": false
   },
   "outputs": [],
   "source": [
    "test_counters()"
   ]
  },
  {
   "cell_type": "code",
   "execution_count": null,
   "metadata": {
    "collapsed": true
   },
   "outputs": [],
   "source": []
  },
  {
   "cell_type": "code",
   "execution_count": 125,
   "metadata": {
    "collapsed": false
   },
   "outputs": [
    {
     "name": "stdout",
     "output_type": "stream",
     "text": [
      "irene:\n"
     ]
    }
   ],
   "source": [
    "print(icc)"
   ]
  },
  {
   "cell_type": "code",
   "execution_count": 126,
   "metadata": {
    "collapsed": false
   },
   "outputs": [],
   "source": [
    "icc.init_counters(('total', 'pass_cut_1', 'pass_cut_2'))"
   ]
  },
  {
   "cell_type": "code",
   "execution_count": 127,
   "metadata": {
    "collapsed": false
   },
   "outputs": [
    {
     "data": {
      "text/plain": [
       "irene: (counter = total, value = 0),  (counter = pass_cut_1, value = 0),  (counter = pass_cut_2, value = 0), "
      ]
     },
     "execution_count": 127,
     "metadata": {},
     "output_type": "execute_result"
    }
   ],
   "source": [
    "icc"
   ]
  },
  {
   "cell_type": "code",
   "execution_count": 128,
   "metadata": {
    "collapsed": false
   },
   "outputs": [],
   "source": [
    "icc.increment_counters(('total', 'pass_cut_1'))"
   ]
  },
  {
   "cell_type": "code",
   "execution_count": 129,
   "metadata": {
    "collapsed": false
   },
   "outputs": [
    {
     "data": {
      "text/plain": [
       "irene: (counter = total, value = 1),  (counter = pass_cut_1, value = 1),  (counter = pass_cut_2, value = 0), "
      ]
     },
     "execution_count": 129,
     "metadata": {},
     "output_type": "execute_result"
    }
   ],
   "source": [
    "icc"
   ]
  },
  {
   "cell_type": "code",
   "execution_count": 130,
   "metadata": {
    "collapsed": false
   },
   "outputs": [],
   "source": [
    "icc.increment_counter('pass_cut_1',10)"
   ]
  },
  {
   "cell_type": "code",
   "execution_count": 131,
   "metadata": {
    "collapsed": false
   },
   "outputs": [
    {
     "data": {
      "text/plain": [
       "irene: (counter = total, value = 1),  (counter = pass_cut_1, value = 11),  (counter = pass_cut_2, value = 0), "
      ]
     },
     "execution_count": 131,
     "metadata": {},
     "output_type": "execute_result"
    }
   ],
   "source": [
    "icc"
   ]
  },
  {
   "cell_type": "code",
   "execution_count": 132,
   "metadata": {
    "collapsed": false
   },
   "outputs": [],
   "source": [
    "icc.reset_counter('pass_cut_1',0)"
   ]
  },
  {
   "cell_type": "code",
   "execution_count": 133,
   "metadata": {
    "collapsed": false
   },
   "outputs": [
    {
     "data": {
      "text/plain": [
       "irene: (counter = total, value = 1),  (counter = pass_cut_1, value = 0),  (counter = pass_cut_2, value = 0), "
      ]
     },
     "execution_count": 133,
     "metadata": {},
     "output_type": "execute_result"
    }
   ],
   "source": [
    "icc"
   ]
  },
  {
   "cell_type": "code",
   "execution_count": 134,
   "metadata": {
    "collapsed": false
   },
   "outputs": [
    {
     "data": {
      "text/plain": [
       "('total', 'pass_cut_1', 'pass_cut_2')"
      ]
     },
     "execution_count": 134,
     "metadata": {},
     "output_type": "execute_result"
    }
   ],
   "source": [
    "icc.counters()"
   ]
  },
  {
   "cell_type": "code",
   "execution_count": 135,
   "metadata": {
    "collapsed": true
   },
   "outputs": [],
   "source": [
    "icc.reset_counters(icc.counters())"
   ]
  },
  {
   "cell_type": "code",
   "execution_count": 136,
   "metadata": {
    "collapsed": false
   },
   "outputs": [
    {
     "data": {
      "text/plain": [
       "irene: (counter = total, value = 0),  (counter = pass_cut_1, value = 0),  (counter = pass_cut_2, value = 0), "
      ]
     },
     "execution_count": 136,
     "metadata": {},
     "output_type": "execute_result"
    }
   ],
   "source": [
    "icc"
   ]
  },
  {
   "cell_type": "code",
   "execution_count": null,
   "metadata": {
    "collapsed": true
   },
   "outputs": [],
   "source": []
  },
  {
   "cell_type": "code",
   "execution_count": null,
   "metadata": {
    "collapsed": true
   },
   "outputs": [],
   "source": []
  }
 ],
 "metadata": {
  "kernelspec": {
   "display_name": "Python 3",
   "language": "python",
   "name": "python3"
  },
  "language_info": {
   "codemirror_mode": {
    "name": "ipython",
    "version": 3
   },
   "file_extension": ".py",
   "mimetype": "text/x-python",
   "name": "python",
   "nbconvert_exporter": "python",
   "pygments_lexer": "ipython3",
   "version": "3.6.0"
  }
 },
 "nbformat": 4,
 "nbformat_minor": 2
}
