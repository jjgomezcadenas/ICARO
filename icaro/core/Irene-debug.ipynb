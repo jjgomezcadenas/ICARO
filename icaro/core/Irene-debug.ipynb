{
 "cells": [
  {
   "cell_type": "code",
   "execution_count": 1,
   "metadata": {
    "collapsed": false
   },
   "outputs": [
    {
     "name": "stdout",
     "output_type": "stream",
     "text": [
      "2017-07-04 21:40:22\n"
     ]
    }
   ],
   "source": [
    "import os\n",
    "import datetime\n",
    "print(datetime.datetime.now().strftime('%Y-%m-%d %H:%M:%S'))\n",
    "\n",
    "import time\n",
    "import glob\n",
    "import tables as tb\n",
    "import numpy as np\n",
    "import pandas as pd\n",
    "import matplotlib.pyplot as plt\n",
    "from functools import reduce"
   ]
  },
  {
   "cell_type": "code",
   "execution_count": 2,
   "metadata": {
    "collapsed": false
   },
   "outputs": [],
   "source": [
    "%matplotlib inline\n",
    "%load_ext autoreload\n",
    "%autoreload 2\n",
    "\n",
    "plt.rcParams[\"figure.figsize\"] = 10, 8\n",
    "plt.rcParams[\"font.size\"     ] = 14"
   ]
  },
  {
   "cell_type": "code",
   "execution_count": 39,
   "metadata": {
    "collapsed": false
   },
   "outputs": [],
   "source": [
    "from invisible_cities.database import load_db\n",
    "\n",
    "import invisible_cities.sierpe.blr as blr\n",
    "\n",
    "import invisible_cities.reco.tbl_functions as tbl\n",
    "import invisible_cities.reco.peak_functions as pf\n",
    "import invisible_cities.reco.peak_functions_c as cpf\n",
    "\n",
    "from   invisible_cities.reco.params           import S12Params \n",
    "from   invisible_cities.reco.params           import CalibVectors\n",
    "from   invisible_cities.reco.params           import DeconvParams\n",
    "from   invisible_cities.reco.params           import ThresholdParams\n",
    "\n",
    "from   invisible_cities.core.system_of_units_c import units\n",
    "from   invisible_cities.core.ic_types import minmax\n",
    "import invisible_cities.icaro.mpl_functions as mpl\n",
    "from invisible_cities.icaro.pmaps_mpl import plot_s12\n",
    "from invisible_cities.icaro.pmaps_mpl import plot_s2si_map"
   ]
  },
  {
   "cell_type": "code",
   "execution_count": 4,
   "metadata": {
    "collapsed": true
   },
   "outputs": [],
   "source": [
    "import invisible_cities.icaro.mpl_functions as mpl"
   ]
  },
  {
   "cell_type": "code",
   "execution_count": 5,
   "metadata": {
    "collapsed": false
   },
   "outputs": [],
   "source": [
    "import invisible_cities.reco.event_model as evm\n",
    "from invisible_cities.core.ic_types import minmax"
   ]
  },
  {
   "cell_type": "code",
   "execution_count": 6,
   "metadata": {
    "collapsed": false
   },
   "outputs": [],
   "source": [
    "from invisible_cities.evm.pmaps import S12\n",
    "from invisible_cities.evm.pmaps import S1\n",
    "from invisible_cities.evm.pmaps import S2\n",
    "from invisible_cities.evm.pmaps import S2Si"
   ]
  },
  {
   "cell_type": "code",
   "execution_count": 7,
   "metadata": {
    "collapsed": true
   },
   "outputs": [],
   "source": [
    "from invisible_cities.core.exceptions        import SipmEmptyList\n",
    "from invisible_cities.core.exceptions        import SipmNotFound\n",
    "from invisible_cities.core.exceptions        import PeakNotFound"
   ]
  },
  {
   "cell_type": "code",
   "execution_count": 8,
   "metadata": {
    "collapsed": false
   },
   "outputs": [],
   "source": [
    "run_number = 0\n",
    "DataPMT = load_db.DataPMT(run_number)\n",
    "DataSiPM = load_db.DataSiPM(run_number)\n",
    "xs = DataSiPM.X.values\n",
    "ys = DataSiPM.Y.values\n",
    "pmt_active = np.nonzero(DataPMT.Active.values)[0].tolist()"
   ]
  },
  {
   "cell_type": "code",
   "execution_count": 9,
   "metadata": {
    "collapsed": true
   },
   "outputs": [],
   "source": [
    "channel_id = DataPMT.ChannelID.values\n",
    "coeff_blr = abs(DataPMT.coeff_blr.values)\n",
    "coeff_c = abs(DataPMT.coeff_c .values)\n",
    "adc_to_pes = abs(DataPMT.adc_to_pes.values)\n",
    "adc_to_pes_sipm = abs(DataSiPM.adc_to_pes.values)"
   ]
  },
  {
   "cell_type": "code",
   "execution_count": 10,
   "metadata": {
    "collapsed": false
   },
   "outputs": [],
   "source": [
    "from invisible_cities.reco.dst_functions  import load_dst"
   ]
  },
  {
   "cell_type": "code",
   "execution_count": 11,
   "metadata": {
    "collapsed": true
   },
   "outputs": [],
   "source": [
    "event=0"
   ]
  },
  {
   "cell_type": "code",
   "execution_count": 12,
   "metadata": {
    "collapsed": false
   },
   "outputs": [
    {
     "name": "stdout",
     "output_type": "stream",
     "text": [
      "####################\n",
      "SensorParams\n",
      "####################\n",
      "npmt: 12\n",
      "pmtwl: 48000\n",
      "nsipm: 1792\n",
      "sipmwl: 1200\n",
      "\n"
     ]
    }
   ],
   "source": [
    "filename = '/Users/jjgomezcadenas/Projects/ICDATA/MC/cs_rwf_1000.root.h5'\n",
    "input_files = [filename]\n",
    "h5rwf = tb.open_file(filename, \"r\") \n",
    "NEVT, pmtrwf, sipmrwf, _ = tbl.get_rwf_vectors(h5rwf)\n",
    "sp = tbl.get_sensor_params_from_vectors(pmtrwf, sipmrwf)\n",
    "print(sp)"
   ]
  },
  {
   "cell_type": "markdown",
   "metadata": {},
   "source": [
    "### Reconstruction Parameters"
   ]
  },
  {
   "cell_type": "code",
   "execution_count": 13,
   "metadata": {
    "collapsed": false
   },
   "outputs": [],
   "source": [
    "calib_vectors = CalibVectors(channel_id = DataPMT.ChannelID.values,\n",
    "                             coeff_blr = abs(DataPMT.coeff_blr   .values),\n",
    "                             coeff_c = abs(DataPMT.coeff_c   .values),\n",
    "                             adc_to_pes = DataPMT.adc_to_pes.values,\n",
    "                             adc_to_pes_sipm = DataSiPM.adc_to_pes.values,\n",
    "                             pmt_active = np.nonzero(DataPMT.Active.values)[0].tolist())\n",
    "\n",
    "\n",
    "deconv_params = DeconvParams(n_baseline = 45000,\n",
    "                              thr_trigger = 5)\n",
    "\n",
    "s1par = S12Params(time = minmax(min    = 99 * units.mus,\n",
    "                           max    = 101 * units.mus),\n",
    "                           stride = 4,\n",
    "                           length = minmax(min = 4, max = 20),  #250 ns -- 50 ns\n",
    "                           rebin  = False)\n",
    "\n",
    "s2par = S12Params(time = minmax(min    = 101 * units.mus,\n",
    "                           max    = 1199 * units.mus),\n",
    "                           stride = 40,\n",
    "                           length = minmax(min = 80, max = 1e5),  # 4 mus --\n",
    "                           rebin  = True)\n",
    "\n",
    "thresholds = ThresholdParams(thr_s1=0.2 * units.pes,\n",
    "                      thr_s2=1.0 * units.pes,\n",
    "                      thr_MAU=3*units.adc,\n",
    "                      thr_sipm=3.5*units.pes,\n",
    "                      thr_SIPM=10*units.pes)\n",
    "\n"
   ]
  },
  {
   "cell_type": "markdown",
   "metadata": {},
   "source": [
    "#### Deconvolution"
   ]
  },
  {
   "cell_type": "code",
   "execution_count": 14,
   "metadata": {
    "collapsed": true
   },
   "outputs": [],
   "source": [
    "CWF = blr.deconv_pmt(pmtrwf[event], coeff_c, coeff_blr,\n",
    "                         pmt_active  = pmt_active,\n",
    "                         n_baseline  = deconv_params.n_baseline,\n",
    "                         thr_trigger = deconv_params.thr_trigger)"
   ]
  },
  {
   "cell_type": "markdown",
   "metadata": {},
   "source": [
    "#### csum"
   ]
  },
  {
   "cell_type": "code",
   "execution_count": 15,
   "metadata": {
    "collapsed": false
   },
   "outputs": [],
   "source": [
    "csum, csum_mau = cpf.calibrated_pmt_sum(CWF,\n",
    "                                            adc_to_pes,\n",
    "                                            pmt_active  = pmt_active,\n",
    "                                            n_MAU       = 100,\n",
    "                                            thr_MAU     = thresholds.thr_MAU)"
   ]
  },
  {
   "cell_type": "code",
   "execution_count": 16,
   "metadata": {
    "collapsed": false
   },
   "outputs": [
    {
     "data": {
      "image/png": "[encoded data removed]",
      "text/plain": [
       "<matplotlib.figure.Figure at 0x119a0f0f0>"
      ]
     },
     "metadata": {},
     "output_type": "display_data"
    }
   ],
   "source": [
    "mpl.plot_signal_vs_time_mus(csum,\n",
    "                        t_min      = 0,\n",
    "                        t_max      = 1200,\n",
    "                        signal_min =    0,\n",
    "                        signal_max =  60,\n",
    "                        figsize=(6,6))"
   ]
  },
  {
   "cell_type": "markdown",
   "metadata": {},
   "source": [
    "#### S1 and S2"
   ]
  },
  {
   "cell_type": "code",
   "execution_count": 17,
   "metadata": {
    "collapsed": true
   },
   "outputs": [],
   "source": [
    "s2_ene, s2_indx = cpf.wfzs(csum, threshold=thresholds.thr_s2)\n",
    "s1_ene, s1_indx = cpf.wfzs(csum_mau, threshold=thresholds.thr_s1)"
   ]
  },
  {
   "cell_type": "code",
   "execution_count": 18,
   "metadata": {
    "collapsed": false
   },
   "outputs": [],
   "source": [
    "s1d = cpf.find_s12(csum, s1_indx, **s1par._asdict())\n",
    "s2d = cpf.find_s12(csum, s2_indx, **s2par._asdict())"
   ]
  },
  {
   "cell_type": "code",
   "execution_count": 19,
   "metadata": {
    "collapsed": true
   },
   "outputs": [],
   "source": [
    "s1dd = cpf.find_S12(csum, s1_indx, **s1par._asdict())\n",
    "s2dd = cpf.find_S12(csum, s2_indx, **s2par._asdict())"
   ]
  },
  {
   "cell_type": "code",
   "execution_count": 20,
   "metadata": {
    "collapsed": false
   },
   "outputs": [
    {
     "data": {
      "text/plain": [
       "{0: [array([ 100050.,  100075.,  100100.,  100125.,  100150.,  100175.,\n",
       "          100200.,  100225.,  100250.]),\n",
       "  array([ 1.91426986,  4.42765828,  6.69145339,  6.22994729,  3.53204121,\n",
       "          1.99270309,  1.82356258,  1.41285893,  0.94242468])]}"
      ]
     },
     "execution_count": 20,
     "metadata": {},
     "output_type": "execute_result"
    }
   ],
   "source": [
    "s1d"
   ]
  },
  {
   "cell_type": "code",
   "execution_count": 21,
   "metadata": {
    "collapsed": false
   },
   "outputs": [
    {
     "data": {
      "text/plain": [
       "{0: [array([ 100050.,  100075.,  100100.,  100125.,  100150.,  100175.,\n",
       "          100200.,  100225.,  100250.]),\n",
       "  array([ 1.91426986,  4.42765828,  6.69145339,  6.22994729,  3.53204121,\n",
       "          1.99270309,  1.82356258,  1.41285893,  0.94242468])]}"
      ]
     },
     "execution_count": 21,
     "metadata": {},
     "output_type": "execute_result"
    }
   ],
   "source": [
    "s1dd"
   ]
  },
  {
   "cell_type": "code",
   "execution_count": 22,
   "metadata": {
    "collapsed": false
   },
   "outputs": [],
   "source": [
    "s1 = S1(s1d)"
   ]
  },
  {
   "cell_type": "code",
   "execution_count": 23,
   "metadata": {
    "collapsed": false
   },
   "outputs": [
    {
     "data": {
      "image/png": "[encoded data removed]",
      "text/plain": [
       "<matplotlib.figure.Figure at 0x11a1ddc88>"
      ]
     },
     "metadata": {},
     "output_type": "display_data"
    }
   ],
   "source": [
    "plot_s12(s1)"
   ]
  },
  {
   "cell_type": "code",
   "execution_count": 24,
   "metadata": {
    "collapsed": false
   },
   "outputs": [
    {
     "data": {
      "text/plain": [
       "S1 (number of peaks = 1)\n",
       "peak number = 0: Peak(samples = 9 width =      0.2 mus , energy =     29.0 pes\n",
       "        height =      6.7 pes tmin-tmax = minmax(min=100.05, max=100.25) mus  "
      ]
     },
     "execution_count": 24,
     "metadata": {},
     "output_type": "execute_result"
    }
   ],
   "source": [
    "s1"
   ]
  },
  {
   "cell_type": "code",
   "execution_count": 25,
   "metadata": {
    "collapsed": false
   },
   "outputs": [
    {
     "name": "stdout",
     "output_type": "stream",
     "text": [
      "S1 (number of peaks = 1)\n",
      "peak number = 0: Peak(samples = 9 width =      0.2 mus , energy =     29.0 pes\n",
      "        height =      6.7 pes tmin-tmax = minmax(min=100.05, max=100.25) mus  \n",
      "\n"
     ]
    }
   ],
   "source": [
    "print(s1)"
   ]
  },
  {
   "cell_type": "code",
   "execution_count": 26,
   "metadata": {
    "collapsed": true
   },
   "outputs": [],
   "source": [
    "s2 = S2(s2d)"
   ]
  },
  {
   "cell_type": "code",
   "execution_count": 27,
   "metadata": {
    "collapsed": false
   },
   "outputs": [
    {
     "name": "stdout",
     "output_type": "stream",
     "text": [
      "S2 (number of peaks = 2)\n",
      "peak number = 0: Peak(samples = 14 width =     12.3 mus , energy =  11685.8 pes\n",
      "        height =   2109.0 pes tmin-tmax = minmax(min=551.875, max=564.2) mus  \n",
      "peak number = 1: Peak(samples = 12 width =     10.5 mus , energy =   3621.4 pes\n",
      "        height =    635.5 pes tmin-tmax = minmax(min=598.9375, max=609.4125) mus  \n",
      "\n"
     ]
    }
   ],
   "source": [
    "print(s2)"
   ]
  },
  {
   "cell_type": "code",
   "execution_count": 28,
   "metadata": {
    "collapsed": false
   },
   "outputs": [
    {
     "data": {
      "image/png": "[encoded data removed]",
      "text/plain": [
       "<matplotlib.figure.Figure at 0x1198bca20>"
      ]
     },
     "metadata": {},
     "output_type": "display_data"
    }
   ],
   "source": [
    "plot_s12(s2)"
   ]
  },
  {
   "cell_type": "markdown",
   "metadata": {},
   "source": [
    "#### S2Si"
   ]
  },
  {
   "cell_type": "code",
   "execution_count": 29,
   "metadata": {
    "collapsed": true
   },
   "outputs": [],
   "source": [
    "sipmzs= cpf.signal_sipm(sipmrwf[event], adc_to_pes_sipm,\n",
    "                           thr=thresholds.thr_sipm, n_MAU=100)"
   ]
  },
  {
   "cell_type": "code",
   "execution_count": 30,
   "metadata": {
    "collapsed": false
   },
   "outputs": [],
   "source": [
    "s2sid = cpf.sipm_s2_dict(sipmzs, s2d, thr=thresholds.thr_SIPM)"
   ]
  },
  {
   "cell_type": "code",
   "execution_count": 31,
   "metadata": {
    "collapsed": false
   },
   "outputs": [
    {
     "data": {
      "text/plain": [
       "{0: {1122: array([ 0.        ,  0.        ,  0.        ,  5.03221248,  0.        ,\n",
       "          0.        ,  0.        ,  6.00405339,  0.        ,  0.        ,\n",
       "          0.        ,  0.        ,  0.        ,  0.        ]),\n",
       "  1123: array([  0.        ,   0.        ,   0.        ,   6.05928445,\n",
       "          10.79021289,   8.01079243,   8.06992904,   5.05396215,\n",
       "           0.        ,   0.        ,   0.        ,   0.        ,\n",
       "           0.        ,   0.        ]),\n",
       "  1124: array([ 0.        ,  0.        ,  0.        ,  0.        ,  6.12187109,\n",
       "          0.        ,  6.81023154,  0.        ,  0.        ,  0.        ,\n",
       "          0.        ,  0.        ,  0.        ,  0.        ]),\n",
       "  1130: array([  0.        ,   0.        ,   0.        ,  11.94980424,\n",
       "          14.84377785,   8.93000568,  15.97620231,  16.91988936,\n",
       "           6.91680665,   3.77118315,   0.        ,   0.        ,\n",
       "           0.        ,   0.        ]),\n",
       "  1131: array([  0.        ,   4.90851421,   0.        ,  11.01832136,\n",
       "          18.82193643,  27.77492116,  23.72188077,  23.90336019,\n",
       "          14.82938918,   3.88013083,   5.02950049,   0.        ,\n",
       "           0.        ,   0.        ]),\n",
       "  1132: array([ 0.        ,  0.        ,  0.        ,  4.99159984,  7.74836891,\n",
       "          9.96577012,  9.96577012,  4.99159984,  9.06682368,  3.97279389,\n",
       "          0.        ,  0.        ,  0.        ,  0.        ]),\n",
       "  1138: array([  0.        ,   0.        ,   0.        ,   3.98495889,\n",
       "           3.98495889,  11.06408645,  15.7631625 ,   9.66046633,\n",
       "           6.6701452 ,   0.        ,   0.        ,   0.        ,\n",
       "           0.        ,   0.        ]),\n",
       "  1139: array([  0.        ,   0.        ,   5.85473944,  10.02230066,\n",
       "          13.93728241,  21.00950751,  16.90509116,  21.83039078,\n",
       "           6.92820218,   0.        ,   0.        ,   0.        ,\n",
       "           0.        ,   0.        ]),\n",
       "  1140: array([ 0.        ,  0.        ,  0.        ,  0.        ,  8.11471699,\n",
       "          8.6759913 ,  5.81349229,  0.        ,  5.81349229,  0.        ,\n",
       "          0.        ,  0.        ,  0.        ,  0.        ]),\n",
       "  1147: array([ 0.        ,  0.        ,  0.        ,  0.        ,  4.77512749,\n",
       "          0.        ,  3.79328543,  5.020588  ,  0.        ,  0.        ,\n",
       "          0.        ,  0.        ,  0.        ,  0.        ])},\n",
       " 1: {757: array([  0.        ,  10.36552872,   0.        ,   0.        ,\n",
       "           0.        ,   0.        ,   0.        ,   0.        ,\n",
       "          13.41999571,   0.        ,   0.        ,   0.        ]),\n",
       "  1134: array([  0.        ,   0.        ,   0.        ,   0.        ,\n",
       "           7.09421192,  10.98298115,   8.11127464,   0.        ,\n",
       "           3.98319653,   0.        ,   0.        ,   0.        ]),\n",
       "  1142: array([ 0.        ,  0.        ,  0.        ,  0.        ,  0.        ,\n",
       "          0.        ,  6.98315083,  5.08148534,  0.        ,  0.        ,\n",
       "          0.        ,  0.        ]),\n",
       "  1313: array([  0.        ,   0.        ,   0.        ,   0.        ,\n",
       "           0.        ,   0.        ,  12.84912551,   0.        ,\n",
       "           0.        ,   0.        ,   0.        ,   0.        ]),\n",
       "  1331: array([ 8.84933682,  0.        ,  0.        ,  0.        ,  0.        ,\n",
       "          6.82137553,  0.        ,  0.        ,  6.82137553,  0.        ,\n",
       "          0.        ,  0.        ])}}"
      ]
     },
     "execution_count": 31,
     "metadata": {},
     "output_type": "execute_result"
    }
   ],
   "source": [
    "s2sid"
   ]
  },
  {
   "cell_type": "code",
   "execution_count": 32,
   "metadata": {
    "collapsed": false
   },
   "outputs": [],
   "source": [
    "#s2sid = cpf.sipm_s2_dict(SIPM, s2d, thr=thresholds.thr_SIPM)"
   ]
  },
  {
   "cell_type": "code",
   "execution_count": 33,
   "metadata": {
    "collapsed": false
   },
   "outputs": [],
   "source": [
    "s2si = S2Si(s2d, s2sid)"
   ]
  },
  {
   "cell_type": "code",
   "execution_count": 34,
   "metadata": {
    "collapsed": false
   },
   "outputs": [
    {
     "data": {
      "text/plain": [
       "================================================================================\n",
       "S2 (number of peaks = 2)\n",
       "peak number = 0: Peak(samples = 14 width =     12.3 mus , energy =  11685.8 pes\n",
       "        height =   2109.0 pes tmin-tmax = minmax(min=551.875, max=564.2) mus  \n",
       "peak number = 1: Peak(samples = 12 width =     10.5 mus , energy =   3621.4 pes\n",
       "        height =    635.5 pes tmin-tmax = minmax(min=598.9375, max=609.4125) mus  \n",
       "--------------------------------------------------------------------------------\n",
       "SiPMs for non-empty peaks\n",
       "\n",
       "peak number = 0: nsipm in peak = (1122, 1123, 1124, 1130, 1131, 1132, 1138, 1139, 1140, 1147)\n",
       "\n",
       "peak number = 1: nsipm in peak = (757, 1134, 1142, 1313, 1331)\n",
       "--------------------------------------------------------------------------------\n",
       "SiPMs Waveforms\n",
       "\n",
       "peak number = 0: sipm number = 1122\n",
       "    sipm waveform (zs) = Peak(samples = 2 width =      4.0 mus , energy =     11.0 pes\n",
       "        height =      6.0 pes tmin-tmax = minmax(min=554.5, max=558.5) mus \n",
       "peak number = 0: sipm number = 1123\n",
       "    sipm waveform (zs) = Peak(samples = 5 width =      4.0 mus , energy =     38.0 pes\n",
       "        height =     10.8 pes tmin-tmax = minmax(min=554.5, max=558.5) mus \n",
       "peak number = 0: sipm number = 1124\n",
       "    sipm waveform (zs) = Peak(samples = 2 width =      2.0 mus , energy =     12.9 pes\n",
       "        height =      6.8 pes tmin-tmax = minmax(min=555.5, max=557.5) mus \n",
       "peak number = 0: sipm number = 1130\n",
       "    sipm waveform (zs) = Peak(samples = 7 width =      6.0 mus , energy =     79.3 pes\n",
       "        height =     16.9 pes tmin-tmax = minmax(min=554.5, max=560.5) mus \n",
       "peak number = 0: sipm number = 1131\n",
       "    sipm waveform (zs) = Peak(samples = 9 width =      9.0 mus , energy =    133.9 pes\n",
       "        height =     27.8 pes tmin-tmax = minmax(min=552.5, max=561.5) mus \n",
       "peak number = 0: sipm number = 1132\n",
       "    sipm waveform (zs) = Peak(samples = 7 width =      6.0 mus , energy =     50.7 pes\n",
       "        height =     10.0 pes tmin-tmax = minmax(min=554.5, max=560.5) mus \n",
       "peak number = 0: sipm number = 1138\n",
       "    sipm waveform (zs) = Peak(samples = 6 width =      5.0 mus , energy =     51.1 pes\n",
       "        height =     15.8 pes tmin-tmax = minmax(min=554.5, max=559.5) mus \n",
       "peak number = 0: sipm number = 1139\n",
       "    sipm waveform (zs) = Peak(samples = 7 width =      6.0 mus , energy =     96.5 pes\n",
       "        height =     21.8 pes tmin-tmax = minmax(min=553.5, max=559.5) mus \n",
       "peak number = 0: sipm number = 1140\n",
       "    sipm waveform (zs) = Peak(samples = 4 width =      4.0 mus , energy =     28.4 pes\n",
       "        height =      8.7 pes tmin-tmax = minmax(min=555.5, max=559.5) mus \n",
       "peak number = 0: sipm number = 1147\n",
       "    sipm waveform (zs) = Peak(samples = 3 width =      3.0 mus , energy =     13.6 pes\n",
       "        height =      5.0 pes tmin-tmax = minmax(min=555.5, max=558.5) mus \n",
       "peak number = 1: sipm number = 757\n",
       "    sipm waveform (zs) = Peak(samples = 2 width =      7.0 mus , energy =     23.8 pes\n",
       "        height =     13.4 pes tmin-tmax = minmax(min=599.5, max=606.5) mus \n",
       "peak number = 1: sipm number = 1134\n",
       "    sipm waveform (zs) = Peak(samples = 4 width =      4.0 mus , energy =     30.2 pes\n",
       "        height =     11.0 pes tmin-tmax = minmax(min=602.5, max=606.5) mus \n",
       "peak number = 1: sipm number = 1142\n",
       "    sipm waveform (zs) = Peak(samples = 2 width =      1.0 mus , energy =     12.1 pes\n",
       "        height =      7.0 pes tmin-tmax = minmax(min=604.5, max=605.5) mus \n",
       "peak number = 1: sipm number = 1313\n",
       "    sipm waveform (zs) = Peak(samples = 1 width =      0.0 mus , energy =     12.8 pes\n",
       "        height =     12.8 pes tmin-tmax = minmax(min=604.5, max=604.5) mus \n",
       "peak number = 1: sipm number = 1331\n",
       "    sipm waveform (zs) = Peak(samples = 3 width =      7.6 mus , energy =     22.5 pes\n",
       "        height =      8.8 pes tmin-tmax = minmax(min=598.9375, max=606.5) mus \n",
       "================================================================================"
      ]
     },
     "execution_count": 34,
     "metadata": {},
     "output_type": "execute_result"
    }
   ],
   "source": [
    "s2si"
   ]
  },
  {
   "cell_type": "code",
   "execution_count": 36,
   "metadata": {
    "collapsed": false
   },
   "outputs": [
    {
     "data": {
      "text/plain": [
       "2"
      ]
     },
     "execution_count": 36,
     "metadata": {},
     "output_type": "execute_result"
    }
   ],
   "source": [
    "s2si.number_of_peaks"
   ]
  },
  {
   "cell_type": "code",
   "execution_count": 37,
   "metadata": {
    "collapsed": false
   },
   "outputs": [
    {
     "data": {
      "text/plain": [
       "(1122, 1123, 1124, 1130, 1131, 1132, 1138, 1139, 1140, 1147)"
      ]
     },
     "execution_count": 37,
     "metadata": {},
     "output_type": "execute_result"
    }
   ],
   "source": [
    "s2si.sipms_in_peak(0)"
   ]
  },
  {
   "cell_type": "code",
   "execution_count": 38,
   "metadata": {
    "collapsed": false
   },
   "outputs": [
    {
     "data": {
      "text/plain": [
       "(757, 1134, 1142, 1313, 1331)"
      ]
     },
     "execution_count": 38,
     "metadata": {},
     "output_type": "execute_result"
    }
   ],
   "source": [
    "s2si.sipms_in_peak(1)"
   ]
  },
  {
   "cell_type": "code",
   "execution_count": 41,
   "metadata": {
    "collapsed": false
   },
   "outputs": [
    {
     "data": {
      "image/png": "[encoded data removed]",
      "text/plain": [
       "<matplotlib.figure.Figure at 0x11a294400>"
      ]
     },
     "metadata": {},
     "output_type": "display_data"
    }
   ],
   "source": [
    "plot_s2si_map(s2si)"
   ]
  },
  {
   "cell_type": "code",
   "execution_count": 42,
   "metadata": {
    "collapsed": true
   },
   "outputs": [],
   "source": [
    "trk = [(sipm_no, xs[sipm_no], ys[sipm_no])\n",
    "        for sipm_no in s2si.sipms_in_peak(0)]"
   ]
  },
  {
   "cell_type": "code",
   "execution_count": 43,
   "metadata": {
    "collapsed": false
   },
   "outputs": [
    {
     "data": {
      "text/plain": [
       "[(1122, 45.0, -55.0),\n",
       " (1123, 45.0, -45.0),\n",
       " (1124, 45.0, -35.0),\n",
       " (1130, 55.0, -55.0),\n",
       " (1131, 55.0, -45.0),\n",
       " (1132, 55.0, -35.0),\n",
       " (1138, 65.0, -55.0),\n",
       " (1139, 65.0, -45.0),\n",
       " (1140, 65.0, -35.0),\n",
       " (1147, 75.0, -45.0)]"
      ]
     },
     "execution_count": 43,
     "metadata": {},
     "output_type": "execute_result"
    }
   ],
   "source": [
    "trk"
   ]
  },
  {
   "cell_type": "code",
   "execution_count": null,
   "metadata": {
    "collapsed": true
   },
   "outputs": [],
   "source": []
  }
 ],
 "metadata": {
  "kernelspec": {
   "display_name": "Python 3",
   "language": "python",
   "name": "python3"
  },
  "language_info": {
   "codemirror_mode": {
    "name": "ipython",
    "version": 3
   },
   "file_extension": ".py",
   "mimetype": "text/x-python",
   "name": "python",
   "nbconvert_exporter": "python",
   "pygments_lexer": "ipython3",
   "version": "3.6.0"
  }
 },
 "nbformat": 4,
 "nbformat_minor": 2
}
