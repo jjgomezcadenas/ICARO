{
 "cells": [
  {
   "cell_type": "code",
   "execution_count": 1,
   "metadata": {
    "collapsed": false
   },
   "outputs": [
    {
     "name": "stdout",
     "output_type": "stream",
     "text": [
      "2017-08-22 15:51:40\n"
     ]
    }
   ],
   "source": [
    "import os\n",
    "import datetime\n",
    "print(datetime.datetime.now().strftime('%Y-%m-%d %H:%M:%S'))\n",
    "\n",
    "import time\n",
    "import glob\n",
    "import tables as tb\n",
    "import numpy as np\n",
    "import pandas as pd\n",
    "import matplotlib.pyplot as plt\n",
    "from functools import reduce"
   ]
  },
  {
   "cell_type": "code",
   "execution_count": 2,
   "metadata": {
    "collapsed": false
   },
   "outputs": [],
   "source": [
    "%matplotlib inline\n",
    "%load_ext autoreload\n",
    "%autoreload 2\n",
    "\n",
    "plt.rcParams[\"figure.figsize\"] = 10, 8\n",
    "plt.rcParams[\"font.size\"     ] = 14"
   ]
  },
  {
   "cell_type": "code",
   "execution_count": 55,
   "metadata": {
    "collapsed": false
   },
   "outputs": [],
   "source": [
    "from invisible_cities.database import load_db\n",
    "\n",
    "from invisible_cities.types.ic_types          import Counter\n",
    "import invisible_cities.reco.tbl_functions as tbl\n",
    "import invisible_cities.reco.peak_functions as pf\n",
    "import invisible_cities.reco.peak_functions_c as cpf\n",
    "from   invisible_cities.reco import pmaps_functions_c  as cpmp\n",
    "from   invisible_cities.reco.xy_algorithms      import corona\n",
    "\n",
    "from   invisible_cities.evm.ic_containers           import S12Params \n",
    "from   invisible_cities.evm.ic_containers          import CalibVectors\n",
    "from   invisible_cities.evm.ic_containers          import DeconvParams\n",
    "from   invisible_cities.evm.ic_containers          import ThresholdParams\n",
    "\n",
    "from   invisible_cities.core.system_of_units_c import units\n",
    "from   invisible_cities.types.ic_types import minmax\n",
    "from   invisible_cities.types.ic_types import Counter\n",
    "import invisible_cities.icaro.mpl_functions as mpl\n",
    "from invisible_cities.icaro.pmaps_mpl import plot_s12\n",
    "from invisible_cities.icaro.pmaps_mpl import plot_s2si_map\n",
    "from   invisible_cities.icaro.mpl_functions   import draw_pmt_map"
   ]
  },
  {
   "cell_type": "code",
   "execution_count": 28,
   "metadata": {
    "collapsed": false
   },
   "outputs": [],
   "source": [
    "from invisible_cities.io.pmap_io import load_pmaps\n",
    "from invisible_cities.io.pmap_io import s1_s2_si_from_pmaps\n",
    "from invisible_cities.evm.pmaps import S12\n",
    "from invisible_cities.evm.pmaps import S1\n",
    "from invisible_cities.evm.pmaps import S2\n",
    "from invisible_cities.evm.pmaps import S2Si\n",
    "import invisible_cities.evm.event_model as evm"
   ]
  },
  {
   "cell_type": "code",
   "execution_count": 59,
   "metadata": {
    "collapsed": false
   },
   "outputs": [],
   "source": [
    "from invisible_cities.core.exceptions        import SipmEmptyList\n",
    "from invisible_cities.core.exceptions        import SipmNotFound\n",
    "from invisible_cities.core.exceptions        import PeakNotFound\n",
    "from invisible_cities.core.exceptions        import XYRecoFail"
   ]
  },
  {
   "cell_type": "code",
   "execution_count": 46,
   "metadata": {
    "collapsed": false
   },
   "outputs": [],
   "source": [
    "run_number = -4446\n",
    "DataPMT = load_db.DataPMT(run_number)\n",
    "DataSiPM = load_db.DataSiPM(run_number)\n",
    "xs = DataSiPM.X.values\n",
    "ys = DataSiPM.Y.values\n",
    "pmt_active = np.nonzero(DataPMT.Active.values)[0].tolist()"
   ]
  },
  {
   "cell_type": "code",
   "execution_count": 10,
   "metadata": {
    "collapsed": true
   },
   "outputs": [],
   "source": [
    "channel_id = DataPMT.ChannelID.values\n",
    "coeff_blr = abs(DataPMT.coeff_blr.values)\n",
    "coeff_c = abs(DataPMT.coeff_c .values)\n",
    "adc_to_pes = abs(DataPMT.adc_to_pes.values)\n",
    "adc_to_pes_sipm = abs(DataSiPM.adc_to_pes.values)"
   ]
  },
  {
   "cell_type": "code",
   "execution_count": 11,
   "metadata": {
    "collapsed": false
   },
   "outputs": [
    {
     "data": {
      "text/html": [
       "<div>\n",
       "<table border=\"1\" class=\"dataframe\">\n",
       "  <thead>\n",
       "    <tr style=\"text-align: right;\">\n",
       "      <th></th>\n",
       "      <th>SensorID</th>\n",
       "      <th>ChannelID</th>\n",
       "      <th>PmtID</th>\n",
       "      <th>Active</th>\n",
       "      <th>X</th>\n",
       "      <th>Y</th>\n",
       "      <th>coeff_blr</th>\n",
       "      <th>coeff_c</th>\n",
       "      <th>adc_to_pes</th>\n",
       "      <th>noise_rms</th>\n",
       "      <th>Sigma</th>\n",
       "    </tr>\n",
       "  </thead>\n",
       "  <tbody>\n",
       "    <tr>\n",
       "      <th>0</th>\n",
       "      <td>0</td>\n",
       "      <td>18</td>\n",
       "      <td>PMT1</td>\n",
       "      <td>1</td>\n",
       "      <td>-23.9414</td>\n",
       "      <td>65.7785</td>\n",
       "      <td>0.000788</td>\n",
       "      <td>0.000002</td>\n",
       "      <td>25.7701</td>\n",
       "      <td>0.75</td>\n",
       "      <td>10.84930</td>\n",
       "    </tr>\n",
       "    <tr>\n",
       "      <th>1</th>\n",
       "      <td>1</td>\n",
       "      <td>22</td>\n",
       "      <td>PMT3</td>\n",
       "      <td>1</td>\n",
       "      <td>-44.9951</td>\n",
       "      <td>-53.6231</td>\n",
       "      <td>0.000789</td>\n",
       "      <td>0.000002</td>\n",
       "      <td>26.8967</td>\n",
       "      <td>0.78</td>\n",
       "      <td>11.93490</td>\n",
       "    </tr>\n",
       "    <tr>\n",
       "      <th>2</th>\n",
       "      <td>2</td>\n",
       "      <td>19</td>\n",
       "      <td>PMT2</td>\n",
       "      <td>1</td>\n",
       "      <td>68.9365</td>\n",
       "      <td>-12.1554</td>\n",
       "      <td>0.000775</td>\n",
       "      <td>0.000002</td>\n",
       "      <td>27.8411</td>\n",
       "      <td>0.75</td>\n",
       "      <td>10.47710</td>\n",
       "    </tr>\n",
       "    <tr>\n",
       "      <th>3</th>\n",
       "      <td>3</td>\n",
       "      <td>23</td>\n",
       "      <td>PMT4</td>\n",
       "      <td>1</td>\n",
       "      <td>0.0000</td>\n",
       "      <td>185.0000</td>\n",
       "      <td>0.000778</td>\n",
       "      <td>0.000002</td>\n",
       "      <td>28.4480</td>\n",
       "      <td>0.73</td>\n",
       "      <td>10.95000</td>\n",
       "    </tr>\n",
       "    <tr>\n",
       "      <th>4</th>\n",
       "      <td>4</td>\n",
       "      <td>9</td>\n",
       "      <td>PMTC</td>\n",
       "      <td>1</td>\n",
       "      <td>-118.9160</td>\n",
       "      <td>141.7180</td>\n",
       "      <td>0.000789</td>\n",
       "      <td>0.000002</td>\n",
       "      <td>30.4163</td>\n",
       "      <td>0.80</td>\n",
       "      <td>11.23310</td>\n",
       "    </tr>\n",
       "    <tr>\n",
       "      <th>5</th>\n",
       "      <td>5</td>\n",
       "      <td>8</td>\n",
       "      <td>PMTB</td>\n",
       "      <td>1</td>\n",
       "      <td>-182.1890</td>\n",
       "      <td>32.1249</td>\n",
       "      <td>0.000781</td>\n",
       "      <td>0.000002</td>\n",
       "      <td>24.0598</td>\n",
       "      <td>0.78</td>\n",
       "      <td>8.40781</td>\n",
       "    </tr>\n",
       "    <tr>\n",
       "      <th>6</th>\n",
       "      <td>6</td>\n",
       "      <td>5</td>\n",
       "      <td>PMTA</td>\n",
       "      <td>1</td>\n",
       "      <td>-160.2150</td>\n",
       "      <td>-92.5000</td>\n",
       "      <td>0.000794</td>\n",
       "      <td>0.000002</td>\n",
       "      <td>26.7696</td>\n",
       "      <td>0.76</td>\n",
       "      <td>9.75851</td>\n",
       "    </tr>\n",
       "    <tr>\n",
       "      <th>7</th>\n",
       "      <td>7</td>\n",
       "      <td>4</td>\n",
       "      <td>PMT9</td>\n",
       "      <td>1</td>\n",
       "      <td>-63.2737</td>\n",
       "      <td>-173.8430</td>\n",
       "      <td>0.000773</td>\n",
       "      <td>0.000002</td>\n",
       "      <td>37.4034</td>\n",
       "      <td>0.77</td>\n",
       "      <td>14.01940</td>\n",
       "    </tr>\n",
       "    <tr>\n",
       "      <th>8</th>\n",
       "      <td>8</td>\n",
       "      <td>1</td>\n",
       "      <td>PMT8</td>\n",
       "      <td>1</td>\n",
       "      <td>63.2737</td>\n",
       "      <td>-173.8430</td>\n",
       "      <td>0.000788</td>\n",
       "      <td>0.000002</td>\n",
       "      <td>24.7545</td>\n",
       "      <td>0.81</td>\n",
       "      <td>9.19441</td>\n",
       "    </tr>\n",
       "    <tr>\n",
       "      <th>9</th>\n",
       "      <td>10</td>\n",
       "      <td>31</td>\n",
       "      <td>PMT6</td>\n",
       "      <td>1</td>\n",
       "      <td>182.1890</td>\n",
       "      <td>32.1249</td>\n",
       "      <td>0.000782</td>\n",
       "      <td>0.000002</td>\n",
       "      <td>21.6441</td>\n",
       "      <td>0.79</td>\n",
       "      <td>7.69790</td>\n",
       "    </tr>\n",
       "    <tr>\n",
       "      <th>10</th>\n",
       "      <td>11</td>\n",
       "      <td>30</td>\n",
       "      <td>PMT5</td>\n",
       "      <td>1</td>\n",
       "      <td>118.9160</td>\n",
       "      <td>141.7180</td>\n",
       "      <td>0.000777</td>\n",
       "      <td>0.000002</td>\n",
       "      <td>24.3859</td>\n",
       "      <td>0.79</td>\n",
       "      <td>8.87084</td>\n",
       "    </tr>\n",
       "    <tr>\n",
       "      <th>11</th>\n",
       "      <td>9</td>\n",
       "      <td>0</td>\n",
       "      <td>PMT7</td>\n",
       "      <td>0</td>\n",
       "      <td>160.2150</td>\n",
       "      <td>-92.5000</td>\n",
       "      <td>0.000787</td>\n",
       "      <td>0.000002</td>\n",
       "      <td>0.0000</td>\n",
       "      <td>0.77</td>\n",
       "      <td>0.00000</td>\n",
       "    </tr>\n",
       "  </tbody>\n",
       "</table>\n",
       "</div>"
      ],
      "text/plain": [
       "    SensorID  ChannelID PmtID  Active         X         Y  coeff_blr  \\\n",
       "0          0         18  PMT1       1  -23.9414   65.7785   0.000788   \n",
       "1          1         22  PMT3       1  -44.9951  -53.6231   0.000789   \n",
       "2          2         19  PMT2       1   68.9365  -12.1554   0.000775   \n",
       "3          3         23  PMT4       1    0.0000  185.0000   0.000778   \n",
       "4          4          9  PMTC       1 -118.9160  141.7180   0.000789   \n",
       "5          5          8  PMTB       1 -182.1890   32.1249   0.000781   \n",
       "6          6          5  PMTA       1 -160.2150  -92.5000   0.000794   \n",
       "7          7          4  PMT9       1  -63.2737 -173.8430   0.000773   \n",
       "8          8          1  PMT8       1   63.2737 -173.8430   0.000788   \n",
       "9         10         31  PMT6       1  182.1890   32.1249   0.000782   \n",
       "10        11         30  PMT5       1  118.9160  141.7180   0.000777   \n",
       "11         9          0  PMT7       0  160.2150  -92.5000   0.000787   \n",
       "\n",
       "     coeff_c  adc_to_pes  noise_rms     Sigma  \n",
       "0   0.000002     25.7701       0.75  10.84930  \n",
       "1   0.000002     26.8967       0.78  11.93490  \n",
       "2   0.000002     27.8411       0.75  10.47710  \n",
       "3   0.000002     28.4480       0.73  10.95000  \n",
       "4   0.000002     30.4163       0.80  11.23310  \n",
       "5   0.000002     24.0598       0.78   8.40781  \n",
       "6   0.000002     26.7696       0.76   9.75851  \n",
       "7   0.000002     37.4034       0.77  14.01940  \n",
       "8   0.000002     24.7545       0.81   9.19441  \n",
       "9   0.000002     21.6441       0.79   7.69790  \n",
       "10  0.000002     24.3859       0.79   8.87084  \n",
       "11  0.000002      0.0000       0.77   0.00000  "
      ]
     },
     "execution_count": 11,
     "metadata": {},
     "output_type": "execute_result"
    }
   ],
   "source": [
    "DataPMT"
   ]
  },
  {
   "cell_type": "code",
   "execution_count": 13,
   "metadata": {
    "collapsed": false
   },
   "outputs": [
    {
     "data": {
      "image/png": "[encoded data removed]",
      "text/plain": [
       "<matplotlib.figure.Figure at 0x10e8b8c18>"
      ]
     },
     "metadata": {},
     "output_type": "display_data"
    }
   ],
   "source": [
    "draw_pmt_map(-4446)"
   ]
  },
  {
   "cell_type": "markdown",
   "metadata": {},
   "source": [
    "### Code"
   ]
  },
  {
   "cell_type": "code",
   "execution_count": 47,
   "metadata": {
    "collapsed": true
   },
   "outputs": [],
   "source": [
    "def compute_xy_position(s2si, peak_no, xs, ys, Qthr, Qlm, lm_radius, new_lm_radius, msipm):\n",
    "    IDs, Qs  = cpmp.integrate_sipm_charges_in_peak(s2si, peak_no)\n",
    "    xs, ys   = xs[IDs], ys[IDs]\n",
    "    return corona(np.stack((xs, ys)).T, Qs, Qthr, Qlm, lm_radius, new_lm_radius, msipm)\n",
    "                     "
   ]
  },
  {
   "cell_type": "code",
   "execution_count": 56,
   "metadata": {
    "collapsed": true
   },
   "outputs": [],
   "source": [
    "def max_events_reached(nmax, n_events_in):\n",
    "    if nmax < 0:\n",
    "        return False\n",
    "    if n_events_in == nmax:\n",
    "        print('reached max nof of events (= {})'\n",
    "                  .format(nmax))\n",
    "        return True\n",
    "    return False\n"
   ]
  },
  {
   "cell_type": "markdown",
   "metadata": {},
   "source": [
    "### Open file"
   ]
  },
  {
   "cell_type": "code",
   "execution_count": 16,
   "metadata": {
    "collapsed": false
   },
   "outputs": [
    {
     "name": "stdout",
     "output_type": "stream",
     "text": [
      "PMP_file_name = /Users/jjgomezcadenas/Projects/ICDATA/NEXT_v1_00_05/Kr/dst_NEXT_v1_00_05_Kr_ACTIVE_0_0_7bar_PMP_10000.h5\n"
     ]
    }
   ],
   "source": [
    "PMP_file_name = os.path.join(os.environ['IC_DATA'], 'NEXT_v1_00_05', 'Kr',\n",
    "                        'dst_NEXT_v1_00_05_Kr_ACTIVE_0_0_7bar_PMP_10000.h5')\n",
    "print('PMP_file_name = {}'.format(PMP_file_name))"
   ]
  },
  {
   "cell_type": "code",
   "execution_count": 24,
   "metadata": {
    "collapsed": false
   },
   "outputs": [],
   "source": [
    "s1_dict, s2_dict, s2si_dict = load_pmaps(PMP_file_name)"
   ]
  },
  {
   "cell_type": "code",
   "execution_count": 25,
   "metadata": {
    "collapsed": true
   },
   "outputs": [],
   "source": [
    "event_numbers, timestamps = tbl.get_event_numbers_and_timestamps_from_file_name(PMP_file_name)"
   ]
  },
  {
   "cell_type": "code",
   "execution_count": 27,
   "metadata": {
    "collapsed": false
   },
   "outputs": [
    {
     "data": {
      "text/plain": [
       "array([   0,    1,    2, ..., 1997, 1998, 1999], dtype=uint64)"
      ]
     },
     "execution_count": 27,
     "metadata": {},
     "output_type": "execute_result"
    }
   ],
   "source": [
    "event_numbers"
   ]
  },
  {
   "cell_type": "markdown",
   "metadata": {},
   "source": [
    "## Event 0"
   ]
  },
  {
   "cell_type": "code",
   "execution_count": 29,
   "metadata": {
    "collapsed": true
   },
   "outputs": [],
   "source": [
    "s1, s2, s2si = s1_s2_si_from_pmaps(s1_dict, s2_dict, s2si_dict, event_numbers[0])"
   ]
  },
  {
   "cell_type": "markdown",
   "metadata": {},
   "source": [
    "### S1 & S2"
   ]
  },
  {
   "cell_type": "code",
   "execution_count": 30,
   "metadata": {
    "collapsed": false
   },
   "outputs": [
    {
     "data": {
      "text/plain": [
       "S1 (number of peaks = 1)\n",
       "peak number = 0: Peak(samples = 6 width =      0.1 mus , energy =      4.8 pes\n",
       "        height =      0.9 pes tmin-tmax = minmax(min=100.10000000000001, max=100.22500000000001) mus  "
      ]
     },
     "execution_count": 30,
     "metadata": {},
     "output_type": "execute_result"
    }
   ],
   "source": [
    "s1"
   ]
  },
  {
   "cell_type": "code",
   "execution_count": 31,
   "metadata": {
    "collapsed": false
   },
   "outputs": [
    {
     "data": {
      "image/png": "[encoded data removed]",
      "text/plain": [
       "<matplotlib.figure.Figure at 0x10e9f4518>"
      ]
     },
     "metadata": {},
     "output_type": "display_data"
    }
   ],
   "source": [
    "plot_s12(s1)"
   ]
  },
  {
   "cell_type": "code",
   "execution_count": 32,
   "metadata": {
    "collapsed": false
   },
   "outputs": [
    {
     "data": {
      "text/plain": [
       "S2 (number of peaks = 1)\n",
       "peak number = 0: Peak(samples = 7 width =      5.5 mus , energy =   7275.0 pes\n",
       "        height =   2697.1 pes tmin-tmax = minmax(min=180.6875, max=186.1625) mus  "
      ]
     },
     "execution_count": 32,
     "metadata": {},
     "output_type": "execute_result"
    }
   ],
   "source": [
    "s2"
   ]
  },
  {
   "cell_type": "code",
   "execution_count": 33,
   "metadata": {
    "collapsed": false
   },
   "outputs": [
    {
     "data": {
      "image/png": "[encoded data removed]",
      "text/plain": [
       "<matplotlib.figure.Figure at 0x10e9f42e8>"
      ]
     },
     "metadata": {},
     "output_type": "display_data"
    }
   ],
   "source": [
    "plot_s12(s2)"
   ]
  },
  {
   "cell_type": "markdown",
   "metadata": {},
   "source": [
    "#### S2Si"
   ]
  },
  {
   "cell_type": "code",
   "execution_count": 34,
   "metadata": {
    "collapsed": false
   },
   "outputs": [
    {
     "data": {
      "text/plain": [
       "================================================================================\n",
       "S2 (number of peaks = 1)\n",
       "peak number = 0: Peak(samples = 7 width =      5.5 mus , energy =   7275.0 pes\n",
       "        height =   2697.1 pes tmin-tmax = minmax(min=180.6875, max=186.1625) mus  \n",
       "--------------------------------------------------------------------------------\n",
       "SiPMs for non-empty peaks\n",
       "\n",
       "peak number = 0: nsipm in peak = (302, 303, 310, 311, 318, 319)\n",
       "--------------------------------------------------------------------------------\n",
       "SiPMs Waveforms\n",
       "\n",
       "peak number = 0: sipm number = 302\n",
       "    sipm waveform (zs) = Peak(samples = 4 width =      3.0 mus , energy =     17.4 pes\n",
       "        height =      7.0 pes tmin-tmax = minmax(min=182.5, max=185.5) mus \n",
       "peak number = 0: sipm number = 303\n",
       "    sipm waveform (zs) = Peak(samples = 4 width =      2.8 mus , energy =     22.6 pes\n",
       "        height =      8.7 pes tmin-tmax = minmax(min=180.6875, max=183.5) mus \n",
       "peak number = 0: sipm number = 310\n",
       "    sipm waveform (zs) = Peak(samples = 5 width =      3.8 mus , energy =    100.5 pes\n",
       "        height =     29.7 pes tmin-tmax = minmax(min=180.6875, max=184.5) mus \n",
       "peak number = 0: sipm number = 311\n",
       "    sipm waveform (zs) = Peak(samples = 5 width =      3.8 mus , energy =    104.8 pes\n",
       "        height =     47.9 pes tmin-tmax = minmax(min=180.6875, max=184.5) mus \n",
       "peak number = 0: sipm number = 318\n",
       "    sipm waveform (zs) = Peak(samples = 6 width =      4.8 mus , energy =     89.1 pes\n",
       "        height =     29.0 pes tmin-tmax = minmax(min=180.6875, max=185.5) mus \n",
       "peak number = 0: sipm number = 319\n",
       "    sipm waveform (zs) = Peak(samples = 5 width =      3.8 mus , energy =     81.6 pes\n",
       "        height =     34.0 pes tmin-tmax = minmax(min=180.6875, max=184.5) mus \n",
       "================================================================================"
      ]
     },
     "execution_count": 34,
     "metadata": {},
     "output_type": "execute_result"
    }
   ],
   "source": [
    "s2si"
   ]
  },
  {
   "cell_type": "code",
   "execution_count": 35,
   "metadata": {
    "collapsed": false
   },
   "outputs": [
    {
     "data": {
      "text/plain": [
       "1"
      ]
     },
     "execution_count": 35,
     "metadata": {},
     "output_type": "execute_result"
    }
   ],
   "source": [
    "s2si.number_of_peaks"
   ]
  },
  {
   "cell_type": "code",
   "execution_count": 36,
   "metadata": {
    "collapsed": false
   },
   "outputs": [
    {
     "data": {
      "text/plain": [
       "(302, 303, 310, 311, 318, 319)"
      ]
     },
     "execution_count": 36,
     "metadata": {},
     "output_type": "execute_result"
    }
   ],
   "source": [
    "s2si.sipms_in_peak(0)"
   ]
  },
  {
   "cell_type": "code",
   "execution_count": 37,
   "metadata": {
    "collapsed": false
   },
   "outputs": [
    {
     "data": {
      "image/png": "[encoded data removed]",
      "text/plain": [
       "<matplotlib.figure.Figure at 0x112ddf2e8>"
      ]
     },
     "metadata": {},
     "output_type": "display_data"
    }
   ],
   "source": [
    "plot_s2si_map(s2si, run_number=-4446)"
   ]
  },
  {
   "cell_type": "code",
   "execution_count": 50,
   "metadata": {
    "collapsed": false
   },
   "outputs": [],
   "source": [
    "IDs, Qs  = cpmp.integrate_sipm_charges_in_peak(s2si, 0)"
   ]
  },
  {
   "cell_type": "code",
   "execution_count": 51,
   "metadata": {
    "collapsed": false
   },
   "outputs": [
    {
     "data": {
      "text/plain": [
       "array([302, 303, 310, 311, 318, 319])"
      ]
     },
     "execution_count": 51,
     "metadata": {},
     "output_type": "execute_result"
    }
   ],
   "source": [
    "IDs"
   ]
  },
  {
   "cell_type": "code",
   "execution_count": 52,
   "metadata": {
    "collapsed": false
   },
   "outputs": [
    {
     "data": {
      "text/plain": [
       "array([  17.40170288,   22.59761143,  100.50284386,  104.81037664,\n",
       "         89.08035374,   81.58419037])"
      ]
     },
     "execution_count": 52,
     "metadata": {},
     "output_type": "execute_result"
    }
   ],
   "source": [
    "Qs"
   ]
  },
  {
   "cell_type": "code",
   "execution_count": null,
   "metadata": {
    "collapsed": true
   },
   "outputs": [],
   "source": []
  },
  {
   "cell_type": "code",
   "execution_count": 53,
   "metadata": {
    "collapsed": false
   },
   "outputs": [
    {
     "data": {
      "text/plain": [
       "[< nsipm = 6 Q = 415.97707891464233\n",
       "                     xy = xy(x=-91.85883582484179, max=110.02412726646843). 3dHit = <[-91.85883582484179, 110.02412726646843, -9.425] 415.97707891464233>  >]"
      ]
     },
     "execution_count": 53,
     "metadata": {},
     "output_type": "execute_result"
    }
   ],
   "source": [
    "compute_xy_position(s2si, 0, xs, ys, Qthr=1 * units.pes, Qlm = 15 * units. pes, lm_radius = -1, new_lm_radius = -1, msipm = 1)"
   ]
  },
  {
   "cell_type": "code",
   "execution_count": 54,
   "metadata": {
    "collapsed": false
   },
   "outputs": [
    {
     "data": {
      "text/plain": [
       "[< nsipm = 6 Q = 415.97707891464233\n",
       "                     xy = xy(x=-91.85883582484179, max=110.02412726646843). 3dHit = <[-91.85883582484179, 110.02412726646843, -9.425] 415.97707891464233>  >]"
      ]
     },
     "execution_count": 54,
     "metadata": {},
     "output_type": "execute_result"
    }
   ],
   "source": [
    "compute_xy_position(s2si, 0, xs, ys, Qthr=1 * units.pes, Qlm = 15 * units. pes, lm_radius = 0, new_lm_radius = 15, msipm = 1)"
   ]
  },
  {
   "cell_type": "markdown",
   "metadata": {},
   "source": [
    "## Loop over events and compare barycenter with corona"
   ]
  },
  {
   "cell_type": "code",
   "execution_count": 70,
   "metadata": {
    "collapsed": true
   },
   "outputs": [],
   "source": [
    "nmax = 10"
   ]
  },
  {
   "cell_type": "code",
   "execution_count": null,
   "metadata": {
    "collapsed": true
   },
   "outputs": [],
   "source": [
    "    def compute_xy_position(self, s2sid_peak, slice_no):\n",
    "        \"\"\"Compute x-y position for each time slice. \"\"\"\n",
    "        #import pdb; pdb.set_trace()\n",
    "        IDs, Qs  = cpmp.sipm_ids_and_charges_in_slice(s2sid_peak, slice_no)\n",
    "        xs, ys   = self.xs[IDs], self.ys[IDs]\n",
    "        return self.reco_algorithm(np.stack((xs, ys)).T, Qs)\n"
   ]
  },
  {
   "cell_type": "code",
   "execution_count": 73,
   "metadata": {
    "collapsed": false
   },
   "outputs": [],
   "source": [
    "\n",
    "def loop(nmax):\n",
    "    cnt = Counter()\n",
    "    cnt.init_counters(('n_events_tot', 'n_events_out', 'n_s1_is_none', 'n_s2_is_none', 'n_s2si_is_none'\n",
    "                   'n_s1_not_one','n_s2_eq_0','n_s2si_not_eq_s2', 'n_xy_fail'))\n",
    "\n",
    "\n",
    "    for evt_number, evt_time in zip(event_numbers, timestamps):\n",
    "        #print(\"event = {}\".format(evt_number))\n",
    "        if max_events_reached(nmax, cnt.counter_value('n_events_tot')):\n",
    "            break\n",
    "        else:\n",
    "            cnt.increment_counter('n_events_tot')\n",
    "\n",
    "        s1, s2, s2si = s1_s2_si_from_pmaps(s1_dict, s2_dict, s2si_dict, evt_number)\n",
    "        \n",
    "        if s1 == None:\n",
    "            cnt.increment_counter('n_s1_is_none')\n",
    "            continue\n",
    "        if s2 == None:\n",
    "            cnt.increment_counter('n_s2_is_none')\n",
    "            continue\n",
    "\n",
    "        if s2si == None:\n",
    "            cnt.increment_counter('n_s2si_is_none')\n",
    "            continue\n",
    "\n",
    "            \n",
    "        #print('s1.number_of_peaks = {}'.format(s1.number_of_peaks))\n",
    "        if s1.number_of_peaks != 1: \n",
    "            cnt.increment_counter('n_s1_not_one')\n",
    "            continue\n",
    "        #print('s2.number_of_peaks = {}'.format(s2.number_of_peaks))\n",
    "        if s2.number_of_peaks == 0: \n",
    "            cnt.increment_counter('n_s2_eq_0')\n",
    "            continue\n",
    "        #print('s2si.number_of_peaks = {}'.format(s2si.number_of_peaks))\n",
    "        if s2si.number_of_peaks != s2.number_of_peaks: \n",
    "            cnt.increment_counter('n_s2si_not_eq_s2')\n",
    "            continue\n",
    "            \n",
    "        cnt.increment_counter('n_events_out')\n",
    "        for i, peak_no in enumerate(s2si.peak_collection()):\n",
    "            peak = s2si.peak_waveform(peak_no)\n",
    "            #print('peak.total_energy = {}'.format(peak.total_energy))\n",
    "            #print('peak.tpeak = {}'.format(peak.tpeak))\n",
    "            \n",
    "            try:   \n",
    "                c1 = compute_xy_position(s2si, peak_no, xs, ys, \n",
    "                             Qthr=1 * units.pes, \n",
    "                             Qlm = 15 * units. pes, \n",
    "                             lm_radius = -1, new_lm_radius = -1, msipm = 1)\n",
    "\n",
    "                c2 = compute_xy_position(s2si, 0, xs, ys, \n",
    "                             Qthr=1 * units.pes, \n",
    "                             Qlm = 15 * units. pes, \n",
    "                             lm_radius = 0, new_lm_radius = 15, msipm = 1)\n",
    "        \n",
    "                #print('c1 = {}'.format(c1))\n",
    "                #print('c2 = {}'.format(c2))\n",
    "            except XYRecoFail: \n",
    "                print('failed to reconstruct XY')\n",
    "                cnt.increment_counter('n_xy_fail')\n",
    "                continue\n",
    "\n",
    "    return cnt\n",
    "\n",
    " \n",
    "\n"
   ]
  },
  {
   "cell_type": "code",
   "execution_count": 75,
   "metadata": {
    "collapsed": false
   },
   "outputs": [
    {
     "name": "stdout",
     "output_type": "stream",
     "text": [
      "event = 0\n",
      "s1.number_of_peaks = 1\n",
      "s2.number_of_peaks = 1\n",
      "s2si.number_of_peaks = 1\n",
      "peak.total_energy = 7275.023195266724\n",
      "peak.tpeak = 183500.0\n",
      "c1 = [< nsipm = 6 Q = 415.97707891464233\n",
      "                    xy = xy(x=-91.85883582484179, y=110.02412726646843) 3dHit = <[-91.85883582484179, 110.02412726646843, -9.425] 415.97707891464233>  >]\n",
      "c2 = [< nsipm = 6 Q = 415.97707891464233\n",
      "                    xy = xy(x=-91.85883582484179, y=110.02412726646843) 3dHit = <[-91.85883582484179, 110.02412726646843, -9.425] 415.97707891464233>  >]\n",
      "event = 1\n",
      "s1.number_of_peaks = 1\n",
      "s2.number_of_peaks = 1\n",
      "s2si.number_of_peaks = 1\n",
      "peak.total_energy = 4168.72358083725\n",
      "peak.tpeak = 427500.0\n",
      "c1 = [< nsipm = 9 Q = 340.51304066181183\n",
      "                    xy = xy(x=175.5697736238607, y=-85.79959387297058) 3dHit = <[175.5697736238607, -85.79959387297058, -9.425] 340.51304066181183>  >]\n",
      "c2 = [< nsipm = 9 Q = 340.51304066181183\n",
      "                    xy = xy(x=175.5697736238607, y=-85.79959387297058) 3dHit = <[175.5697736238607, -85.79959387297058, -9.425] 340.51304066181183>  >]\n",
      "event = 2\n",
      "event = 3\n",
      "s1.number_of_peaks = 1\n",
      "s2.number_of_peaks = 1\n",
      "s2si.number_of_peaks = 1\n",
      "peak.total_energy = 7164.728076934814\n",
      "peak.tpeak = 293500.0\n",
      "c1 = [< nsipm = 7 Q = 391.2197650671005\n",
      "                    xy = xy(x=-25.47438256113662, y=-71.29974741482874) 3dHit = <[-25.47438256113662, -71.29974741482874, -9.425] 391.2197650671005>  >]\n",
      "c2 = [< nsipm = 6 Q = 365.3984845876694\n",
      "                    xy = xy(x=-25.50790531966552, y=-70.33160419704842) 3dHit = <[-25.50790531966552, -70.33160419704842, -9.425] 365.3984845876694>  >, < nsipm = 1 Q = 25.821280479431152\n",
      "                    xy = xy(x=-25.0, y=-85.0) 3dHit = <[-25.0, -85.0, -9.425] 25.821280479431152>  >]\n",
      "event = 4\n",
      "event = 5\n",
      "event = 6\n",
      "event = 7\n",
      "s1.number_of_peaks = 1\n",
      "s2.number_of_peaks = 1\n",
      "s2si.number_of_peaks = 1\n",
      "peak.total_energy = 5456.863338470459\n",
      "peak.tpeak = 610500.0\n",
      "c1 = [< nsipm = 7 Q = 222.4448938369751\n",
      "                    xy = xy(x=-105.86857809237324, y=-50.748529652966006) 3dHit = <[-105.86857809237324, -50.748529652966006, -9.425] 222.4448938369751>  >]\n",
      "c2 = [< nsipm = 6 Q = 205.72583055496216\n",
      "                    xy = xy(x=-105.93916627302409, y=-49.590331705965205) 3dHit = <[-105.93916627302409, -49.590331705965205, -9.425] 205.72583055496216>  >, < nsipm = 1 Q = 16.71906328201294\n",
      "                    xy = xy(x=-105.0, y=-65.0) 3dHit = <[-105.0, -65.0, -9.425] 16.71906328201294>  >]\n",
      "event = 8\n",
      "s1.number_of_peaks = 1\n",
      "s2.number_of_peaks = 1\n",
      "s2si.number_of_peaks = 1\n",
      "peak.total_energy = 6409.054496765137\n",
      "peak.tpeak = 399500.0\n",
      "c1 = [< nsipm = 5 Q = 281.3093286752701\n",
      "                    xy = xy(x=-100.95983853563028, y=-68.29864084283284) 3dHit = <[-100.95983853563028, -68.29864084283284, -9.425] 281.3093286752701>  >]\n",
      "c2 = [< nsipm = 5 Q = 281.3093286752701\n",
      "                    xy = xy(x=-100.95983853563028, y=-68.29864084283284) 3dHit = <[-100.95983853563028, -68.29864084283284, -9.425] 281.3093286752701>  >]\n",
      "event = 9\n",
      "s1.number_of_peaks = 1\n",
      "s2.number_of_peaks = 1\n",
      "s2si.number_of_peaks = 1\n",
      "peak.total_energy = 3697.7134799957275\n",
      "peak.tpeak = 571500.0\n",
      "c1 = [< nsipm = 7 Q = 210.0715470314026\n",
      "                    xy = xy(x=47.94293799711006, y=-185.5629512570668) 3dHit = <[47.94293799711006, -185.5629512570668, -9.425] 210.0715470314026>  >]\n",
      "c2 = [< nsipm = 7 Q = 210.0715470314026\n",
      "                    xy = xy(x=47.94293799711006, y=-185.5629512570668) 3dHit = <[47.94293799711006, -185.5629512570668, -9.425] 210.0715470314026>  >]\n",
      "event = 10\n",
      "reached max nof of events (= 10)\n",
      ": (counter = n_events_tot, value = 10),  (counter = n_events_out, value = 6),  (counter = n_s1_is_none, value = 4),  (counter = n_s2_is_none, value = 0),  (counter = n_s2si_is_nonen_s1_not_one, value = 0),  (counter = n_s2_eq_0, value = 0),  (counter = n_s2si_not_eq_s2, value = 0),  (counter = n_xy_fail, value = 0), \n"
     ]
    }
   ],
   "source": [
    "cnt = loop(nmax)\n",
    "print(cnt)"
   ]
  },
  {
   "cell_type": "code",
   "execution_count": null,
   "metadata": {
    "collapsed": true
   },
   "outputs": [],
   "source": []
  },
  {
   "cell_type": "code",
   "execution_count": null,
   "metadata": {
    "collapsed": true
   },
   "outputs": [],
   "source": []
  }
 ],
 "metadata": {
  "kernelspec": {
   "display_name": "Python 3",
   "language": "python",
   "name": "python3"
  },
  "language_info": {
   "codemirror_mode": {
    "name": "ipython",
    "version": 3
   },
   "file_extension": ".py",
   "mimetype": "text/x-python",
   "name": "python",
   "nbconvert_exporter": "python",
   "pygments_lexer": "ipython3",
   "version": "3.6.0"
  }
 },
 "nbformat": 4,
 "nbformat_minor": 2
}
