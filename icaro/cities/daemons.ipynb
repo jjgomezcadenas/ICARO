{
 "cells": [
  {
   "cell_type": "code",
   "execution_count": 1,
   "metadata": {
    "collapsed": false
   },
   "outputs": [
    {
     "name": "stdout",
     "output_type": "stream",
     "text": [
      "2017-07-21 16:35:08\n"
     ]
    }
   ],
   "source": [
    "import os\n",
    "import datetime\n",
    "print(datetime.datetime.now().strftime('%Y-%m-%d %H:%M:%S'))"
   ]
  },
  {
   "cell_type": "code",
   "execution_count": 2,
   "metadata": {
    "collapsed": true
   },
   "outputs": [],
   "source": [
    "from importlib import import_module\n",
    "import traceback"
   ]
  },
  {
   "cell_type": "code",
   "execution_count": 3,
   "metadata": {
    "collapsed": true
   },
   "outputs": [],
   "source": [
    "import invisible_cities.core.configure as cnf "
   ]
  },
  {
   "cell_type": "code",
   "execution_count": 4,
   "metadata": {
    "collapsed": false
   },
   "outputs": [],
   "source": [
    "conf = cnf.configure(['irene','/Users/jjgomezcadenas/Projects/IC/invisible_cities/config/irene.conf'])"
   ]
  },
  {
   "cell_type": "code",
   "execution_count": 5,
   "metadata": {
    "collapsed": false
   },
   "outputs": [
    {
     "data": {
      "text/plain": [
       "{'acum_discharge_length': 5000,\n",
       " 'compression': 'ZLIB4',\n",
       " 'config_file': '/Users/jjgomezcadenas/Projects/IC/invisible_cities/config/irene.conf',\n",
       " 'daemons': ['lyra', 'asriel'],\n",
       " 'file_out': '/tmp/electrons_40keV_z250_PMP.h5',\n",
       " 'files_in': '$ICDIR/database/test_data/electrons_40keV_z250_RWF.h5',\n",
       " 'full_files': False,\n",
       " 'hide_config': False,\n",
       " 'n_baseline': 28000,\n",
       " 'n_mau': 100,\n",
       " 'n_mau_sipm': 100,\n",
       " 'nmax': 1,\n",
       " 'no_files': False,\n",
       " 'no_overrides': False,\n",
       " 'nprint': 1,\n",
       " 'print_config_only': False,\n",
       " 'print_empty_events': 1,\n",
       " 'run_all': False,\n",
       " 'run_number': 0,\n",
       " 's1_lmax': 20,\n",
       " 's1_lmin': 8,\n",
       " 's1_stride': 4,\n",
       " 's1_tmax': 101000.0,\n",
       " 's1_tmin': 99000.0,\n",
       " 's2_lmax': 100000,\n",
       " 's2_lmin': 100,\n",
       " 's2_stride': 40,\n",
       " 's2_tmax': 1199000.0,\n",
       " 's2_tmin': 101000.0,\n",
       " 'skip': 0,\n",
       " 'thr_csum_s1': 0.5,\n",
       " 'thr_csum_s2': 1.0,\n",
       " 'thr_mau': 3,\n",
       " 'thr_sipm': 3.5,\n",
       " 'thr_sipm_s2': 20,\n",
       " 'thr_trigger': 5,\n",
       " 'verbosity': 0}"
      ]
     },
     "execution_count": 5,
     "metadata": {},
     "output_type": "execute_result"
    }
   ],
   "source": [
    "conf.as_dict"
   ]
  },
  {
   "cell_type": "code",
   "execution_count": 6,
   "metadata": {
    "collapsed": false
   },
   "outputs": [
    {
     "name": "stdout",
     "output_type": "stream",
     "text": [
      "lyra Lyra\n"
     ]
    }
   ],
   "source": [
    "daemon_name = 'lyra'\n",
    "print(daemon_name, daemon_name.capitalize())"
   ]
  },
  {
   "cell_type": "code",
   "execution_count": 7,
   "metadata": {
    "collapsed": true
   },
   "outputs": [],
   "source": [
    "from invisible_cities.daemons import daemon"
   ]
  },
  {
   "cell_type": "code",
   "execution_count": 8,
   "metadata": {
    "collapsed": false
   },
   "outputs": [
    {
     "name": "stdout",
     "output_type": "stream",
     "text": [
      "invisible_cities.daemons.lyra\n",
      "I am Lyra\n"
     ]
    }
   ],
   "source": [
    "try:\n",
    "    daemon_name = 'lyra'\n",
    "    module_name = 'invisible_cities.daemons.' + daemon_name\n",
    "    print(module_name)\n",
    "    daemon_class  = getattr(import_module(module_name), daemon_name.capitalize())\n",
    "except ModuleNotFoundError:\n",
    "    print('daemon {} not found in directory daemons'.format(daemon_name))\n",
    "    traceback.print_exc()\n",
    "else:\n",
    "    lyra = daemon_class()"
   ]
  },
  {
   "cell_type": "code",
   "execution_count": null,
   "metadata": {
    "collapsed": true
   },
   "outputs": [],
   "source": []
  },
  {
   "cell_type": "code",
   "execution_count": null,
   "metadata": {
    "collapsed": false
   },
   "outputs": [],
   "source": [
    "class A(B):\n",
    "    def __init__(self):\n",
    "        super().__init__()\n",
    "        self.name = \"No Name\"\n",
    "        self.daemons = {}\n",
    "    \n",
    "    def init(self):\n",
    "        print('My name is {}'.format(self.name))\n",
    "        for d in self.daemons:\n",
    "            d.init()\n",
    "    def run(self):\n",
    "        for d in self.daemons:\n",
    "            d.run()\n",
    "    def end(self):\n",
    "        for d in self.daemons:\n",
    "            d.end()\n",
    "\n",
    "\n",
    "    def print_name(self):\n",
    "        print(\"my name is {}\".format(self.name))\n"
   ]
  },
  {
   "cell_type": "code",
   "execution_count": null,
   "metadata": {
    "collapsed": false
   },
   "outputs": [],
   "source": [
    "a = A()"
   ]
  },
  {
   "cell_type": "code",
   "execution_count": null,
   "metadata": {
    "collapsed": true
   },
   "outputs": [],
   "source": [
    "D = [daemon('Lyra'), daemon('Asriel'), daemon('Serafina')]"
   ]
  },
  {
   "cell_type": "code",
   "execution_count": null,
   "metadata": {
    "collapsed": false
   },
   "outputs": [],
   "source": [
    "class B:\n",
    "    @classmethod\n",
    "    def drive(cls, name, d):\n",
    "        a = cls()\n",
    "        a.name = name\n",
    "        a.daemons = d\n",
    "        a.init()\n",
    "        a.run()\n",
    "        a.end()\n",
    "    "
   ]
  },
  {
   "cell_type": "code",
   "execution_count": null,
   "metadata": {
    "collapsed": false
   },
   "outputs": [],
   "source": [
    "a.drive(\"Iñigo Montoya\", D)"
   ]
  },
  {
   "cell_type": "code",
   "execution_count": null,
   "metadata": {
    "collapsed": false
   },
   "outputs": [],
   "source": [
    "import traceback\n",
    "from sys import argv\n",
    "from importlib import import_module\n",
    "\n",
    "_, *args = argv\n",
    "\n",
    "city_name = args[0]\n",
    "\n",
    "try:\n",
    "    module_name = 'invisible_cities.cities.' + city_name\n",
    "    city_class  = getattr(import_module(module_name), city_name.capitalize())\n",
    "except ModuleNotFoundError:\n",
    "    print('available cities: <TODO look at contents of config directory>')\n",
    "    print('usage TODO: <get this from our config parser>')\n",
    "    traceback.print_exc()\n",
    "    exit(1)\n",
    "else:\n",
    "    city_class.drive(args)"
   ]
  },
  {
   "cell_type": "code",
   "execution_count": null,
   "metadata": {
    "collapsed": false
   },
   "outputs": [],
   "source": [
    "p.x = 10\n",
    "p.y = 100"
   ]
  },
  {
   "cell_type": "code",
   "execution_count": null,
   "metadata": {
    "collapsed": false
   },
   "outputs": [],
   "source": [
    "p"
   ]
  },
  {
   "cell_type": "code",
   "execution_count": null,
   "metadata": {
    "collapsed": false
   },
   "outputs": [],
   "source": [
    "print(p)"
   ]
  },
  {
   "cell_type": "code",
   "execution_count": null,
   "metadata": {
    "collapsed": false
   },
   "outputs": [],
   "source": [
    "p.x"
   ]
  },
  {
   "cell_type": "code",
   "execution_count": null,
   "metadata": {
    "collapsed": false
   },
   "outputs": [],
   "source": [
    "p.y"
   ]
  },
  {
   "cell_type": "code",
   "execution_count": null,
   "metadata": {
    "collapsed": false
   },
   "outputs": [],
   "source": [
    "p.z"
   ]
  },
  {
   "cell_type": "code",
   "execution_count": null,
   "metadata": {
    "collapsed": true
   },
   "outputs": [],
   "source": []
  }
 ],
 "metadata": {
  "kernelspec": {
   "display_name": "Python 3",
   "language": "python",
   "name": "python3"
  },
  "language_info": {
   "codemirror_mode": {
    "name": "ipython",
    "version": 3
   },
   "file_extension": ".py",
   "mimetype": "text/x-python",
   "name": "python",
   "nbconvert_exporter": "python",
   "pygments_lexer": "ipython3",
   "version": "3.6.0"
  }
 },
 "nbformat": 4,
 "nbformat_minor": 2
}
