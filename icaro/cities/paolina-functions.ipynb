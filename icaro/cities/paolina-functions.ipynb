{
 "cells": [
  {
   "cell_type": "code",
   "execution_count": 1,
   "metadata": {
    "collapsed": false
   },
   "outputs": [
    {
     "name": "stdout",
     "output_type": "stream",
     "text": [
      "2017-08-21 14:58:41\n"
     ]
    }
   ],
   "source": [
    "import os\n",
    "import datetime\n",
    "print(datetime.datetime.now().strftime('%Y-%m-%d %H:%M:%S'))\n",
    "\n",
    "import time\n",
    "import glob\n",
    "import tables as tb\n",
    "import numpy as np\n",
    "import pandas as pd\n",
    "import matplotlib.pyplot as plt\n",
    "import matplotlib.patches as patches\n",
    "import invisible_cities.icaro.mpl_functions as mpl\n",
    "from matplotlib.pyplot import figure, show\n",
    "from functools import reduce\n",
    "from mpl_toolkits.mplot3d import Axes3D\n",
    "from mpl_toolkits.mplot3d.art3d import Poly3DCollection\n",
    "from itertools import product, combinations\n",
    "%matplotlib inline\n",
    "%load_ext autoreload\n",
    "%autoreload 2\n",
    "\n",
    "plt.rcParams[\"figure.figsize\"] = 10, 8\n",
    "plt.rcParams[\"font.size\"     ] = 14\n"
   ]
  },
  {
   "cell_type": "code",
   "execution_count": 10,
   "metadata": {
    "collapsed": true
   },
   "outputs": [],
   "source": [
    "from invisible_cities.evm.event_model import Voxel \n",
    "from invisible_cities.reco.paolina_functions import make_track_graphs \n",
    "from invisible_cities.reco.paolina_functions import shortest_paths\n",
    "from invisible_cities.reco.paolina_functions import find_extrema"
   ]
  },
  {
   "cell_type": "code",
   "execution_count": null,
   "metadata": {
    "collapsed": true
   },
   "outputs": [],
   "source": [
    "def make_track_graphs(voxels           : Voxel,\n",
    "                      voxel_dimensions : np.ndarray,\n",
    "                      contiguity       : float = 1) ->Sequence[Graph]:\n",
    "    \"\"\"Creates a graph where the voxels are the nodes and the edges are any\n",
    "    pair of neighbour voxel. Two voxels are considered to be neighbours if\n",
    "    their distance normalized to their size is smaller than a\n",
    "    contiguity factor .\n",
    "\n",
    "    \"\"\"\n",
    "\n",
    "    def neighbours(va : Voxel, vb : Voxel, scale : float = 1.0) ->bool:\n",
    "        return ((abs(va.pos - vb.pos) / voxel_dimensions) < contiguity).all()\n",
    "\n",
    "    voxel_graph = nx.Graph()\n",
    "    voxel_graph.add_nodes_from(voxels)\n",
    "    for va, vb in combinations(voxels, 2):\n",
    "        if neighbours(va, vb):\n",
    "            voxel_graph.add_edge(va, vb, distance = np.linalg.norm(va.pos - vb.pos))\n",
    "\n",
    "    return tuple(nx.connected_component_subgraphs(voxel_graph))\n"
   ]
  },
  {
   "cell_type": "code",
   "execution_count": null,
   "metadata": {
    "collapsed": true
   },
   "outputs": [],
   "source": [
    "def make_track_graphs(voxels, voxel_dimensions):\n",
    "\n",
    "    def neighbours(va, vb):\n",
    "        return ((abs(va.pos - vb.pos) / voxel_dimensions) < 1.5).all()\n",
    "\n",
    "    voxel_graph = nx.Graph()\n",
    "    voxel_graph.add_nodes_from(voxels)\n",
    "    for va, vb in combinations(voxels, 2):\n",
    "        if neighbours(va, vb):\n",
    "            voxel_graph.add_edge(va, vb,\n",
    "                                 distance = np.linalg.norm(va.pos - vb.pos))\n",
    "\n",
    "    return tuple(nx.connected_component_subgraphs(voxel_graph))\n"
   ]
  },
  {
   "cell_type": "code",
   "execution_count": 15,
   "metadata": {
    "collapsed": true
   },
   "outputs": [],
   "source": [
    "voxel_spec = ((10,10,10,  1000),\n",
    "                  (10,10,11,     1),\n",
    "                  (10,10,12,     2),\n",
    "                  (10,10,13,     4),\n",
    "                  (10,10,14,     8),\n",
    "                  (10,10,15,    16),\n",
    "                  (10,11,15,    32),\n",
    "                  (10,12,15,    64),\n",
    "                  (10,13,15,   128),\n",
    "                  (10,14,15,   265),\n",
    "                  (10,15,15,   512),\n",
    "                  (11,15,15,   256),\n",
    "                  (12,15,15,   128),\n",
    "                  (13,15,15,    64),\n",
    "                  (14,15,15,    32),\n",
    "                  (15,15,15,    16),\n",
    "                  (16,16,16,     8),\n",
    "                  (17,17,17,     4),\n",
    "                  (18,18,18,     2),\n",
    "                  (19,19,19,     1),\n",
    "                  (20,20,20,  2000),\n",
    "    )\n",
    "voxels = [Voxel(x,y,z, E) for (x,y,z,E) in voxel_spec]\n",
    "    "
   ]
  },
  {
   "cell_type": "code",
   "execution_count": 16,
   "metadata": {
    "collapsed": false
   },
   "outputs": [
    {
     "data": {
      "text/plain": [
       "[<[10, 10, 10] 1000>,\n",
       " <[10, 10, 11] 1>,\n",
       " <[10, 10, 12] 2>,\n",
       " <[10, 10, 13] 4>,\n",
       " <[10, 10, 14] 8>,\n",
       " <[10, 10, 15] 16>,\n",
       " <[10, 11, 15] 32>,\n",
       " <[10, 12, 15] 64>,\n",
       " <[10, 13, 15] 128>,\n",
       " <[10, 14, 15] 265>,\n",
       " <[10, 15, 15] 512>,\n",
       " <[11, 15, 15] 256>,\n",
       " <[12, 15, 15] 128>,\n",
       " <[13, 15, 15] 64>,\n",
       " <[14, 15, 15] 32>,\n",
       " <[15, 15, 15] 16>,\n",
       " <[16, 16, 16] 8>,\n",
       " <[17, 17, 17] 4>,\n",
       " <[18, 18, 18] 2>,\n",
       " <[19, 19, 19] 1>,\n",
       " <[20, 20, 20] 2000>]"
      ]
     },
     "execution_count": 16,
     "metadata": {},
     "output_type": "execute_result"
    }
   ],
   "source": [
    "voxels"
   ]
  },
  {
   "cell_type": "code",
   "execution_count": 19,
   "metadata": {
    "collapsed": true
   },
   "outputs": [],
   "source": [
    "tracks = make_track_graphs(voxels, np.array([1,1,1]), contiguity=1.6)"
   ]
  },
  {
   "cell_type": "code",
   "execution_count": 20,
   "metadata": {
    "collapsed": false
   },
   "outputs": [
    {
     "data": {
      "text/plain": [
       "1"
      ]
     },
     "execution_count": 20,
     "metadata": {},
     "output_type": "execute_result"
    }
   ],
   "source": [
    "len(tracks)"
   ]
  },
  {
   "cell_type": "code",
   "execution_count": 7,
   "metadata": {
    "collapsed": true
   },
   "outputs": [],
   "source": [
    "distances = shortest_paths(tracks[0])"
   ]
  },
  {
   "cell_type": "code",
   "execution_count": 11,
   "metadata": {
    "collapsed": false
   },
   "outputs": [],
   "source": [
    "distances\n",
    "extrema = find_extrema(distances)"
   ]
  },
  {
   "cell_type": "code",
   "execution_count": 12,
   "metadata": {
    "collapsed": false
   },
   "outputs": [
    {
     "data": {
      "text/plain": [
       "(<[10, 10, 10] 1000>, <[20, 20, 20] 2000>)"
      ]
     },
     "execution_count": 12,
     "metadata": {},
     "output_type": "execute_result"
    }
   ],
   "source": [
    "extrema"
   ]
  },
  {
   "cell_type": "code",
   "execution_count": 13,
   "metadata": {
    "collapsed": false
   },
   "outputs": [
    {
     "data": {
      "text/plain": [
       "<[10, 10, 10] 1000>"
      ]
     },
     "execution_count": 13,
     "metadata": {},
     "output_type": "execute_result"
    }
   ],
   "source": [
    "voxels[ 0]"
   ]
  },
  {
   "cell_type": "code",
   "execution_count": 14,
   "metadata": {
    "collapsed": false
   },
   "outputs": [
    {
     "data": {
      "text/plain": [
       "<[20, 20, 20] 2000>"
      ]
     },
     "execution_count": 14,
     "metadata": {},
     "output_type": "execute_result"
    }
   ],
   "source": [
    "voxels[ -1]"
   ]
  },
  {
   "cell_type": "code",
   "execution_count": null,
   "metadata": {
    "collapsed": true
   },
   "outputs": [],
   "source": []
  },
  {
   "cell_type": "code",
   "execution_count": null,
   "metadata": {
    "collapsed": true
   },
   "outputs": [],
   "source": []
  },
  {
   "cell_type": "code",
   "execution_count": null,
   "metadata": {
    "collapsed": true
   },
   "outputs": [],
   "source": [
    "track, = make_track_graphs(voxels, np.array([1,1,1]))\n",
    "    distances = shortest_paths(track)\n",
    "    extrema = find_extrema(distances)"
   ]
  }
 ],
 "metadata": {
  "kernelspec": {
   "display_name": "Python 3",
   "language": "python",
   "name": "python3"
  },
  "language_info": {
   "codemirror_mode": {
    "name": "ipython",
    "version": 3
   },
   "file_extension": ".py",
   "mimetype": "text/x-python",
   "name": "python",
   "nbconvert_exporter": "python",
   "pygments_lexer": "ipython3",
   "version": "3.6.0"
  }
 },
 "nbformat": 4,
 "nbformat_minor": 2
}
