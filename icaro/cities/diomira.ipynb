{
 "cells": [
  {
   "cell_type": "code",
   "execution_count": 1,
   "metadata": {
    "collapsed": false
   },
   "outputs": [
    {
     "name": "stdout",
     "output_type": "stream",
     "text": [
      "2017-07-25 18:54:51\n"
     ]
    }
   ],
   "source": [
    "import os\n",
    "import datetime\n",
    "print(datetime.datetime.now().strftime('%Y-%m-%d %H:%M:%S'))\n",
    "\n",
    "import time\n",
    "import glob\n",
    "import tables as tb\n",
    "import numpy as np\n",
    "import pandas as pd\n",
    "import matplotlib.pyplot as plt\n",
    "from functools import reduce"
   ]
  },
  {
   "cell_type": "code",
   "execution_count": 2,
   "metadata": {
    "collapsed": false
   },
   "outputs": [],
   "source": [
    "%matplotlib inline\n",
    "%load_ext autoreload\n",
    "%autoreload 2\n",
    "\n",
    "plt.rcParams[\"figure.figsize\"] = 10, 8\n",
    "plt.rcParams[\"font.size\"     ] = 14"
   ]
  },
  {
   "cell_type": "code",
   "execution_count": 3,
   "metadata": {
    "collapsed": false
   },
   "outputs": [],
   "source": [
    "from invisible_cities.database import load_db\n",
    "\n",
    "import invisible_cities.sierpe.blr as blr\n",
    "\n",
    "import invisible_cities.reco.tbl_functions as tbl\n",
    "import invisible_cities.reco.peak_functions as pf\n",
    "import invisible_cities.reco.peak_functions_c as cpf\n",
    "\n",
    "\n",
    "from   invisible_cities.evm.ic_containers           import S12Params \n",
    "from   invisible_cities.evm.ic_containers          import CalibVectors\n",
    "from   invisible_cities.evm.ic_containers          import DeconvParams\n",
    "from   invisible_cities.evm.ic_containers          import ThresholdParams\n",
    "from   invisible_cities.evm.ic_containers          import TriggerParams\n",
    "from   invisible_cities.core.core_functions  import loc_elem_1d\n",
    "from   invisible_cities.evm.event_model   import SensorParams\n",
    "from   invisible_cities.core.system_of_units_c import units\n",
    "from   invisible_cities.types.ic_types import minmax\n",
    "import invisible_cities.icaro.mpl_functions as mpl\n",
    "from invisible_cities.icaro.pmaps_mpl import plot_s12\n"
   ]
  },
  {
   "cell_type": "code",
   "execution_count": 4,
   "metadata": {
    "collapsed": true
   },
   "outputs": [],
   "source": [
    "from invisible_cities.evm.pmaps import S1\n",
    "from invisible_cities.evm.pmaps import S2\n",
    "from invisible_cities.evm.pmaps import S2Si"
   ]
  },
  {
   "cell_type": "code",
   "execution_count": 5,
   "metadata": {
    "collapsed": false
   },
   "outputs": [],
   "source": [
    "import  invisible_cities.icaro.mpl_functions as mpl\n",
    "import   invisible_cities.reco.sensor_functions as sf       \n",
    "from     invisible_cities.reco     import wfm_functions as wfm"
   ]
  },
  {
   "cell_type": "code",
   "execution_count": 6,
   "metadata": {
    "collapsed": true
   },
   "outputs": [],
   "source": [
    "from invisible_cities.sierpe   import blr"
   ]
  },
  {
   "cell_type": "code",
   "execution_count": 7,
   "metadata": {
    "collapsed": false
   },
   "outputs": [],
   "source": [
    "import invisible_cities.evm.event_model as evm\n",
    "from invisible_cities.types.ic_types import minmax"
   ]
  },
  {
   "cell_type": "code",
   "execution_count": 8,
   "metadata": {
    "collapsed": true
   },
   "outputs": [],
   "source": [
    "from invisible_cities.core.exceptions        import SipmEmptyList\n",
    "from invisible_cities.core.exceptions        import SipmNotFound\n",
    "from invisible_cities.core.exceptions        import PeakNotFound"
   ]
  },
  {
   "cell_type": "code",
   "execution_count": 9,
   "metadata": {
    "collapsed": true
   },
   "outputs": [],
   "source": [
    "from invisible_cities.sierpe             import fee as FE"
   ]
  },
  {
   "cell_type": "code",
   "execution_count": 10,
   "metadata": {
    "collapsed": false
   },
   "outputs": [],
   "source": [
    "from invisible_cities.reco.sensor_functions   import convert_channel_id_to_IC_id"
   ]
  },
  {
   "cell_type": "code",
   "execution_count": 11,
   "metadata": {
    "collapsed": true
   },
   "outputs": [],
   "source": [
    "from matplotlib.offsetbox import (TextArea, DrawingArea, OffsetImage,\n",
    "                                  AnnotationBbox)"
   ]
  },
  {
   "cell_type": "code",
   "execution_count": 12,
   "metadata": {
    "collapsed": false
   },
   "outputs": [],
   "source": [
    "run_number = 0\n",
    "DataPMT = load_db.DataPMT(run_number)\n",
    "DataSiPM = load_db.DataSiPM(run_number)\n",
    "xs = DataSiPM.X.values\n",
    "ys = DataSiPM.Y.values\n",
    "xpmt = DataPMT.X.values\n",
    "ypmt = DataPMT.Y.values\n",
    "pmt_active = np.nonzero(DataPMT.Active.values)[0].tolist()"
   ]
  },
  {
   "cell_type": "code",
   "execution_count": 13,
   "metadata": {
    "collapsed": true
   },
   "outputs": [],
   "source": [
    "channel_id = DataPMT.ChannelID.values\n",
    "coeff_blr = abs(DataPMT.coeff_blr.values)\n",
    "coeff_c = abs(DataPMT.coeff_c .values)\n",
    "adc_to_pes = abs(DataPMT.adc_to_pes.values)\n",
    "adc_to_pes_sipm = abs(DataSiPM.adc_to_pes.values)\n",
    "cid = ['{}'.format(c) for c in channel_id]"
   ]
  },
  {
   "cell_type": "code",
   "execution_count": 14,
   "metadata": {
    "collapsed": false,
    "scrolled": false
   },
   "outputs": [
    {
     "data": {
      "text/html": [
       "<div>\n",
       "<table border=\"1\" class=\"dataframe\">\n",
       "  <thead>\n",
       "    <tr style=\"text-align: right;\">\n",
       "      <th></th>\n",
       "      <th>SensorID</th>\n",
       "      <th>ChannelID</th>\n",
       "      <th>PmtID</th>\n",
       "      <th>Active</th>\n",
       "      <th>X</th>\n",
       "      <th>Y</th>\n",
       "      <th>coeff_blr</th>\n",
       "      <th>coeff_c</th>\n",
       "      <th>adc_to_pes</th>\n",
       "      <th>noise_rms</th>\n",
       "      <th>Sigma</th>\n",
       "    </tr>\n",
       "  </thead>\n",
       "  <tbody>\n",
       "    <tr>\n",
       "      <th>0</th>\n",
       "      <td>0</td>\n",
       "      <td>0</td>\n",
       "      <td>PMT1</td>\n",
       "      <td>1</td>\n",
       "      <td>-23.9414</td>\n",
       "      <td>65.7785</td>\n",
       "      <td>0.001632</td>\n",
       "      <td>0.000003</td>\n",
       "      <td>24.3395</td>\n",
       "      <td>0.7060</td>\n",
       "      <td>7.73100</td>\n",
       "    </tr>\n",
       "    <tr>\n",
       "      <th>1</th>\n",
       "      <td>1</td>\n",
       "      <td>18</td>\n",
       "      <td>PMT3</td>\n",
       "      <td>1</td>\n",
       "      <td>-44.9951</td>\n",
       "      <td>-53.6231</td>\n",
       "      <td>0.001632</td>\n",
       "      <td>0.000003</td>\n",
       "      <td>24.8580</td>\n",
       "      <td>0.8744</td>\n",
       "      <td>8.82000</td>\n",
       "    </tr>\n",
       "    <tr>\n",
       "      <th>2</th>\n",
       "      <td>2</td>\n",
       "      <td>1</td>\n",
       "      <td>PMT2</td>\n",
       "      <td>1</td>\n",
       "      <td>68.9365</td>\n",
       "      <td>-12.1554</td>\n",
       "      <td>0.001611</td>\n",
       "      <td>0.000003</td>\n",
       "      <td>26.2934</td>\n",
       "      <td>0.7213</td>\n",
       "      <td>8.01375</td>\n",
       "    </tr>\n",
       "    <tr>\n",
       "      <th>3</th>\n",
       "      <td>3</td>\n",
       "      <td>19</td>\n",
       "      <td>PMT4</td>\n",
       "      <td>1</td>\n",
       "      <td>0.0000</td>\n",
       "      <td>185.0000</td>\n",
       "      <td>0.001599</td>\n",
       "      <td>0.000003</td>\n",
       "      <td>26.4110</td>\n",
       "      <td>0.7624</td>\n",
       "      <td>8.42224</td>\n",
       "    </tr>\n",
       "    <tr>\n",
       "      <th>4</th>\n",
       "      <td>4</td>\n",
       "      <td>27</td>\n",
       "      <td>PMTC</td>\n",
       "      <td>1</td>\n",
       "      <td>-118.9160</td>\n",
       "      <td>141.7180</td>\n",
       "      <td>0.001567</td>\n",
       "      <td>0.000003</td>\n",
       "      <td>26.7098</td>\n",
       "      <td>0.7921</td>\n",
       "      <td>6.23125</td>\n",
       "    </tr>\n",
       "    <tr>\n",
       "      <th>5</th>\n",
       "      <td>5</td>\n",
       "      <td>26</td>\n",
       "      <td>PMTB</td>\n",
       "      <td>1</td>\n",
       "      <td>-182.1890</td>\n",
       "      <td>32.1249</td>\n",
       "      <td>0.001650</td>\n",
       "      <td>0.000004</td>\n",
       "      <td>22.4456</td>\n",
       "      <td>0.8660</td>\n",
       "      <td>5.65180</td>\n",
       "    </tr>\n",
       "    <tr>\n",
       "      <th>6</th>\n",
       "      <td>6</td>\n",
       "      <td>9</td>\n",
       "      <td>PMTA</td>\n",
       "      <td>1</td>\n",
       "      <td>-160.2150</td>\n",
       "      <td>-92.5000</td>\n",
       "      <td>0.001593</td>\n",
       "      <td>0.000003</td>\n",
       "      <td>23.3552</td>\n",
       "      <td>0.7062</td>\n",
       "      <td>7.37840</td>\n",
       "    </tr>\n",
       "    <tr>\n",
       "      <th>7</th>\n",
       "      <td>7</td>\n",
       "      <td>8</td>\n",
       "      <td>PMT9</td>\n",
       "      <td>1</td>\n",
       "      <td>-63.2737</td>\n",
       "      <td>-173.8430</td>\n",
       "      <td>0.001612</td>\n",
       "      <td>0.000003</td>\n",
       "      <td>33.8821</td>\n",
       "      <td>0.7278</td>\n",
       "      <td>11.94840</td>\n",
       "    </tr>\n",
       "    <tr>\n",
       "      <th>8</th>\n",
       "      <td>8</td>\n",
       "      <td>23</td>\n",
       "      <td>PMT8</td>\n",
       "      <td>1</td>\n",
       "      <td>63.2737</td>\n",
       "      <td>-173.8430</td>\n",
       "      <td>0.001601</td>\n",
       "      <td>0.000003</td>\n",
       "      <td>21.8220</td>\n",
       "      <td>0.7303</td>\n",
       "      <td>6.11073</td>\n",
       "    </tr>\n",
       "    <tr>\n",
       "      <th>9</th>\n",
       "      <td>9</td>\n",
       "      <td>22</td>\n",
       "      <td>PMT7</td>\n",
       "      <td>1</td>\n",
       "      <td>160.2150</td>\n",
       "      <td>-92.5000</td>\n",
       "      <td>0.001593</td>\n",
       "      <td>0.000003</td>\n",
       "      <td>25.8020</td>\n",
       "      <td>0.7160</td>\n",
       "      <td>7.46200</td>\n",
       "    </tr>\n",
       "    <tr>\n",
       "      <th>10</th>\n",
       "      <td>10</td>\n",
       "      <td>5</td>\n",
       "      <td>PMT6</td>\n",
       "      <td>1</td>\n",
       "      <td>182.1890</td>\n",
       "      <td>32.1249</td>\n",
       "      <td>0.001575</td>\n",
       "      <td>0.000003</td>\n",
       "      <td>19.5590</td>\n",
       "      <td>0.7323</td>\n",
       "      <td>4.85470</td>\n",
       "    </tr>\n",
       "    <tr>\n",
       "      <th>11</th>\n",
       "      <td>11</td>\n",
       "      <td>4</td>\n",
       "      <td>PMT5</td>\n",
       "      <td>1</td>\n",
       "      <td>118.9160</td>\n",
       "      <td>141.7180</td>\n",
       "      <td>0.001596</td>\n",
       "      <td>0.000003</td>\n",
       "      <td>22.1970</td>\n",
       "      <td>0.7206</td>\n",
       "      <td>6.00400</td>\n",
       "    </tr>\n",
       "  </tbody>\n",
       "</table>\n",
       "</div>"
      ],
      "text/plain": [
       "    SensorID  ChannelID PmtID  Active         X         Y  coeff_blr  \\\n",
       "0          0          0  PMT1       1  -23.9414   65.7785   0.001632   \n",
       "1          1         18  PMT3       1  -44.9951  -53.6231   0.001632   \n",
       "2          2          1  PMT2       1   68.9365  -12.1554   0.001611   \n",
       "3          3         19  PMT4       1    0.0000  185.0000   0.001599   \n",
       "4          4         27  PMTC       1 -118.9160  141.7180   0.001567   \n",
       "5          5         26  PMTB       1 -182.1890   32.1249   0.001650   \n",
       "6          6          9  PMTA       1 -160.2150  -92.5000   0.001593   \n",
       "7          7          8  PMT9       1  -63.2737 -173.8430   0.001612   \n",
       "8          8         23  PMT8       1   63.2737 -173.8430   0.001601   \n",
       "9          9         22  PMT7       1  160.2150  -92.5000   0.001593   \n",
       "10        10          5  PMT6       1  182.1890   32.1249   0.001575   \n",
       "11        11          4  PMT5       1  118.9160  141.7180   0.001596   \n",
       "\n",
       "     coeff_c  adc_to_pes  noise_rms     Sigma  \n",
       "0   0.000003     24.3395     0.7060   7.73100  \n",
       "1   0.000003     24.8580     0.8744   8.82000  \n",
       "2   0.000003     26.2934     0.7213   8.01375  \n",
       "3   0.000003     26.4110     0.7624   8.42224  \n",
       "4   0.000003     26.7098     0.7921   6.23125  \n",
       "5   0.000004     22.4456     0.8660   5.65180  \n",
       "6   0.000003     23.3552     0.7062   7.37840  \n",
       "7   0.000003     33.8821     0.7278  11.94840  \n",
       "8   0.000003     21.8220     0.7303   6.11073  \n",
       "9   0.000003     25.8020     0.7160   7.46200  \n",
       "10  0.000003     19.5590     0.7323   4.85470  \n",
       "11  0.000003     22.1970     0.7206   6.00400  "
      ]
     },
     "execution_count": 14,
     "metadata": {},
     "output_type": "execute_result"
    }
   ],
   "source": [
    "DataPMT"
   ]
  },
  {
   "cell_type": "code",
   "execution_count": 15,
   "metadata": {
    "collapsed": false
   },
   "outputs": [],
   "source": [
    "def draw_pmt_map(cid, xpmt,ypmt):\n",
    "    fig, ax = plt.subplots()\n",
    "    plt.plot(xpmt, ypmt, 'o')\n",
    "\n",
    "    for c, x,y in zip(cid, xpmt,ypmt):\n",
    "        xy = (x,y)\n",
    "        offsetbox = TextArea(c, minimumdescent=False)\n",
    "        ab = AnnotationBbox(offsetbox, xy)\n",
    "        ax.add_artist(ab)\n",
    "\n",
    "    plt.show()"
   ]
  },
  {
   "cell_type": "code",
   "execution_count": 16,
   "metadata": {
    "collapsed": false
   },
   "outputs": [
    {
     "data": {
      "image/png": "[encoded data removed]",
      "text/plain": [
       "<matplotlib.figure.Figure at 0x114b02128>"
      ]
     },
     "metadata": {},
     "output_type": "display_data"
    }
   ],
   "source": [
    "draw_pmt_map(cid, xpmt,ypmt)"
   ]
  },
  {
   "cell_type": "markdown",
   "metadata": {},
   "source": [
    "### Beware of inconsistencies when simulating trigger.  Monte Carlo Map must be same than Data Map."
   ]
  },
  {
   "cell_type": "code",
   "execution_count": 17,
   "metadata": {
    "collapsed": true
   },
   "outputs": [],
   "source": [
    "event=0"
   ]
  },
  {
   "cell_type": "code",
   "execution_count": 23,
   "metadata": {
    "collapsed": false
   },
   "outputs": [],
   "source": [
    "#filename = '/Users/jjgomezcadenas/Projects/ICDATA/electrons_40keV_z250_MCRD.h5'\n",
    "filename = '/Users/jjgomezcadenas/Projects/ICDATA/MC_PreProd_July_2017/dst_NEXT_v1_00_05_Kr_ACTIVE_0_0_7bar_MCRD_10000.root.h5'\n",
    "\n",
    "h5in = tb.open_file(filename, \"r\") \n",
    "NEVT_pmt, pmtrd, sipmrd = tbl.get_rd_vectors(h5in)\n",
    "_, NPMT,   PMTWL = pmtrd .shape\n",
    "_, NSIPM, SIPMWL = sipmrd.shape\n",
    "PMTWL_FEE = int(PMTWL // FE.t_sample)\n",
    "sp = SensorParams(NPMT, PMTWL_FEE, NSIPM, SIPMWL)"
   ]
  },
  {
   "cell_type": "code",
   "execution_count": 24,
   "metadata": {
    "collapsed": false
   },
   "outputs": [
    {
     "name": "stdout",
     "output_type": "stream",
     "text": [
      "####################\n",
      "SensorParams\n",
      "####################\n",
      "npmt: 12\n",
      "pmtwl: 48000\n",
      "nsipm: 1792\n",
      "sipmwl: 1200\n",
      "\n"
     ]
    }
   ],
   "source": [
    "print(sp)"
   ]
  },
  {
   "cell_type": "code",
   "execution_count": 25,
   "metadata": {
    "collapsed": false
   },
   "outputs": [
    {
     "name": "stdout",
     "output_type": "stream",
     "text": [
      "48000\n"
     ]
    }
   ],
   "source": [
    "print(PMTWL_FEE )"
   ]
  },
  {
   "cell_type": "code",
   "execution_count": 26,
   "metadata": {
    "collapsed": false
   },
   "outputs": [],
   "source": [
    "dataPMT, blrPMT = sf.simulate_pmt_response(event, pmtrd, adc_to_pes)"
   ]
  },
  {
   "cell_type": "code",
   "execution_count": 27,
   "metadata": {
    "collapsed": false
   },
   "outputs": [
    {
     "data": {
      "image/png": "[encoded data removed]",
      "text/plain": [
       "<matplotlib.figure.Figure at 0x118cd0390>"
      ]
     },
     "metadata": {},
     "output_type": "display_data"
    }
   ],
   "source": [
    "mpl.plot_pmt_waveforms(dataPMT, zoom=False, window_size=1200, figsize=(10,10))"
   ]
  },
  {
   "cell_type": "code",
   "execution_count": null,
   "metadata": {
    "collapsed": false
   },
   "outputs": [],
   "source": [
    "mpl.plot_pmt_waveforms(dataPMT, zoom=True, window_size=1200, figsize=(10,10))"
   ]
  },
  {
   "cell_type": "code",
   "execution_count": null,
   "metadata": {
    "collapsed": false
   },
   "outputs": [],
   "source": [
    "mpl.plot_pmt_waveforms(blrPMT, zoom=True, window_size=1200, figsize=(10,10))"
   ]
  },
  {
   "cell_type": "code",
   "execution_count": null,
   "metadata": {
    "collapsed": false
   },
   "outputs": [],
   "source": [
    "RWF = dataPMT.astype(np.int16)"
   ]
  },
  {
   "cell_type": "code",
   "execution_count": null,
   "metadata": {
    "collapsed": false
   },
   "outputs": [],
   "source": [
    "RWF.dtype"
   ]
  },
  {
   "cell_type": "code",
   "execution_count": null,
   "metadata": {
    "collapsed": true
   },
   "outputs": [],
   "source": [
    "BLR = blrPMT"
   ]
  },
  {
   "cell_type": "code",
   "execution_count": null,
   "metadata": {
    "collapsed": false
   },
   "outputs": [],
   "source": [
    "CWF = blr.deconv_pmt(RWF,\n",
    "                     coeff_c,\n",
    "                     coeff_blr,\n",
    "                     pmt_active,\n",
    "                     n_baseline=28000,\n",
    "                     thr_trigger=5)\n",
    "\n",
    "        "
   ]
  },
  {
   "cell_type": "code",
   "execution_count": null,
   "metadata": {
    "collapsed": false
   },
   "outputs": [],
   "source": [
    "mpl.plot_wfa_wfb(CWF, BLR, zoom=True, window_size=800)"
   ]
  },
  {
   "cell_type": "code",
   "execution_count": null,
   "metadata": {
    "collapsed": false
   },
   "outputs": [],
   "source": [
    "diff = wfm.compare_cwf_blr(cwf = [CWF],\n",
    "                           pmtblr = [BLR],\n",
    "                           event_list = [0],\n",
    "                           window_size = 500)"
   ]
  },
  {
   "cell_type": "code",
   "execution_count": null,
   "metadata": {
    "collapsed": false
   },
   "outputs": [],
   "source": [
    "diff"
   ]
  },
  {
   "cell_type": "code",
   "execution_count": null,
   "metadata": {
    "collapsed": false
   },
   "outputs": [],
   "source": [
    "np.sum(diff)"
   ]
  },
  {
   "cell_type": "markdown",
   "metadata": {},
   "source": [
    "### Emulate trigger"
   ]
  },
  {
   "cell_type": "code",
   "execution_count": null,
   "metadata": {
    "collapsed": true
   },
   "outputs": [],
   "source": [
    "thresholds = ThresholdParams(thr_s1=0.5 * units.pes,\n",
    "                      thr_s2=1.0 * units.pes,\n",
    "                      thr_MAU=3*units.adc,\n",
    "                      thr_sipm=1.5*units.pes,\n",
    "                      thr_SIPM=15*units.pes)\n",
    "\n",
    "s2par = S12Params(time = minmax(min    = 101 * units.mus,\n",
    "                           max    = 799 * units.mus),\n",
    "                           stride = 40,\n",
    "                           length = minmax(min = 80, max = 1e5),  # 4 mus --\n",
    "                           rebin  = True)\n",
    "\n"
   ]
  },
  {
   "cell_type": "code",
   "execution_count": null,
   "metadata": {
    "collapsed": false
   },
   "outputs": [],
   "source": [
    "csum, csum_mau = cpf.calibrated_pmt_sum(CWF,\n",
    "                                            adc_to_pes,\n",
    "                                            pmt_active  = pmt_active,\n",
    "                                            n_MAU       = 100,\n",
    "                                            thr_MAU     = thresholds.thr_MAU)"
   ]
  },
  {
   "cell_type": "code",
   "execution_count": null,
   "metadata": {
    "collapsed": false
   },
   "outputs": [],
   "source": [
    "mpl.plot_signal_vs_time_mus(csum,\n",
    "                        t_min      = 0,\n",
    "                        t_max      = 800,\n",
    "                        signal_min =    -10,\n",
    "                        signal_max =  120,\n",
    "                        figsize=(6,6))"
   ]
  },
  {
   "cell_type": "code",
   "execution_count": null,
   "metadata": {
    "collapsed": true
   },
   "outputs": [],
   "source": [
    "s2_ene, s2_indx = cpf.wfzs(csum, threshold=thresholds.thr_s2)"
   ]
  },
  {
   "cell_type": "code",
   "execution_count": null,
   "metadata": {
    "collapsed": true
   },
   "outputs": [],
   "source": [
    "s2 = cpf.find_s2(csum, s2_indx, **s2par._asdict())"
   ]
  },
  {
   "cell_type": "code",
   "execution_count": null,
   "metadata": {
    "collapsed": false
   },
   "outputs": [],
   "source": [
    "s2"
   ]
  },
  {
   "cell_type": "code",
   "execution_count": null,
   "metadata": {
    "collapsed": false
   },
   "outputs": [],
   "source": [
    "plot_s12(s2)"
   ]
  },
  {
   "cell_type": "code",
   "execution_count": null,
   "metadata": {
    "collapsed": true
   },
   "outputs": [],
   "source": [
    "wfm_ene, wfm_index = cpf.wfzs(CWF[2].astype(np.double),\n",
    "                                          threshold = min_height)"
   ]
  },
  {
   "cell_type": "code",
   "execution_count": null,
   "metadata": {
    "collapsed": true
   },
   "outputs": [],
   "source": [
    "s2 = cpf.find_s2(CWF[2].astype(np.double),wfm_index, **s2par._asdict())"
   ]
  },
  {
   "cell_type": "code",
   "execution_count": null,
   "metadata": {
    "collapsed": false
   },
   "outputs": [],
   "source": [
    "plot_s12(s2)"
   ]
  },
  {
   "cell_type": "code",
   "execution_count": null,
   "metadata": {
    "collapsed": false
   },
   "outputs": [],
   "source": [
    "s2"
   ]
  },
  {
   "cell_type": "code",
   "execution_count": null,
   "metadata": {
    "collapsed": true
   },
   "outputs": [],
   "source": []
  },
  {
   "cell_type": "code",
   "execution_count": null,
   "metadata": {
    "collapsed": true
   },
   "outputs": [],
   "source": [
    "# Min/max height of signal in ADC counts per PMT\n",
    "tr_channels = [0,1]\n",
    "min_number_channels = 2\n",
    "\n",
    "\n",
    "min_height =   15 * units.adc\n",
    "max_height = 20000 * units.adc\n",
    "\n",
    "# Min/max width in ns\n",
    "min_width =  3000 * units.ns\n",
    "max_width = 15000 * units.ns\n",
    "\n",
    "# Min/max charge in ADC counts per PMT\n",
    "min_charge =  3000 * units.adc\n",
    "max_charge = 50000 * units.adc\n",
    "height = minmax(min = min_height, max = max_height)\n",
    "charge = minmax(min = min_charge, max = max_charge)\n",
    "width  = minmax(min = min_width , max = max_width )\n",
    "data_mc_ratio = 0.8"
   ]
  },
  {
   "cell_type": "code",
   "execution_count": null,
   "metadata": {
    "collapsed": false
   },
   "outputs": [],
   "source": [
    "IC_ids_selection = convert_channel_id_to_IC_id(DataPMT, tr_channels)"
   ]
  },
  {
   "cell_type": "code",
   "execution_count": null,
   "metadata": {
    "collapsed": false
   },
   "outputs": [],
   "source": [
    "IC_ids_selection"
   ]
  },
  {
   "cell_type": "code",
   "execution_count": null,
   "metadata": {
    "collapsed": false
   },
   "outputs": [],
   "source": [
    "peak_data = {}  \n",
    "for pmt_id in IC_ids_selection:        \n",
    "    wfm_ene, wfm_index = cpf.wfzs(CWF[pmt_id].astype(np.double),\n",
    "                                          threshold = min_height)\n",
    "           \n",
    "    s2 =  cpf.find_s2(CWF[pmt_id].astype(np.double), wfm_index, **s2par._asdict()) \n",
    "    peak_data[pmt_id] = s2"
   ]
  },
  {
   "cell_type": "code",
   "execution_count": null,
   "metadata": {
    "collapsed": false
   },
   "outputs": [],
   "source": [
    "peak_data"
   ]
  },
  {
   "cell_type": "code",
   "execution_count": null,
   "metadata": {
    "collapsed": false
   },
   "outputs": [],
   "source": [
    "tp = TriggerParams(trigger_channels    = tr_channels,\n",
    "                   min_number_channels = min_number_channels,\n",
    "                             charge              = charge * data_mc_ratio,\n",
    "                             height              = height * data_mc_ratio,\n",
    "                             width               = width)"
   ]
  },
  {
   "cell_type": "code",
   "execution_count": null,
   "metadata": {
    "collapsed": true
   },
   "outputs": [],
   "source": [
    "\n",
    "def TriggerFilter(trigger_params):\n",
    "    \"\"\"Trigger Filter module\"\"\"\n",
    "    def trigger_filter(peak_data : '{channel_no: s2}'):\n",
    "        min_charge, max_charge = trigger_params.charge\n",
    "        min_height, max_height = trigger_params.height\n",
    "        min_width , max_width  = trigger_params. width\n",
    "        n_channels_fired = 0\n",
    "        print(min_width,  max_width)\n",
    "        print(min_charge,  max_charge)\n",
    "        print(min_height,  max_height)\n",
    "        for channel_no, s2 in peak_data.items():\n",
    "            for peak_number, peak in s2.peaks.items():\n",
    "                print(peak.width)\n",
    "                print(peak.total_energy)\n",
    "                print(peak.height)\n",
    "                if         min_width  < peak.width        <= max_width:\n",
    "                    if     min_charge < peak.total_energy <= max_charge:\n",
    "                        if min_height < peak.height <= max_height:\n",
    "                            n_channels_fired += 1\n",
    "                            print(n_channels_fired)\n",
    "                            if n_channels_fired == trigger_params.min_number_channels:\n",
    "                                return True\n",
    "        return False\n",
    "    return trigger_filter"
   ]
  },
  {
   "cell_type": "code",
   "execution_count": null,
   "metadata": {
    "collapsed": true
   },
   "outputs": [],
   "source": [
    "tf = TriggerFilter(tp)"
   ]
  },
  {
   "cell_type": "code",
   "execution_count": null,
   "metadata": {
    "collapsed": false
   },
   "outputs": [],
   "source": [
    "peak_data"
   ]
  },
  {
   "cell_type": "code",
   "execution_count": null,
   "metadata": {
    "collapsed": false
   },
   "outputs": [],
   "source": [
    "tf(peak_data)"
   ]
  },
  {
   "cell_type": "code",
   "execution_count": null,
   "metadata": {
    "collapsed": true
   },
   "outputs": [],
   "source": []
  }
 ],
 "metadata": {
  "kernelspec": {
   "display_name": "Python 3",
   "language": "python",
   "name": "python3"
  },
  "language_info": {
   "codemirror_mode": {
    "name": "ipython",
    "version": 3
   },
   "file_extension": ".py",
   "mimetype": "text/x-python",
   "name": "python",
   "nbconvert_exporter": "python",
   "pygments_lexer": "ipython3",
   "version": "3.6.0"
  }
 },
 "nbformat": 4,
 "nbformat_minor": 2
}
