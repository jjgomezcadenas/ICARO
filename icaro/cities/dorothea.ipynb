{
 "cells": [
  {
   "cell_type": "code",
   "execution_count": 1,
   "metadata": {
    "collapsed": false
   },
   "outputs": [
    {
     "name": "stdout",
     "output_type": "stream",
     "text": [
      "2017-07-09 09:11:03\n"
     ]
    }
   ],
   "source": [
    "import os\n",
    "import datetime\n",
    "print(datetime.datetime.now().strftime('%Y-%m-%d %H:%M:%S'))\n",
    "\n",
    "import time\n",
    "import glob\n",
    "import tables as tb\n",
    "import numpy as np\n",
    "import pandas as pd\n",
    "import matplotlib.pyplot as plt\n",
    "from functools import reduce"
   ]
  },
  {
   "cell_type": "code",
   "execution_count": 2,
   "metadata": {
    "collapsed": false
   },
   "outputs": [],
   "source": [
    "%matplotlib inline\n",
    "%load_ext autoreload\n",
    "%autoreload 2\n",
    "\n",
    "plt.rcParams[\"figure.figsize\"] = 10, 8\n",
    "plt.rcParams[\"font.size\"     ] = 14"
   ]
  },
  {
   "cell_type": "code",
   "execution_count": 3,
   "metadata": {
    "collapsed": false
   },
   "outputs": [],
   "source": [
    "from invisible_cities.database import load_db\n",
    "\n",
    "import invisible_cities.sierpe.blr as blr\n",
    "\n",
    "import invisible_cities.reco.tbl_functions as tbl\n",
    "import invisible_cities.reco.peak_functions as pf\n",
    "import invisible_cities.reco.peak_functions_c as cpf\n",
    "\n",
    "from   invisible_cities.reco.params           import S12Params \n",
    "from   invisible_cities.reco.params           import CalibVectors\n",
    "from   invisible_cities.reco.params           import DeconvParams\n",
    "from   invisible_cities.reco.params           import ThresholdParams\n",
    "\n",
    "from   invisible_cities.core.system_of_units_c import units\n",
    "from   invisible_cities.core.ic_types import minmax\n",
    "import invisible_cities.icaro.mpl_functions as mpl\n",
    "from   invisible_cities.icaro.pmaps_mpl import plot_s12\n",
    "from   invisible_cities.icaro.pmaps_mpl import plot_s2si_map"
   ]
  },
  {
   "cell_type": "code",
   "execution_count": 4,
   "metadata": {
    "collapsed": true
   },
   "outputs": [],
   "source": [
    "import invisible_cities.icaro.mpl_functions as mpl"
   ]
  },
  {
   "cell_type": "code",
   "execution_count": 5,
   "metadata": {
    "collapsed": false
   },
   "outputs": [],
   "source": [
    "import invisible_cities.reco.event_model as evm\n",
    "from invisible_cities.core.ic_types import minmax"
   ]
  },
  {
   "cell_type": "code",
   "execution_count": 6,
   "metadata": {
    "collapsed": false
   },
   "outputs": [],
   "source": [
    "from invisible_cities.evm.pmaps import S1\n",
    "from invisible_cities.evm.pmaps import S2\n",
    "from invisible_cities.evm.pmaps import S2Si"
   ]
  },
  {
   "cell_type": "code",
   "execution_count": 7,
   "metadata": {
    "collapsed": false
   },
   "outputs": [],
   "source": [
    "from invisible_cities.io.pmap_io                 import load_pmaps\n",
    "from invisible_cities.io.pmap_io                 import s1_s2_si_from_pmaps"
   ]
  },
  {
   "cell_type": "code",
   "execution_count": 8,
   "metadata": {
    "collapsed": true
   },
   "outputs": [],
   "source": [
    "from invisible_cities.filters.s1s2_filter    import s1s2_filter\n",
    "from invisible_cities.filters.s1s2_filter    import S12Selector"
   ]
  },
  {
   "cell_type": "code",
   "execution_count": 9,
   "metadata": {
    "collapsed": true
   },
   "outputs": [],
   "source": [
    "from invisible_cities.core.exceptions        import SipmEmptyList\n",
    "from invisible_cities.core.exceptions        import SipmNotFound\n",
    "from invisible_cities.core.exceptions        import PeakNotFound"
   ]
  },
  {
   "cell_type": "code",
   "execution_count": 10,
   "metadata": {
    "collapsed": true
   },
   "outputs": [],
   "source": [
    "from invisible_cities.core.configure     import configure"
   ]
  },
  {
   "cell_type": "code",
   "execution_count": 11,
   "metadata": {
    "collapsed": false
   },
   "outputs": [],
   "source": [
    "run_number = 0\n",
    "DataPMT = load_db.DataPMT(run_number)\n",
    "DataSiPM = load_db.DataSiPM(run_number)\n",
    "xs = DataSiPM.X.values\n",
    "ys = DataSiPM.Y.values\n",
    "pmt_active = np.nonzero(DataPMT.Active.values)[0].tolist()"
   ]
  },
  {
   "cell_type": "code",
   "execution_count": 12,
   "metadata": {
    "collapsed": true
   },
   "outputs": [],
   "source": [
    "channel_id = DataPMT.ChannelID.values\n",
    "coeff_blr = abs(DataPMT.coeff_blr.values)\n",
    "coeff_c = abs(DataPMT.coeff_c .values)\n",
    "adc_to_pes = abs(DataPMT.adc_to_pes.values)\n",
    "adc_to_pes_sipm = abs(DataSiPM.adc_to_pes.values)"
   ]
  },
  {
   "cell_type": "code",
   "execution_count": 13,
   "metadata": {
    "collapsed": false
   },
   "outputs": [],
   "source": [
    "from invisible_cities.reco.dst_functions  import load_dst"
   ]
  },
  {
   "cell_type": "code",
   "execution_count": 14,
   "metadata": {
    "collapsed": true
   },
   "outputs": [],
   "source": [
    "from invisible_cities.reco.tbl_functions     import get_event_numbers_and_timestamps_from_file_name"
   ]
  },
  {
   "cell_type": "code",
   "execution_count": 15,
   "metadata": {
    "collapsed": false
   },
   "outputs": [],
   "source": [
    "filename = '/Users/jjgomezcadenas/Projects/IC/invisible_cities/database/test_data/KrMC_pmaps.h5'\n",
    "h5 = tb.open_file(filename, \"r\") \n",
    "s1_dict, s2_dict, s2si_dict = load_pmaps(filename)"
   ]
  },
  {
   "cell_type": "markdown",
   "metadata": {},
   "source": [
    "### s1_dict = {events:s1} and same for the other pmaps"
   ]
  },
  {
   "cell_type": "code",
   "execution_count": 16,
   "metadata": {
    "collapsed": false
   },
   "outputs": [
    {
     "name": "stdout",
     "output_type": "stream",
     "text": [
      "{23, 24, 25, 26, 27, 28, 29, 30, 31, 32, 33, 34, 35, 36, 37, 38, 39, 40, 41, 42, 43, 44, 45, 46, 47, 49, 51}\n"
     ]
    }
   ],
   "source": [
    "print(set(s1_dict.keys()))"
   ]
  },
  {
   "cell_type": "code",
   "execution_count": 17,
   "metadata": {
    "collapsed": false
   },
   "outputs": [
    {
     "name": "stdout",
     "output_type": "stream",
     "text": [
      "{32, 33, 34, 35, 36, 37, 38, 39, 40, 31}\n"
     ]
    }
   ],
   "source": [
    "print(set(s2_dict.keys()))"
   ]
  },
  {
   "cell_type": "code",
   "execution_count": 18,
   "metadata": {
    "collapsed": false
   },
   "outputs": [
    {
     "name": "stdout",
     "output_type": "stream",
     "text": [
      "{32, 33, 34, 35, 36, 37, 38, 39, 40, 31}\n"
     ]
    }
   ],
   "source": [
    "print(set(s1_dict.keys()).intersection(set(s2_dict.keys())))"
   ]
  },
  {
   "cell_type": "code",
   "execution_count": 19,
   "metadata": {
    "collapsed": true
   },
   "outputs": [],
   "source": [
    "event_numbers, timestamps = get_event_numbers_and_timestamps_from_file_name(filename)"
   ]
  },
  {
   "cell_type": "code",
   "execution_count": 20,
   "metadata": {
    "collapsed": false
   },
   "outputs": [
    {
     "name": "stdout",
     "output_type": "stream",
     "text": [
      "[23 24 25 26 27 28 29 30 31 32 33 34 35 36 37 38 39 40 41 42 43 44 45 46 47\n",
      " 49 51]\n"
     ]
    }
   ],
   "source": [
    "print(event_numbers)"
   ]
  },
  {
   "cell_type": "code",
   "execution_count": 21,
   "metadata": {
    "collapsed": false
   },
   "outputs": [],
   "source": [
    "assert (set(event_numbers) == set(s1_dict.keys()).union(set(s2_dict.keys())))"
   ]
  },
  {
   "cell_type": "markdown",
   "metadata": {},
   "source": [
    "### Follow the Dorothea loop for the first event"
   ]
  },
  {
   "cell_type": "code",
   "execution_count": 22,
   "metadata": {
    "collapsed": true
   },
   "outputs": [],
   "source": [
    "evt_number = event_numbers[0]"
   ]
  },
  {
   "cell_type": "code",
   "execution_count": 23,
   "metadata": {
    "collapsed": false
   },
   "outputs": [],
   "source": [
    "s1, s2, s2si = s1_s2_si_from_pmaps(s1_dict, s2_dict, s2si_dict, evt_number)"
   ]
  },
  {
   "cell_type": "code",
   "execution_count": 24,
   "metadata": {
    "collapsed": false
   },
   "outputs": [
    {
     "data": {
      "text/plain": [
       "S1 (number of peaks = 1)\n",
       "peak number = 0: Peak(samples = 9 width =      0.2 mus , energy =      8.4 pes\n",
       "        height =      2.3 pes tmin-tmax = minmax(min=100.075, max=100.3) mus  "
      ]
     },
     "execution_count": 24,
     "metadata": {},
     "output_type": "execute_result"
    }
   ],
   "source": [
    "s1"
   ]
  },
  {
   "cell_type": "code",
   "execution_count": 25,
   "metadata": {
    "collapsed": false
   },
   "outputs": [
    {
     "data": {
      "text/plain": [
       "True"
      ]
     },
     "execution_count": 25,
     "metadata": {},
     "output_type": "execute_result"
    }
   ],
   "source": [
    "s2 == None"
   ]
  },
  {
   "cell_type": "code",
   "execution_count": 26,
   "metadata": {
    "collapsed": false
   },
   "outputs": [],
   "source": [
    "s2si"
   ]
  },
  {
   "cell_type": "code",
   "execution_count": 37,
   "metadata": {
    "collapsed": false
   },
   "outputs": [
    {
     "name": "stdout",
     "output_type": "stream",
     "text": [
      "8 31\n"
     ]
    }
   ],
   "source": [
    "for i, evt_number in enumerate(event_numbers):\n",
    "    s1, s2, s2si = s1_s2_si_from_pmaps(s1_dict, s2_dict, s2si_dict, evt_number)\n",
    "    if s1 and s2 and s2si:\n",
    "        break\n",
    "print (i,evt_number)"
   ]
  },
  {
   "cell_type": "code",
   "execution_count": null,
   "metadata": {
    "collapsed": true
   },
   "outputs": [],
   "source": []
  },
  {
   "cell_type": "markdown",
   "metadata": {},
   "source": [
    "#### Event 23 is not present in s2_dict, thus the result is an empty dict (same for s2si)"
   ]
  },
  {
   "cell_type": "markdown",
   "metadata": {},
   "source": [
    "### Configure Dorothea"
   ]
  },
  {
   "cell_type": "code",
   "execution_count": 27,
   "metadata": {
    "collapsed": true
   },
   "outputs": [],
   "source": [
    "conf = configure('dummy /Users/jjgomezcadenas/Projects/IC/invisible_cities/config/dorothea.conf'.split()).as_dict"
   ]
  },
  {
   "cell_type": "code",
   "execution_count": 28,
   "metadata": {
    "collapsed": false
   },
   "outputs": [
    {
     "data": {
      "text/plain": [
       "{'compression': 'ZLIB4',\n",
       " 'config_file': '/Users/jjgomezcadenas/Projects/IC/invisible_cities/config/dorothea.conf',\n",
       " 'drift_v': 0.001,\n",
       " 'file_out': '/tmp/KrDST.h5',\n",
       " 'files_in': '$ICDIR/database/test_data/KrMC_pmaps*.h5',\n",
       " 'full_files': False,\n",
       " 'hide_config': False,\n",
       " 'nmax': 1,\n",
       " 'no_files': False,\n",
       " 'no_overrides': False,\n",
       " 'nprint': 1,\n",
       " 'print_config_only': False,\n",
       " 'run_all': False,\n",
       " 'run_number': 0,\n",
       " 's1_emax': 20,\n",
       " 's1_emin': 0,\n",
       " 's1_ethr': 0.5,\n",
       " 's1_hmax': 20,\n",
       " 's1_hmin': 0,\n",
       " 's1_lmax': 20,\n",
       " 's1_lmin': 4,\n",
       " 's1_nmax': 1,\n",
       " 's1_nmin': 1,\n",
       " 's2_emax': 20000,\n",
       " 's2_emin': 1000,\n",
       " 's2_ethr': 0.5,\n",
       " 's2_hmax': 10000,\n",
       " 's2_hmin': 0,\n",
       " 's2_lmax': 1000,\n",
       " 's2_lmin': 1,\n",
       " 's2_nmax': 1,\n",
       " 's2_nmin': 1,\n",
       " 's2_nsipmmax': 100,\n",
       " 's2_nsipmmin': 1,\n",
       " 'skip': 0,\n",
       " 'verbosity': 0}"
      ]
     },
     "execution_count": 28,
     "metadata": {},
     "output_type": "execute_result"
    }
   ],
   "source": [
    "conf"
   ]
  },
  {
   "cell_type": "code",
   "execution_count": 29,
   "metadata": {
    "collapsed": true
   },
   "outputs": [],
   "source": [
    "mm = units.mm\n",
    "mus = units.mus\n",
    "pes = units.pes"
   ]
  },
  {
   "cell_type": "code",
   "execution_count": 30,
   "metadata": {
    "collapsed": false
   },
   "outputs": [],
   "source": [
    "conf.update(dict(run_number = 0,\n",
    "\n",
    "                     drift_v     =      1 * mm / mus,\n",
    "                     s1_nmin     =      1,\n",
    "                     s1_nmax     =      1,\n",
    "                     s1_emin     =      0 * pes,\n",
    "                     s1_emax     =     30,\n",
    "                     s1_lmin     =      4,\n",
    "                     s1_lmax     =     20,\n",
    "                     s1_hmin     =    0.5 * pes,\n",
    "                     s1_hmax     =     10 * pes,\n",
    "                     s1_ethr     =    0.5 * pes,\n",
    "                     s2_nmin     =      1,\n",
    "                     s2_nmax     =      2,\n",
    "                     s2_emin     =    1e3 * pes,\n",
    "                     s2_emax     =    1e8 * pes,\n",
    "                     s2_lmin     =      1,\n",
    "                     s2_lmax     =     20,\n",
    "                     s2_hmin     =    500 * pes,\n",
    "                     s2_hmax     =    1e5 * pes,\n",
    "                     s2_ethr     =      1 * pes,\n",
    "                     s2_nsipmmin =      2,\n",
    "                     s2_nsipmmax =   1000,\n",
    "                     nmax        = 10))"
   ]
  },
  {
   "cell_type": "code",
   "execution_count": 31,
   "metadata": {
    "collapsed": false
   },
   "outputs": [
    {
     "data": {
      "text/plain": [
       "{'compression': 'ZLIB4',\n",
       " 'config_file': '/Users/jjgomezcadenas/Projects/IC/invisible_cities/config/dorothea.conf',\n",
       " 'drift_v': 0.001,\n",
       " 'file_out': '/tmp/KrDST.h5',\n",
       " 'files_in': '$ICDIR/database/test_data/KrMC_pmaps*.h5',\n",
       " 'full_files': False,\n",
       " 'hide_config': False,\n",
       " 'nmax': 10,\n",
       " 'no_files': False,\n",
       " 'no_overrides': False,\n",
       " 'nprint': 1,\n",
       " 'print_config_only': False,\n",
       " 'run_all': False,\n",
       " 'run_number': 0,\n",
       " 's1_emax': 30,\n",
       " 's1_emin': 0.0,\n",
       " 's1_ethr': 0.5,\n",
       " 's1_hmax': 10.0,\n",
       " 's1_hmin': 0.5,\n",
       " 's1_lmax': 20,\n",
       " 's1_lmin': 4,\n",
       " 's1_nmax': 1,\n",
       " 's1_nmin': 1,\n",
       " 's2_emax': 100000000.0,\n",
       " 's2_emin': 1000.0,\n",
       " 's2_ethr': 1.0,\n",
       " 's2_hmax': 100000.0,\n",
       " 's2_hmin': 500.0,\n",
       " 's2_lmax': 20,\n",
       " 's2_lmin': 1,\n",
       " 's2_nmax': 2,\n",
       " 's2_nmin': 1,\n",
       " 's2_nsipmmax': 1000,\n",
       " 's2_nsipmmin': 2,\n",
       " 'skip': 0,\n",
       " 'verbosity': 0}"
      ]
     },
     "execution_count": 31,
     "metadata": {},
     "output_type": "execute_result"
    }
   ],
   "source": [
    "conf"
   ]
  },
  {
   "cell_type": "markdown",
   "metadata": {},
   "source": [
    "### Init the s12 selector"
   ]
  },
  {
   "cell_type": "code",
   "execution_count": 32,
   "metadata": {
    "collapsed": false
   },
   "outputs": [],
   "source": [
    "s1s2_selector = S12Selector(**conf)"
   ]
  },
  {
   "cell_type": "markdown",
   "metadata": {},
   "source": [
    "### Filter step"
   ]
  },
  {
   "cell_type": "code",
   "execution_count": 38,
   "metadata": {
    "collapsed": false
   },
   "outputs": [],
   "source": [
    "f = s1s2_filter(s1s2_selector, s1, s2, s2si)"
   ]
  },
  {
   "cell_type": "code",
   "execution_count": 39,
   "metadata": {
    "collapsed": false
   },
   "outputs": [
    {
     "data": {
      "text/plain": [
       "True"
      ]
     },
     "execution_count": 39,
     "metadata": {},
     "output_type": "execute_result"
    }
   ],
   "source": [
    "f"
   ]
  },
  {
   "cell_type": "code",
   "execution_count": null,
   "metadata": {
    "collapsed": true
   },
   "outputs": [],
   "source": []
  }
 ],
 "metadata": {
  "kernelspec": {
   "display_name": "Python 3",
   "language": "python",
   "name": "python3"
  },
  "language_info": {
   "codemirror_mode": {
    "name": "ipython",
    "version": 3
   },
   "file_extension": ".py",
   "mimetype": "text/x-python",
   "name": "python",
   "nbconvert_exporter": "python",
   "pygments_lexer": "ipython3",
   "version": "3.6.0"
  }
 },
 "nbformat": 4,
 "nbformat_minor": 2
}
