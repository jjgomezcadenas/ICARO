{
 "cells": [
  {
   "cell_type": "markdown",
   "metadata": {},
   "source": [
    "# Kr analysis (run 3389)"
   ]
  },
  {
   "cell_type": "code",
   "execution_count": 13,
   "metadata": {
    "collapsed": false
   },
   "outputs": [
    {
     "name": "stdout",
     "output_type": "stream",
     "text": [
      "Running on  Mon Jul 10 20:30:32 2017\n"
     ]
    }
   ],
   "source": [
    "from __future__ import print_function, division\n",
    "\n",
    "import os\n",
    "import functools\n",
    "import textwrap\n",
    "import time\n",
    "import glob\n",
    "print(\"Running on \", time.asctime())\n",
    "\n",
    "import numpy             as np\n",
    "import pandas            as pd\n",
    "import tables            as tb\n",
    "import matplotlib.pyplot as plt\n",
    "\n",
    "import invisible_cities.database.load_db       as DB\n",
    "import invisible_cities.core.system_of_units_c as SystemOfUnits\n",
    "import invisible_cities.reco.pmaps_functions   as pmapf\n",
    "import invisible_cities.core.fit_functions     as fitf\n",
    "\n",
    "import invisible_cities.reco.dst_functions     as dstf\n",
    "import invisible_cities.icaro.hst_functions    as hst\n",
    "DataPMT  = DB.DataPMT()\n",
    "DataSiPM = DB.DataSiPM()\n",
    "units    = SystemOfUnits.SystemOfUnits()\n",
    "\n",
    "pi = np.pi"
   ]
  },
  {
   "cell_type": "code",
   "execution_count": 3,
   "metadata": {
    "collapsed": true
   },
   "outputs": [],
   "source": [
    "%matplotlib inline\n",
    "%load_ext autoreload\n",
    "%autoreload 2"
   ]
  },
  {
   "cell_type": "markdown",
   "metadata": {},
   "source": [
    "#### General plotting options"
   ]
  },
  {
   "cell_type": "code",
   "execution_count": 4,
   "metadata": {
    "collapsed": false
   },
   "outputs": [],
   "source": [
    "plt.rcParams[\"figure.figsize\"]          = 8, 6\n",
    "plt.rcParams[\"font.size\"]               = 15\n",
    "plt.rcParams[\"figure.max_open_warning\"] = 100\n",
    "\n",
    "profOpt = \"--k\"\n",
    "fitOpt  = \"r\"\n",
    "\n",
    "save_plots   = False\n",
    "outputfolder = \"plots/\"\n",
    "\n",
    "if save_plots and not os.path.exists(outputfolder):\n",
    "    os.mkdir(outputfolder)"
   ]
  },
  {
   "cell_type": "markdown",
   "metadata": {},
   "source": [
    "#### Useful functions"
   ]
  },
  {
   "cell_type": "markdown",
   "metadata": {},
   "source": [
    "# Read data"
   ]
  },
  {
   "cell_type": "code",
   "execution_count": 31,
   "metadata": {
    "collapsed": false,
    "scrolled": true
   },
   "outputs": [
    {
     "data": {
      "text/html": [
       "<div>\n",
       "<table border=\"1\" class=\"dataframe\">\n",
       "  <thead>\n",
       "    <tr style=\"text-align: right;\">\n",
       "      <th></th>\n",
       "      <th>event</th>\n",
       "      <th>time</th>\n",
       "      <th>peak</th>\n",
       "      <th>nS2</th>\n",
       "      <th>S1w</th>\n",
       "      <th>S1h</th>\n",
       "      <th>S1e</th>\n",
       "      <th>S1t</th>\n",
       "      <th>S2w</th>\n",
       "      <th>S2h</th>\n",
       "      <th>...</th>\n",
       "      <th>S2t</th>\n",
       "      <th>Nsipm</th>\n",
       "      <th>DT</th>\n",
       "      <th>Z</th>\n",
       "      <th>X</th>\n",
       "      <th>Y</th>\n",
       "      <th>R</th>\n",
       "      <th>Phi</th>\n",
       "      <th>Xrms</th>\n",
       "      <th>Yrms</th>\n",
       "    </tr>\n",
       "  </thead>\n",
       "  <tbody>\n",
       "    <tr>\n",
       "      <th>0</th>\n",
       "      <td>1</td>\n",
       "      <td>1.499716e+09</td>\n",
       "      <td>0</td>\n",
       "      <td>1</td>\n",
       "      <td>250.0</td>\n",
       "      <td>48.086441</td>\n",
       "      <td>273.238052</td>\n",
       "      <td>637650.0</td>\n",
       "      <td>84.768312</td>\n",
       "      <td>7909.098145</td>\n",
       "      <td>...</td>\n",
       "      <td>664587.5</td>\n",
       "      <td>77</td>\n",
       "      <td>26.9375</td>\n",
       "      <td>26.9375</td>\n",
       "      <td>199.504133</td>\n",
       "      <td>99.272226</td>\n",
       "      <td>222.838223</td>\n",
       "      <td>0.461722</td>\n",
       "      <td>13.452268</td>\n",
       "      <td>13.803571</td>\n",
       "    </tr>\n",
       "    <tr>\n",
       "      <th>1</th>\n",
       "      <td>2</td>\n",
       "      <td>1.499716e+09</td>\n",
       "      <td>0</td>\n",
       "      <td>1</td>\n",
       "      <td>175.0</td>\n",
       "      <td>24.453062</td>\n",
       "      <td>119.832269</td>\n",
       "      <td>494750.0</td>\n",
       "      <td>18.641250</td>\n",
       "      <td>19744.384766</td>\n",
       "      <td>...</td>\n",
       "      <td>657437.5</td>\n",
       "      <td>55</td>\n",
       "      <td>162.6875</td>\n",
       "      <td>162.6875</td>\n",
       "      <td>146.225402</td>\n",
       "      <td>-32.741869</td>\n",
       "      <td>149.846248</td>\n",
       "      <td>-0.220280</td>\n",
       "      <td>13.093354</td>\n",
       "      <td>13.080994</td>\n",
       "    </tr>\n",
       "    <tr>\n",
       "      <th>2</th>\n",
       "      <td>5</td>\n",
       "      <td>1.499716e+09</td>\n",
       "      <td>0</td>\n",
       "      <td>2</td>\n",
       "      <td>200.0</td>\n",
       "      <td>32.218925</td>\n",
       "      <td>168.941564</td>\n",
       "      <td>230550.0</td>\n",
       "      <td>23.265500</td>\n",
       "      <td>11368.499023</td>\n",
       "      <td>...</td>\n",
       "      <td>663762.5</td>\n",
       "      <td>42</td>\n",
       "      <td>433.2125</td>\n",
       "      <td>433.2125</td>\n",
       "      <td>-117.896666</td>\n",
       "      <td>-31.450047</td>\n",
       "      <td>122.019381</td>\n",
       "      <td>-2.880904</td>\n",
       "      <td>13.372685</td>\n",
       "      <td>12.936382</td>\n",
       "    </tr>\n",
       "    <tr>\n",
       "      <th>3</th>\n",
       "      <td>5</td>\n",
       "      <td>1.499716e+09</td>\n",
       "      <td>1</td>\n",
       "      <td>2</td>\n",
       "      <td>200.0</td>\n",
       "      <td>32.218925</td>\n",
       "      <td>168.941564</td>\n",
       "      <td>230550.0</td>\n",
       "      <td>13.012500</td>\n",
       "      <td>1066.472900</td>\n",
       "      <td>...</td>\n",
       "      <td>690462.5</td>\n",
       "      <td>4</td>\n",
       "      <td>459.9125</td>\n",
       "      <td>459.9125</td>\n",
       "      <td>-70.390550</td>\n",
       "      <td>-160.263572</td>\n",
       "      <td>175.040687</td>\n",
       "      <td>-1.984647</td>\n",
       "      <td>5.007616</td>\n",
       "      <td>5.015979</td>\n",
       "    </tr>\n",
       "    <tr>\n",
       "      <th>4</th>\n",
       "      <td>8</td>\n",
       "      <td>1.499716e+09</td>\n",
       "      <td>0</td>\n",
       "      <td>2</td>\n",
       "      <td>225.0</td>\n",
       "      <td>56.927799</td>\n",
       "      <td>304.845976</td>\n",
       "      <td>453650.0</td>\n",
       "      <td>50.792250</td>\n",
       "      <td>8093.519531</td>\n",
       "      <td>...</td>\n",
       "      <td>673787.5</td>\n",
       "      <td>64</td>\n",
       "      <td>220.1375</td>\n",
       "      <td>220.1375</td>\n",
       "      <td>-29.298545</td>\n",
       "      <td>164.914453</td>\n",
       "      <td>167.496811</td>\n",
       "      <td>1.746621</td>\n",
       "      <td>12.568297</td>\n",
       "      <td>21.899444</td>\n",
       "    </tr>\n",
       "  </tbody>\n",
       "</table>\n",
       "<p>5 rows × 22 columns</p>\n",
       "</div>"
      ],
      "text/plain": [
       "   event          time  peak  nS2    S1w        S1h         S1e       S1t  \\\n",
       "0      1  1.499716e+09     0    1  250.0  48.086441  273.238052  637650.0   \n",
       "1      2  1.499716e+09     0    1  175.0  24.453062  119.832269  494750.0   \n",
       "2      5  1.499716e+09     0    2  200.0  32.218925  168.941564  230550.0   \n",
       "3      5  1.499716e+09     1    2  200.0  32.218925  168.941564  230550.0   \n",
       "4      8  1.499716e+09     0    2  225.0  56.927799  304.845976  453650.0   \n",
       "\n",
       "         S2w           S2h    ...           S2t  Nsipm        DT         Z  \\\n",
       "0  84.768312   7909.098145    ...      664587.5     77   26.9375   26.9375   \n",
       "1  18.641250  19744.384766    ...      657437.5     55  162.6875  162.6875   \n",
       "2  23.265500  11368.499023    ...      663762.5     42  433.2125  433.2125   \n",
       "3  13.012500   1066.472900    ...      690462.5      4  459.9125  459.9125   \n",
       "4  50.792250   8093.519531    ...      673787.5     64  220.1375  220.1375   \n",
       "\n",
       "            X           Y           R       Phi       Xrms       Yrms  \n",
       "0  199.504133   99.272226  222.838223  0.461722  13.452268  13.803571  \n",
       "1  146.225402  -32.741869  149.846248 -0.220280  13.093354  13.080994  \n",
       "2 -117.896666  -31.450047  122.019381 -2.880904  13.372685  12.936382  \n",
       "3  -70.390550 -160.263572  175.040687 -1.984647   5.007616   5.015979  \n",
       "4  -29.298545  164.914453  167.496811  1.746621  12.568297  21.899444  \n",
       "\n",
       "[5 rows x 22 columns]"
      ]
     },
     "execution_count": 31,
     "metadata": {},
     "output_type": "execute_result"
    }
   ],
   "source": [
    "run_number = 4453\n",
    "ifile = os.path.join(os.environ['IC_DATA'],\n",
    "                     'LSC/kdst/4453/dst_4453.root.h5')\n",
    "\n",
    "full  = dstf.load_dst(ifile, \"DST\", \"Events\")\n",
    "full.head()"
   ]
  },
  {
   "cell_type": "markdown",
   "metadata": {},
   "source": [
    "# Distribution of events in Z"
   ]
  },
  {
   "cell_type": "code",
   "execution_count": 32,
   "metadata": {
    "collapsed": false
   },
   "outputs": [
    {
     "data": {
      "image/png": "[encoded data removed]",
      "text/plain": [
       "<matplotlib.figure.Figure at 0x11b7014e0>"
      ]
     },
     "metadata": {},
     "output_type": "display_data"
    }
   ],
   "source": [
    "hst.hist(full.Z, 100, (0, 600))\n",
    "hst.labels(\"Drift time ($\\mu$s)\", \"Entries\")\n",
    "save(\"Z\")"
   ]
  },
  {
   "cell_type": "code",
   "execution_count": 33,
   "metadata": {
    "collapsed": false
   },
   "outputs": [
    {
     "data": {
      "image/png": "[encoded data removed]",
      "text/plain": [
       "<matplotlib.figure.Figure at 0x11bb40da0>"
      ]
     },
     "metadata": {},
     "output_type": "display_data"
    }
   ],
   "source": [
    "hst.hist(full.S2e, 100, (0, 600000))\n",
    "hst.labels(\"Energy (pes)\", \"Entries\")"
   ]
  },
  {
   "cell_type": "code",
   "execution_count": 44,
   "metadata": {
    "collapsed": false
   },
   "outputs": [
    {
     "data": {
      "image/png": "[encoded data removed]",
      "text/plain": [
       "<matplotlib.figure.Figure at 0x11b91f2e8>"
      ]
     },
     "metadata": {},
     "output_type": "display_data"
    }
   ],
   "source": [
    "hst.hist(full.S1e, 100, (0, 600))\n",
    "hst.labels(\"Energy (pes)\", \"Entries\")"
   ]
  },
  {
   "cell_type": "code",
   "execution_count": null,
   "metadata": {
    "collapsed": true
   },
   "outputs": [],
   "source": []
  },
  {
   "cell_type": "code",
   "execution_count": 48,
   "metadata": {
    "collapsed": false
   },
   "outputs": [],
   "source": [
    "shortZ = full[full.Z < 200]"
   ]
  },
  {
   "cell_type": "code",
   "execution_count": 29,
   "metadata": {
    "collapsed": true
   },
   "outputs": [],
   "source": [
    "longZ = full[full.Z > 450]"
   ]
  },
  {
   "cell_type": "code",
   "execution_count": 49,
   "metadata": {
    "collapsed": false
   },
   "outputs": [
    {
     "data": {
      "image/png": "[encoded data removed]",
      "text/plain": [
       "<matplotlib.figure.Figure at 0x11fde7470>"
      ]
     },
     "metadata": {},
     "output_type": "display_data"
    }
   ],
   "source": [
    "hst.hist(shortZ.S2e, 50, (0, 600000))\n",
    "hst.labels(\"Energy (pes)\", \"Entries\")"
   ]
  },
  {
   "cell_type": "code",
   "execution_count": 41,
   "metadata": {
    "collapsed": false
   },
   "outputs": [
    {
     "data": {
      "image/png": "[encoded data removed]",
      "text/plain": [
       "<matplotlib.figure.Figure at 0x1201b6278>"
      ]
     },
     "metadata": {},
     "output_type": "display_data"
    }
   ],
   "source": [
    "hst.hist(longZ.S2e, 50, (0, 600000))\n",
    "hst.labels(\"Energy (pes)\", \"Entries\")"
   ]
  },
  {
   "cell_type": "markdown",
   "metadata": {},
   "source": [
    "### X vs Y"
   ]
  },
  {
   "cell_type": "code",
   "execution_count": 36,
   "metadata": {
    "collapsed": false
   },
   "outputs": [
    {
     "data": {
      "image/png": "[encoded data removed]",
      "text/plain": [
       "<matplotlib.figure.Figure at 0x11fab4f98>"
      ]
     },
     "metadata": {},
     "output_type": "display_data"
    }
   ],
   "source": [
    "xrange =   -300, 300\n",
    "yrange =   -300, 300\n",
    "\n",
    "hst.hist2d(shortZ.X, shortZ.Y, (20, 20), range=(xrange, yrange))\n",
    "hst.labels(\"X\", \"Y\")\n",
    "\n",
    "\n"
   ]
  },
  {
   "cell_type": "code",
   "execution_count": 37,
   "metadata": {
    "collapsed": false
   },
   "outputs": [
    {
     "data": {
      "image/png": "[encoded data removed]",
      "text/plain": [
       "<matplotlib.figure.Figure at 0x11fdf42e8>"
      ]
     },
     "metadata": {},
     "output_type": "display_data"
    }
   ],
   "source": [
    "xrange =   -300, 300\n",
    "yrange =   -300, 300\n",
    "\n",
    "hst.hist2d(longZ.X, longZ.Y, (20, 20), range=(xrange, yrange))\n",
    "hst.labels(\"X\", \"Y\")\n",
    "\n"
   ]
  },
  {
   "cell_type": "code",
   "execution_count": null,
   "metadata": {
    "collapsed": true
   },
   "outputs": [],
   "source": []
  },
  {
   "cell_type": "markdown",
   "metadata": {},
   "source": [
    "# S2 energy vs Z"
   ]
  },
  {
   "cell_type": "code",
   "execution_count": 47,
   "metadata": {
    "collapsed": false
   },
   "outputs": [
    {
     "data": {
      "image/png": "[encoded data removed]",
      "text/plain": [
       "<matplotlib.figure.Figure at 0x11f0be828>"
      ]
     },
     "metadata": {},
     "output_type": "display_data"
    }
   ],
   "source": [
    "zrange =   0, 600\n",
    "Erange = 2e3, 300e3\n",
    "\n",
    "hst.hist2d(full.Z, full.S2e, (50, 50), range=(zrange, Erange))\n",
    "hst.labels(\"Drift time ($\\mu$s)\", \"S2 energy\")\n",
    "save(\"S2energyvsZ_short\")\n",
    "\n"
   ]
  },
  {
   "cell_type": "code",
   "execution_count": null,
   "metadata": {
    "collapsed": true
   },
   "outputs": [],
   "source": [
    "zrange =   0, 600\n",
    "Erange = 2e3, 600e3\n",
    "\n",
    "hst.hist2d(full.Z, full.S2e, (50, 100), range=(zrange, Erange))\n",
    "hst.labels(\"Drift time ($\\mu$s)\", \"S2 energy\")\n",
    "save(\"S2energyvsZ_short\")\n",
    "\n"
   ]
  },
  {
   "cell_type": "markdown",
   "metadata": {},
   "source": [
    "# Short drift time: Z < 200 $\\mu$s"
   ]
  },
  {
   "cell_type": "code",
   "execution_count": null,
   "metadata": {
    "collapsed": false
   },
   "outputs": [],
   "source": [
    "shortZ = full[full.z < 200]\n",
    "print(\"Ratio:\", len(shortZ)/len(full))\n",
    "shortZ.head()"
   ]
  },
  {
   "cell_type": "markdown",
   "metadata": {},
   "source": [
    "# S1 energy"
   ]
  },
  {
   "cell_type": "code",
   "execution_count": null,
   "metadata": {
    "collapsed": false
   },
   "outputs": [],
   "source": [
    "zrange = 0, 200\n",
    "Srange = 0, 30\n",
    "\n",
    "hst.hist(shortZ.s1_energy, 30, range=Srange)\n",
    "hst.labels(\"S1 energy (pes)\", \"Entries\")\n",
    "save(\"S1energy\")\n",
    "\n",
    "hst.hist2d(shortZ.z, shortZ.s1_energy, (50, 30), range=(zrange, Srange))\n",
    "x, y, _ = fitf.profileX(shortZ.z, shortZ.s1_energy, 30, xrange=zrange, yrange=Srange)\n",
    "plt.plot(x, y, profOpt)\n",
    "\n",
    "hst.labels(\"Drift time ($\\mu$s)\", \"S1 energy (pes)\")\n",
    "save(\"S1energyvsZ\")"
   ]
  },
  {
   "cell_type": "markdown",
   "metadata": {},
   "source": [
    "# S1 width"
   ]
  },
  {
   "cell_type": "code",
   "execution_count": null,
   "metadata": {
    "collapsed": false
   },
   "outputs": [],
   "source": [
    "zrange = 0, 200\n",
    "wrange = 0, 500\n",
    "\n",
    "hst.hist(shortZ.s1_width, np.linspace(*wrange, 21))\n",
    "hst.labels(\"S1 width (ns)\", \"Entries\")\n",
    "save(\"S1width\")\n",
    "\n",
    "hst.hist2d(shortZ.z, shortZ.s1_width, (50, 21), range=(zrange, wrange))\n",
    "x, y, _ = fitf.profileX(shortZ.z, shortZ.s1_width, 30, xrange=zrange, yrange=wrange)\n",
    "plt.plot(x, y, profOpt)\n",
    "\n",
    "hst.labels(\"Drift time ($\\mu$s)\", \"S1 energy (pes)\")\n",
    "save(\"S1widthvsZ\")"
   ]
  },
  {
   "cell_type": "markdown",
   "metadata": {},
   "source": [
    "# S1 height"
   ]
  },
  {
   "cell_type": "code",
   "execution_count": null,
   "metadata": {
    "collapsed": false
   },
   "outputs": [],
   "source": [
    "zrange = 0, 200\n",
    "hrange = 0, 10\n",
    "\n",
    "hst.hist(shortZ.s1_epeak, 30, range=hrange)\n",
    "hst.labels(\"S1 height (pes)\", \"Entries\")\n",
    "save(\"S1height\")\n",
    "\n",
    "hst.hist2d(shortZ.z, shortZ.s1_epeak, (50, 30), range=(zrange, hrange))\n",
    "x, y, _ = fitf.profileX(shortZ.z, shortZ.s1_epeak, 30, xrange=zrange, yrange=hrange)\n",
    "plt.plot(x, y, profOpt)\n",
    "\n",
    "hst.labels(\"Drift time ($\\mu$s)\", \"S1 height (pes)\")\n",
    "save(\"S1heightvsZ\")"
   ]
  },
  {
   "cell_type": "markdown",
   "metadata": {},
   "source": [
    "# S1 peak to area ratio"
   ]
  },
  {
   "cell_type": "code",
   "execution_count": null,
   "metadata": {
    "collapsed": false
   },
   "outputs": [],
   "source": [
    "zrange = 0, 200\n",
    "rrange = 0, 0.5\n",
    "\n",
    "S1r = shortZ.s1_epeak/shortZ.s1_energy\n",
    "\n",
    "hst.hist(S1r, 50, range=rrange)\n",
    "hst.labels(\"Height/Area\", \"Entries\")\n",
    "save(\"S1Peak2Area\")\n",
    "\n",
    "hst.hist2d(shortZ.z, S1r, (50, 50), range=(zrange, rrange))\n",
    "x, y, _ = fitf.profileX(shortZ.z, S1r, 30, xrange=zrange, yrange=rrange)\n",
    "plt.plot(x, y, profOpt)\n",
    "\n",
    "hst.labels(\"Drift time ($\\mu$s)\", \"Height/Area\")\n",
    "save(\"S1ratiovsZ\")"
   ]
  },
  {
   "cell_type": "markdown",
   "metadata": {},
   "source": [
    "# S2 energy"
   ]
  },
  {
   "cell_type": "code",
   "execution_count": null,
   "metadata": {
    "collapsed": false
   },
   "outputs": [],
   "source": [
    "zrange = 0, 200\n",
    "Erange = 3e3, 9e3\n",
    "\n",
    "hst.hist(shortZ.s2_energy, 100, range=Erange)\n",
    "hst.labels(\"S2 energy (pes)\", \"Entries\")\n",
    "save(\"S2energy\")\n",
    "\n",
    "hst.hist2d(shortZ.z, shortZ.s2_energy, (50, 100), range=(zrange, Erange))\n",
    "x, y, _ = fitf.profileX(shortZ.z, shortZ.s2_energy, 30, xrange=zrange, yrange=Erange)\n",
    "plt.plot(x, y, profOpt)\n",
    "\n",
    "hst.labels(\"Drift time ($\\mu$s)\", \"S2 energy (pes)\")\n",
    "save(\"S2energyvsZ\")"
   ]
  },
  {
   "cell_type": "markdown",
   "metadata": {},
   "source": [
    "# S2 width"
   ]
  },
  {
   "cell_type": "code",
   "execution_count": null,
   "metadata": {
    "collapsed": false
   },
   "outputs": [],
   "source": [
    "zrange = 0, 200\n",
    "wrange = 5, 15\n",
    "\n",
    "hst.hist(shortZ.s2_width*1e-3, 20, range=wrange)\n",
    "hst.labels(\"S2 width ($\\mu$s)\", \"Entries\")\n",
    "save(\"S2width\")\n",
    "\n",
    "hst.hist2d(shortZ.z, shortZ.s2_width*1e-3, (50, 20), range=(zrange, wrange))\n",
    "x, y, _ = fitf.profileX(shortZ.z, shortZ.s2_width*1e-3, 30, xrange=zrange, yrange=wrange)\n",
    "plt.plot(x, y, profOpt)\n",
    "\n",
    "hst.labels(\"Drift time ($\\mu$s)\", \"S2 energy (pes)\")\n",
    "save(\"S2widthvsZ\")"
   ]
  },
  {
   "cell_type": "markdown",
   "metadata": {},
   "source": [
    "# S2 height"
   ]
  },
  {
   "cell_type": "code",
   "execution_count": null,
   "metadata": {
    "collapsed": false
   },
   "outputs": [],
   "source": [
    "zrange = 0, 200\n",
    "hrange = 0, 5e3\n",
    "\n",
    "hst.hist(shortZ.s2_epeak, 30, range=hrange)\n",
    "hst.labels(\"S2 height (pes)\", \"Entries\")\n",
    "save(\"S2height\")\n",
    "\n",
    "hst.hist2d(shortZ.z, shortZ.s2_epeak, (50, 30), range=(zrange, hrange))\n",
    "x, y, _ = fitf.profileX(shortZ.z, shortZ.s2_epeak, 30, xrange=zrange, yrange=hrange)\n",
    "plt.plot(x, y, profOpt)\n",
    "\n",
    "hst.labels(\"Drift time ($\\mu$s)\", \"S2 height (pes)\")\n",
    "save(\"S2heightvsZ\")"
   ]
  },
  {
   "cell_type": "markdown",
   "metadata": {},
   "source": [
    "# S2 peak to area ratio"
   ]
  },
  {
   "cell_type": "code",
   "execution_count": null,
   "metadata": {
    "collapsed": false
   },
   "outputs": [],
   "source": [
    "zrange = 0, 200\n",
    "rrange = 0, 0.5\n",
    "\n",
    "S2r = shortZ.s2_epeak/shortZ.s2_energy\n",
    "\n",
    "hst.hist(S2r, 50, range=rrange)\n",
    "hst.labels(\"Height/Area\", \"Entries\")\n",
    "save(\"S2Peak2Area\")\n",
    "\n",
    "hst.hist2d(shortZ.z, S2r, (50, 50), range=(zrange, rrange))\n",
    "x, y, _ = fitf.profileX(shortZ.z, S2r, 30, xrange=zrange, yrange=rrange)\n",
    "plt.plot(x, y, profOpt)\n",
    "\n",
    "hst.labels(\"Drift time ($\\mu$s)\", \"Height/Area\")\n",
    "save(\"S2ratiovsZ\")"
   ]
  },
  {
   "cell_type": "markdown",
   "metadata": {},
   "source": [
    "# S2 vs S1"
   ]
  },
  {
   "cell_type": "code",
   "execution_count": null,
   "metadata": {
    "collapsed": false
   },
   "outputs": [],
   "source": [
    "Srange = 0, 20\n",
    "Erange = 3e3, 9e3\n",
    "\n",
    "S = shortZ.s1_energy\n",
    "E = shortZ.s2_energy\n",
    "\n",
    "hst.hist2d(S, E, (50, 50), range=(Srange, Erange))\n",
    "x, y, _ = fitf.profileX(S, E, 30, xrange=Srange, yrange=Erange)\n",
    "plt.plot(x, y, profOpt)\n",
    "\n",
    "sel = fitf.in_range(S, *Srange) & fitf.in_range(E, *Erange)\n",
    "c = hst.covariance(S[sel], E[sel])\n",
    "print(*c)\n",
    "hst.labels(\"S1 energy (pes)\", \"S2 energy (pes)\")\n",
    "save(\"S2vsS1\")"
   ]
  },
  {
   "cell_type": "code",
   "execution_count": null,
   "metadata": {
    "collapsed": false
   },
   "outputs": [],
   "source": [
    "zrange = 0, 200\n",
    "Rrange = 0, 0.006\n",
    "\n",
    "S12r = shortZ.s1_energy/shortZ.s2_energy\n",
    "\n",
    "hst.hist(S12r, 50, range=Rrange)\n",
    "hst.labels(\"S1/S2\", \"Entries\")\n",
    "save(\"S12ratio\")\n",
    "\n",
    "hst.hist2d(shortZ.z, S12r, (50, 50), range=(zrange, Rrange))\n",
    "x, y, _ = fitf.profileX(shortZ.z, S12r, 30, xrange=zrange, yrange=Rrange)\n",
    "plt.plot(x, y, profOpt)\n",
    "\n",
    "hst.labels(\"Drift time ($\\mu$s)\", \"S1/S2\")\n",
    "save(\"S12ratiovsZ\")"
   ]
  },
  {
   "cell_type": "markdown",
   "metadata": {},
   "source": [
    "# Temporary fiducialization"
   ]
  },
  {
   "cell_type": "code",
   "execution_count": null,
   "metadata": {
    "collapsed": false
   },
   "outputs": [],
   "source": [
    "shortZfid = shortZ[shortZ.r < 100]\n",
    "print(\"Ratio:\", len(shortZfid)/len(full))\n",
    "print(\"Ratio:\", len(shortZfid)/len(shortZ))\n",
    "shortZfid.head()"
   ]
  },
  {
   "cell_type": "markdown",
   "metadata": {},
   "source": [
    "# S2 energy fiducialized"
   ]
  },
  {
   "cell_type": "code",
   "execution_count": null,
   "metadata": {
    "collapsed": false
   },
   "outputs": [],
   "source": [
    "zrange = 0, 200\n",
    "Erange = 3e3, 9e3\n",
    "\n",
    "hst.hist(shortZfid.s2_energy, 100, range=Erange)\n",
    "hst.labels(\"S2 energy (pes)\", \"Entries\")\n",
    "save(\"S2energy_fiducial\")\n",
    "\n",
    "hst.hist2d(shortZfid.z, shortZfid.s2_energy, (50, 100), range=(zrange, Erange))\n",
    "x, y, _ = fitf.profileX(shortZfid.z, shortZfid.s2_energy, 30, xrange=zrange, yrange=Erange)\n",
    "plt.plot(x, y, profOpt)\n",
    "\n",
    "sel  = fitf.in_range(x, 55, 125)\n",
    "x, y = x[sel], y[sel]\n",
    "\n",
    "f = fitf.fit(fitf.expo, x, y, (1e4, -200))\n",
    "plt.plot(x, f.fn(x), fitOpt)\n",
    "print(f.values)\n",
    "\n",
    "hst.labels(\"Drift time ($\\mu$s)\", \"S2 energy (pes)\")\n",
    "save(\"S2energyvsZ_fiducial\")\n",
    "\n",
    "zfun  = f.fn\n",
    "zmin  = np.min(x)\n",
    "zcorr = lambda z: zfun(zmin)/zfun(z)"
   ]
  },
  {
   "cell_type": "markdown",
   "metadata": {},
   "source": [
    "# Correction by attachment"
   ]
  },
  {
   "cell_type": "code",
   "execution_count": null,
   "metadata": {
    "collapsed": false
   },
   "outputs": [],
   "source": [
    "zrange = 0, 200\n",
    "Erange = 5e3, 9e3\n",
    "\n",
    "E = shortZfid.s2_energy * zcorr(shortZfid.z)\n",
    "\n",
    "y, x, _ = \\\n",
    "hst.hist(E, 100, range=Erange)\n",
    "\n",
    "x    = x[:-1] + np.diff(x) * 0.5\n",
    "sel  = fitf.in_range(x, 7200, 8800)\n",
    "x, y = x[sel], y[sel]\n",
    "f    = fitf.fit(fitf.gauss, x, y, (1e3, 7e3, 200))\n",
    "plt.plot(x, f.fn(x), fitOpt)\n",
    "plt.text(Erange[0], max(y)/2, hst.gausstext(f.values))\n",
    "\n",
    "hst.labels(\"S2 energy (pes)\", \"Entries\")\n",
    "save(\"S2energyCorr_fiducial\")\n",
    "\n",
    "hst.hist2d(shortZfid.z, E, (50, 100), range=(zrange, Erange))\n",
    "x, y, _ = fitf.profileX(shortZfid.z, E, 30, xrange=zrange, yrange=Erange)\n",
    "plt.plot(x, y, profOpt)\n",
    "\n",
    "sel  = fitf.in_range(x, 75, 150)\n",
    "x, y = x[sel], y[sel]\n",
    "f    = fitf.fit(fitf.expo, x, y, (1e4, -200))\n",
    "plt.plot(x, f.fn(x), fitOpt)\n",
    "\n",
    "print(f.values)\n",
    "hst.labels(\"Drift time ($\\mu$s)\", \"S2 energy (pes)\")\n",
    "save(\"S2energyCorrvsZ_fiducial\")"
   ]
  },
  {
   "cell_type": "markdown",
   "metadata": {},
   "source": [
    "# Tracking"
   ]
  },
  {
   "cell_type": "code",
   "execution_count": null,
   "metadata": {
    "collapsed": false
   },
   "outputs": [],
   "source": [
    "nrange = 0, 12\n",
    "zrange = 0, 600\n",
    "\n",
    "hst.hist(shortZ.n_sipm, max(nrange), nrange)\n",
    "hst.labels(\"# SiPMs\", \"Entries\")\n",
    "save(\"Nsipm\")\n",
    "\n",
    "hst.hist2d(shortZ.z, shortZ.n_sipm, (30, max(nrange)), range=(zrange, nrange))\n",
    "x, y, _ = fitf.profileX(shortZ.z, shortZ.n_sipm, 30, xrange=zrange, yrange=nrange)\n",
    "plt.plot(x, y, profOpt)\n",
    "\n",
    "hst.labels(\"Drift time ($\\mu$s)\", \"# SiPMs\")\n",
    "save(\"NsipmvsZ\")\n"
   ]
  },
  {
   "cell_type": "markdown",
   "metadata": {},
   "source": [
    "# Event distribution"
   ]
  },
  {
   "cell_type": "code",
   "execution_count": null,
   "metadata": {
    "collapsed": false,
    "scrolled": false
   },
   "outputs": [],
   "source": [
    "xrange = -215, 215\n",
    "yrange = -215, 215\n",
    "rrange =    0, 215\n",
    "prange = - pi,  pi\n",
    "\n",
    "hst.hist(shortZ.x, 50, range=xrange)\n",
    "hst.labels(\"x (mm)\", \"Entries\")\n",
    "save(\"X\")\n",
    "\n",
    "hst.hist(shortZ.y, 50, range=yrange)\n",
    "hst.labels(\"y (mm)\", \"Entries\")\n",
    "save(\"Y\")\n",
    "\n",
    "hst.hist(shortZ.r, 50, range=rrange)\n",
    "hst.labels(\"r (mm)\", \"Entries\")\n",
    "save(\"R\")\n",
    "\n",
    "hst.hist(shortZ.phi, 50, range=prange)\n",
    "hst.labels(\"$\\phi$ (rad)\", \"Entries\")\n",
    "save(\"Phi\")\n",
    "\n",
    "nevts, xs, ys, _ = \\\n",
    "hst.hist2d(shortZ.x, shortZ.y, (50, 50), range=(xrange, yrange))\n",
    "plt.colorbar().set_label(\"# events\")\n",
    "hst.labels(\"x (mm)\", \"y (mm)\")\n",
    "save(\"XY\")\n",
    "\n",
    "################################\n",
    "hst.hist2d(shortZ.r, shortZ.phi, (50, 50), range=(rrange, prange))\n",
    "plt.colorbar().set_label(\"# events\")\n",
    "hst.labels(\"r (mm)\", \"$\\phi$ (mm)\")\n",
    "save(\"RPhi\")"
   ]
  },
  {
   "cell_type": "markdown",
   "metadata": {},
   "source": [
    "# Minimial fiducialization"
   ]
  },
  {
   "cell_type": "code",
   "execution_count": null,
   "metadata": {
    "collapsed": true
   },
   "outputs": [],
   "source": [
    "fid = shortZ[shortZ.r < 195]"
   ]
  },
  {
   "cell_type": "markdown",
   "metadata": {},
   "source": [
    "# Tracking charge"
   ]
  },
  {
   "cell_type": "code",
   "execution_count": null,
   "metadata": {
    "collapsed": false
   },
   "outputs": [],
   "source": [
    "zrange = 0, 200\n",
    "Qrange = 0, 500\n",
    "\n",
    "hst.hist(fid.Q_tp, 100, range=Qrange)\n",
    "hst.labels(\"S2 charge (pes)\", \"Entries\")\n",
    "save(\"S2charge\")\n",
    "\n",
    "hst.hist2d(fid.z, fid.Q_tp, (50, 100), range=(zrange, Qrange))\n",
    "x, y, _ = fitf.profileX(fid.z, fid.Q_tp, 30, xrange=zrange, yrange=Qrange)\n",
    "plt.plot(x, y, profOpt)\n",
    "\n",
    "hst.labels(\"Drift time ($\\mu$s)\", \"S2 charge (pes)\")\n",
    "save(\"S2chargevsZ\")"
   ]
  },
  {
   "cell_type": "code",
   "execution_count": null,
   "metadata": {
    "collapsed": false,
    "scrolled": false
   },
   "outputs": [],
   "source": [
    "xrange = -215, 215\n",
    "yrange = -215, 215\n",
    "rrange =    0, 215\n",
    "prange = - pi,  pi\n",
    "Qrange =    0, 500\n",
    "\n",
    "_, _, cb = \\\n",
    "hst.profile_and_scatter(fid.x, fid.y, fid.Q_tp, (50, 50), xrange=xrange, yrange=yrange)\n",
    "cb.set_label(\"Q (pes)\")\n",
    "hst.labels(\"x (mm)\", \"y (mm)\")\n",
    "save(\"QvsXY\")\n",
    "\n",
    "_, _, cb = \\\n",
    "hst.profile_and_scatter(fid.r, fid.phi, fid.Q_tp, (50, 50), xrange=rrange, yrange=prange)\n",
    "cb.set_label(\"Q (pes)\")\n",
    "hst.labels(\"r (mm)\", \"$\\phi$ (rad)\")\n",
    "save(\"QvsRPhi\")\n",
    "\n",
    "hst.hist2d(fid.r, fid.Q_tp, (50, 50), range=(rrange, Qrange))\n",
    "x, y, _ = fitf.profileX(fid.r, fid.Q_tp, 50, xrange=rrange, yrange=Qrange)\n",
    "plt.plot(x, y, profOpt)\n",
    "hst.labels(\"r (mm)\", \"S2 charge (pes)\")\n",
    "save(\"QvsR\")\n",
    "\n",
    "hst.hist2d(fid.phi, fid.Q_tp, (50, 50), range=(prange, Qrange))\n",
    "x, y, _ = fitf.profileX(fid.phi, fid.Q_tp, 50, xrange=prange, yrange=Qrange)\n",
    "plt.plot(x, y, profOpt)\n",
    "hst.labels(\"phi (rad)\", \"S2 charge (pes)\")\n",
    "save(\"QvsPhi\")\n"
   ]
  },
  {
   "cell_type": "markdown",
   "metadata": {},
   "source": [
    "# Energy vs position"
   ]
  },
  {
   "cell_type": "code",
   "execution_count": null,
   "metadata": {
    "collapsed": false,
    "scrolled": false
   },
   "outputs": [],
   "source": [
    "xrange = -215, 215\n",
    "yrange = -215, 215\n",
    "rrange =    0, 215\n",
    "prange = - pi,  pi\n",
    "Erange =  4e3, 9e3\n",
    "\n",
    "E = fid.s2_energy * zcorr(fid.z)\n",
    "\n",
    "pf, _, cb = \\\n",
    "hst.profile_and_scatter(fid.x, fid.y, E, (50, 50), xrange=xrange, yrange=yrange)\n",
    "cb.set_label(\"E (pes)\")\n",
    "hst.labels(\"x (mm)\", \"y (mm)\")\n",
    "save(\"EvsXY\")\n",
    "\n",
    "_, _, cb = \\\n",
    "hst.profile_and_scatter(fid.r, fid.phi, E, (50, 50), xrange=rrange, yrange=prange)\n",
    "cb.set_label(\"E (pes)\")\n",
    "hst.labels(\"r (mm)\", \"$\\phi$ (rad)\")\n",
    "save(\"EvsRPhi\")\n",
    "\n",
    "hst.hist2d(fid.r, E, (50, 50), range=(rrange, Erange), weights=E)\n",
    "x, y, _ = fitf.profileX(fid.r, E, 50, xrange=rrange, yrange=Erange)\n",
    "plt.plot(x, y, profOpt)\n",
    "hst.labels(\"r (mm)\", \"S2 energy (pes)\")\n",
    "save(\"EvsR\")\n",
    "\n",
    "hst.hist2d(fid.phi, E, (50, 50), range=(prange, Erange), weights=E)\n",
    "x, y, _ = fitf.profileX(fid.phi, E, 50, xrange=prange, yrange=Erange)\n",
    "plt.plot(x, y, profOpt)\n",
    "hst.labels(\"phi (rad)\", \"S2 energy (pes)\")\n",
    "save(\"EvsPhi\")\n",
    "\n",
    "def get_xycorr(xs, ys, es, eref=None):\n",
    "    if eref is None:\n",
    "        eref = es[es.shape[0]//2, es.shape[1]//2]\n",
    "    xs   = xs.reshape(xs.size, 1)\n",
    "    ys   = ys.reshape(ys.size, 1)\n",
    "    print(eref)\n",
    "    def xycorr(x, y):\n",
    "        x_closest = np.apply_along_axis(np.argmin, 0, abs(x-xs))\n",
    "        y_closest = np.apply_along_axis(np.argmin, 0, abs(y-ys))\n",
    "        e = es[x_closest, y_closest]\n",
    "        e[e<1e3] = eref\n",
    "        return eref/ e\n",
    "    return xycorr\n",
    "xycorr = get_xycorr(*pf[:-1])\n"
   ]
  },
  {
   "cell_type": "markdown",
   "metadata": {},
   "source": [
    "# Correction by attachment and position"
   ]
  },
  {
   "cell_type": "code",
   "execution_count": null,
   "metadata": {
    "collapsed": false,
    "scrolled": false
   },
   "outputs": [],
   "source": [
    "xrange = -215, 215\n",
    "yrange = -215, 215\n",
    "rrange =    0, 215\n",
    "prange = - pi,  pi\n",
    "Erange =  4e3, 11e3\n",
    "\n",
    "E  = fid.s2_energy * zcorr(fid.z) * xycorr(fid.x.values, fid.y.values)\n",
    "\n",
    "y, x, _ = \\\n",
    "hst.hist(E, 100, Erange)\n",
    "\n",
    "x = x[:-1] + np.diff(x) * 0.5\n",
    "f = fitf.fit(fitf.gauss, x, y, (1e5, 1e4, 1e2))\n",
    "plt.plot(x, f.fn(x), fitOpt)\n",
    "plt.text(Erange[0], max(y)/2, hst.gausstext(f.values))\n",
    "\n",
    "hst.labels(\"E (pes)\", \"Entries\")\n",
    "save(\"EcorrZXY\")\n",
    "\n",
    "_, _, cb = \\\n",
    "hst.profile_and_scatter(fid.x, fid.y, E, (50, 50), xrange=xrange, yrange=yrange)\n",
    "cb.set_label(\"E (pes)\")\n",
    "hst.labels(\"x (mm)\", \"y (mm)\")\n",
    "save(\"EvsXY\")\n",
    "\n",
    "_, _, cb = \\\n",
    "hst.profile_and_scatter(fid.r, fid.phi, E, (50, 50), xrange=rrange, yrange=prange)\n",
    "cb.set_label(\"E (pes)\")\n",
    "hst.labels(\"r (mm)\", \"$\\phi$ (rad)\")\n",
    "save(\"EvsRPhi\")\n",
    "\n",
    "hst.hist2d(fid.r, E, (50, 50), range=(rrange, Erange), weights=E)\n",
    "x, y, _ = fitf.profileX(fid.r, E, 50, xrange=rrange, yrange=Erange)\n",
    "plt.plot(x, y, profOpt)\n",
    "hst.labels(\"r (mm)\", \"S2 energy (pes)\")\n",
    "save(\"EvsR\")\n",
    "\n",
    "hst.hist2d(fid.phi, E, (50, 50), range=(prange, Erange), weights=E)\n",
    "x, y, _ = fitf.profileX(fid.phi, E, 50, xrange=prange, yrange=Erange)\n",
    "plt.plot(x, y, profOpt)\n",
    "hst.labels(\"phi (rad)\", \"S2 energy (pes)\")\n",
    "save(\"EvsPhi\")\n"
   ]
  },
  {
   "cell_type": "code",
   "execution_count": null,
   "metadata": {
    "collapsed": false
   },
   "outputs": [],
   "source": [
    "E = fid.s2_energy * zcorr(fid.z) * xycorr(fid.x.values, fid.y.values)\n",
    "T = (fid.timestamp - np.min(fid.timestamp))/60e3\n",
    "\n",
    "Erange = 4e3, 11e3\n",
    "Trange =   0, 1800\n",
    "\n",
    "hst.hist2d(T, E, (50, 50), range=(Trange, Erange))\n",
    "\n",
    "x, y, _ = fitf.profileX(T, E, 50, Trange)\n",
    "plt.plot(x, y, profOpt)\n",
    "\n",
    "hst.labels(\"Time (min)\", \"Energy (pes)\")\n",
    "\n",
    "def get_timecorr(T, E):\n",
    "    eref = np.max(E)\n",
    "    def timecorr(t):\n",
    "        dt = np.abs(t[:, np.newaxis]-T)\n",
    "        return eref / E[np.apply_along_axis(np.argmin, 1, dt)]\n",
    "    return timecorr\n",
    "tcorr = get_timecorr(x, y)"
   ]
  },
  {
   "cell_type": "code",
   "execution_count": null,
   "metadata": {
    "collapsed": false
   },
   "outputs": [],
   "source": [
    "T = (fid.timestamp - np.min(full.timestamp))/60e3\n",
    "E = fid.s2_energy * zcorr(fid.z) * xycorr(fid.x.values, fid.y.values) * tcorr(T)\n",
    "\n",
    "Trange =   0, 1800\n",
    "Erange = 4e3, 11e3\n",
    "\n",
    "y, x, _ = hst.hist(E, 100, Erange)\n",
    "\n",
    "x = x[:-1] + np.diff(x) * 0.5\n",
    "f = fitf.fit(fitf.gauss, x, y, (1e5, 1e4, 1e2))\n",
    "plt.plot(x, f.fn(x), fitOpt)\n",
    "plt.text(Erange[0], max(y)/2, hst.gausstext(f.values))\n",
    "\n",
    "hst.labels(\"E (pes)\", \"Entries\")\n",
    "save(\"EcorrZXYT\")\n",
    "\n",
    "hst.hist2d(T, E, (50, 50), range=(Trange, Erange))\n",
    "x, y, _ = fitf.profileX(T, E, 50, Trange)\n",
    "plt.plot(x, y, profOpt)\n",
    "\n",
    "hst.labels(\"Time (min)\", \"Energy (pes)\")\n"
   ]
  },
  {
   "cell_type": "markdown",
   "metadata": {
    "collapsed": true
   },
   "source": [
    "# After drop in time"
   ]
  },
  {
   "cell_type": "code",
   "execution_count": null,
   "metadata": {
    "collapsed": true
   },
   "outputs": [],
   "source": [
    "afterdrop = fid[fid.timestamp > 60e3*1000 + np.min(full.timestamp)]"
   ]
  },
  {
   "cell_type": "code",
   "execution_count": null,
   "metadata": {
    "collapsed": false
   },
   "outputs": [],
   "source": [
    "T = (afterdrop.timestamp - np.min(full.timestamp))/60e3\n",
    "E = afterdrop.s2_energy * zcorr(afterdrop.z) * xycorr(afterdrop.x.values, afterdrop.y.values) * tcorr(T)\n",
    "\n",
    "Trange =   0, 1800\n",
    "Erange = 4e3, 11e3\n",
    "\n",
    "y, x, _ = hst.hist(E, 100, Erange)\n",
    "\n",
    "x = x[:-1] + np.diff(x) * 0.5\n",
    "f = fitf.fit(fitf.gauss, x, y, (1e5, 1e4, 1e2))\n",
    "plt.plot(x, f.fn(x), fitOpt)\n",
    "plt.text(Erange[0], max(y)/2, hst.gausstext(f.values))\n",
    "\n",
    "hst.labels(\"E (pes)\", \"Entries\")\n",
    "save(\"EcorrZXYT\")\n",
    "\n",
    "hst.hist2d(T, E, (50, 50), range=(Trange, Erange))\n",
    "x, y, _ = fitf.profileX(T, E, 50, Trange)\n",
    "plt.plot(x, y, profOpt)\n",
    "\n",
    "hst.labels(\"Time (min)\", \"Energy (pes)\")"
   ]
  }
 ],
 "metadata": {
  "kernelspec": {
   "display_name": "Python 3",
   "language": "python",
   "name": "python3"
  },
  "language_info": {
   "codemirror_mode": {
    "name": "ipython",
    "version": 3
   },
   "file_extension": ".py",
   "mimetype": "text/x-python",
   "name": "python",
   "nbconvert_exporter": "python",
   "pygments_lexer": "ipython3",
   "version": "3.6.0"
  }
 },
 "nbformat": 4,
 "nbformat_minor": 2
}
