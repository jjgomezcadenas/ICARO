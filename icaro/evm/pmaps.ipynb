{
 "cells": [
  {
   "cell_type": "code",
   "execution_count": 1,
   "metadata": {
    "collapsed": true
   },
   "outputs": [],
   "source": [
    "from pandas import DataFrame, Series\n",
    "import numpy as np"
   ]
  },
  {
   "cell_type": "code",
   "execution_count": 2,
   "metadata": {
    "collapsed": false
   },
   "outputs": [],
   "source": [
    "import invisible_cities.reco.peak_functions_c as cpf\n",
    "import invisible_cities.reco.pmaps_functions_c as cpm"
   ]
  },
  {
   "cell_type": "markdown",
   "metadata": {},
   "source": [
    "### Create S12 df"
   ]
  },
  {
   "cell_type": "code",
   "execution_count": 3,
   "metadata": {
    "collapsed": false
   },
   "outputs": [],
   "source": [
    "def s12_dataframe():\n",
    "    evs  = [   0,     0,     0,     0,     0,      3,     3]\n",
    "    peak = [   0,     0,     1,     1,     1,      0,     0]\n",
    "    time = [1000., 1025., 2050., 2075., 2100., 5000., 5025.]\n",
    "    ene  = [123.4, 140.8, 730.0, 734.2, 732.7, 400.0, 420.3]\n",
    "    df = DataFrame.from_dict(dict(\n",
    "            event  = Series(evs , dtype=np.  int32),\n",
    "            evtDaq = evs,\n",
    "            peak   = Series(peak, dtype=np.   int8),\n",
    "            time   = Series(time, dtype=np.float32),\n",
    "            ene    = Series(ene , dtype=np.float32),\n",
    "        ))\n",
    "    return df\n",
    "\n"
   ]
  },
  {
   "cell_type": "code",
   "execution_count": 4,
   "metadata": {
    "collapsed": false
   },
   "outputs": [],
   "source": [
    "dfs2 = s12_dataframe()"
   ]
  },
  {
   "cell_type": "code",
   "execution_count": 5,
   "metadata": {
    "collapsed": false
   },
   "outputs": [
    {
     "data": {
      "text/html": [
       "<div>\n",
       "<table border=\"1\" class=\"dataframe\">\n",
       "  <thead>\n",
       "    <tr style=\"text-align: right;\">\n",
       "      <th></th>\n",
       "      <th>ene</th>\n",
       "      <th>event</th>\n",
       "      <th>evtDaq</th>\n",
       "      <th>peak</th>\n",
       "      <th>time</th>\n",
       "    </tr>\n",
       "  </thead>\n",
       "  <tbody>\n",
       "    <tr>\n",
       "      <th>0</th>\n",
       "      <td>123.400002</td>\n",
       "      <td>0</td>\n",
       "      <td>0</td>\n",
       "      <td>0</td>\n",
       "      <td>1000.0</td>\n",
       "    </tr>\n",
       "    <tr>\n",
       "      <th>1</th>\n",
       "      <td>140.800003</td>\n",
       "      <td>0</td>\n",
       "      <td>0</td>\n",
       "      <td>0</td>\n",
       "      <td>1025.0</td>\n",
       "    </tr>\n",
       "    <tr>\n",
       "      <th>2</th>\n",
       "      <td>730.000000</td>\n",
       "      <td>0</td>\n",
       "      <td>0</td>\n",
       "      <td>1</td>\n",
       "      <td>2050.0</td>\n",
       "    </tr>\n",
       "    <tr>\n",
       "      <th>3</th>\n",
       "      <td>734.200012</td>\n",
       "      <td>0</td>\n",
       "      <td>0</td>\n",
       "      <td>1</td>\n",
       "      <td>2075.0</td>\n",
       "    </tr>\n",
       "    <tr>\n",
       "      <th>4</th>\n",
       "      <td>732.700012</td>\n",
       "      <td>0</td>\n",
       "      <td>0</td>\n",
       "      <td>1</td>\n",
       "      <td>2100.0</td>\n",
       "    </tr>\n",
       "    <tr>\n",
       "      <th>5</th>\n",
       "      <td>400.000000</td>\n",
       "      <td>3</td>\n",
       "      <td>3</td>\n",
       "      <td>0</td>\n",
       "      <td>5000.0</td>\n",
       "    </tr>\n",
       "    <tr>\n",
       "      <th>6</th>\n",
       "      <td>420.299988</td>\n",
       "      <td>3</td>\n",
       "      <td>3</td>\n",
       "      <td>0</td>\n",
       "      <td>5025.0</td>\n",
       "    </tr>\n",
       "  </tbody>\n",
       "</table>\n",
       "</div>"
      ],
      "text/plain": [
       "          ene  event  evtDaq  peak    time\n",
       "0  123.400002      0       0     0  1000.0\n",
       "1  140.800003      0       0     0  1025.0\n",
       "2  730.000000      0       0     1  2050.0\n",
       "3  734.200012      0       0     1  2075.0\n",
       "4  732.700012      0       0     1  2100.0\n",
       "5  400.000000      3       3     0  5000.0\n",
       "6  420.299988      3       3     0  5025.0"
      ]
     },
     "execution_count": 5,
     "metadata": {},
     "output_type": "execute_result"
    }
   ],
   "source": [
    "dfs2"
   ]
  },
  {
   "cell_type": "code",
   "execution_count": null,
   "metadata": {
    "collapsed": true
   },
   "outputs": [],
   "source": []
  },
  {
   "cell_type": "markdown",
   "metadata": {},
   "source": [
    "### pmaps functions"
   ]
  },
  {
   "cell_type": "code",
   "execution_count": 6,
   "metadata": {
    "collapsed": false
   },
   "outputs": [],
   "source": [
    "s1_dict = cpm.df_to_s1_dict(dfs2)"
   ]
  },
  {
   "cell_type": "code",
   "execution_count": 7,
   "metadata": {
    "collapsed": false
   },
   "outputs": [
    {
     "data": {
      "text/plain": [
       "{0: S1 (number of peaks = 2)\n",
       " peak number = 0: Peak(samples = 2 width =      0.0 mus , energy =    264.2 pes\n",
       "         height =    140.8 pes tmin-tmax = minmax(min=1.0, max=1.025) mus  \n",
       " peak number = 1: Peak(samples = 3 width =      0.1 mus , energy =   2196.9 pes\n",
       "         height =    734.2 pes tmin-tmax = minmax(min=2.05, max=2.1) mus  ,\n",
       " 3: S1 (number of peaks = 1)\n",
       " peak number = 0: Peak(samples = 2 width =      0.0 mus , energy =    820.3 pes\n",
       "         height =    420.3 pes tmin-tmax = minmax(min=5.0, max=5.025) mus  }"
      ]
     },
     "execution_count": 7,
     "metadata": {},
     "output_type": "execute_result"
    }
   ],
   "source": [
    "s1_dict"
   ]
  },
  {
   "cell_type": "code",
   "execution_count": 8,
   "metadata": {
    "collapsed": false
   },
   "outputs": [
    {
     "data": {
      "text/plain": [
       "{0: [array([ 1000.,  1025.]), array([ 123.40000153,  140.80000305])],\n",
       " 1: [array([ 2050.,  2075.,  2100.]),\n",
       "  array([ 730.        ,  734.20001221,  732.70001221])]}"
      ]
     },
     "execution_count": 8,
     "metadata": {},
     "output_type": "execute_result"
    }
   ],
   "source": [
    "s1_dict[0].s1d"
   ]
  },
  {
   "cell_type": "code",
   "execution_count": 9,
   "metadata": {
    "collapsed": false
   },
   "outputs": [
    {
     "data": {
      "text/plain": [
       "{0: Peak(samples = 2 width =      0.0 mus , energy =    264.2 pes\n",
       "         height =    140.8 pes tmin-tmax = minmax(min=1.0, max=1.025) mus ,\n",
       " 1: Peak(samples = 3 width =      0.1 mus , energy =   2196.9 pes\n",
       "         height =    734.2 pes tmin-tmax = minmax(min=2.05, max=2.1) mus }"
      ]
     },
     "execution_count": 9,
     "metadata": {},
     "output_type": "execute_result"
    }
   ],
   "source": [
    "s1_dict[0].peaks"
   ]
  },
  {
   "cell_type": "code",
   "execution_count": 10,
   "metadata": {
    "collapsed": false
   },
   "outputs": [],
   "source": [
    "def dump_s12_dict(s12_dict):\n",
    "    for event_no, s12 in s12_dict.items():\n",
    "        print('event number = {}'.format(event_no))\n",
    "        print('peaks in s1/s2 = {}'.format(s12.peak_collection()))\n",
    "        for peak_no in s12.peak_collection():\n",
    "            print('peak number = {}'.format(peak_no))\n",
    "            pwf = s12.peak_waveform(peak_no)\n",
    "            print('Waveform: time = {}, E = {}'.format(pwf.t, pwf.E))"
   ]
  },
  {
   "cell_type": "code",
   "execution_count": 11,
   "metadata": {
    "collapsed": true
   },
   "outputs": [],
   "source": [
    "def dump_s2si_dict(s2si_dict):\n",
    "    for event_no, si in s2si_dict.items():\n",
    "        print('event number = {}'.format(event_no))\n",
    "        si = s2si_dict[event_no]\n",
    "        for peak_no in si.peak_collection():\n",
    "            print('peak number = {}'.format(peak_no))\n",
    "            peak = si.peak_waveform(peak_no)\n",
    "            print(\"S2: t = {}\".format(peak.t))\n",
    "            print(\"S2: E = {}\".format(peak.E))\n",
    "            \n",
    "            for sipm_no in si.sipms_in_peak(peak_no):\n",
    "                print(\"sipm number = {}\".format(sipm_no))\n",
    "                sipm_wfm = si.sipm_waveform(peak_no, sipm_no)\n",
    "                print(\"Si: t = {}\".format(sipm_wfm.t))\n",
    "                print(\"Si: E = {}\".format(sipm_wfm.E))\n",
    "                "
   ]
  },
  {
   "cell_type": "code",
   "execution_count": 12,
   "metadata": {
    "collapsed": false
   },
   "outputs": [
    {
     "name": "stdout",
     "output_type": "stream",
     "text": [
      "event number = 0\n",
      "peaks in s1/s2 = (0, 1)\n",
      "peak number = 0\n",
      "Waveform: time = [ 1000.  1025.], E = [ 123.40000153  140.80000305]\n",
      "peak number = 1\n",
      "Waveform: time = [ 2050.  2075.  2100.], E = [ 730.          734.20001221  732.70001221]\n",
      "event number = 3\n",
      "peaks in s1/s2 = (0,)\n",
      "peak number = 0\n",
      "Waveform: time = [ 5000.  5025.], E = [ 400.          420.29998779]\n"
     ]
    }
   ],
   "source": [
    "dump_s12_dict(s1_dict)"
   ]
  },
  {
   "cell_type": "code",
   "execution_count": 13,
   "metadata": {
    "collapsed": false
   },
   "outputs": [],
   "source": [
    "s2_dict = cpm.df_to_s2_dict(dfs2)"
   ]
  },
  {
   "cell_type": "code",
   "execution_count": 14,
   "metadata": {
    "collapsed": false
   },
   "outputs": [
    {
     "name": "stdout",
     "output_type": "stream",
     "text": [
      "event number = 0\n",
      "peaks in s1/s2 = (0, 1)\n",
      "peak number = 0\n",
      "Waveform: time = [ 1000.  1025.], E = [ 123.40000153  140.80000305]\n",
      "peak number = 1\n",
      "Waveform: time = [ 2050.  2075.  2100.], E = [ 730.          734.20001221  732.70001221]\n",
      "event number = 3\n",
      "peaks in s1/s2 = (0,)\n",
      "peak number = 0\n",
      "Waveform: time = [ 5000.  5025.], E = [ 400.          420.29998779]\n"
     ]
    }
   ],
   "source": [
    "dump_s12_dict(s2_dict)"
   ]
  },
  {
   "cell_type": "code",
   "execution_count": 15,
   "metadata": {
    "collapsed": false
   },
   "outputs": [
    {
     "data": {
      "text/plain": [
       "True"
      ]
     },
     "execution_count": 15,
     "metadata": {},
     "output_type": "execute_result"
    }
   ],
   "source": [
    "s2_dict[0].peaks[0].good_waveform"
   ]
  },
  {
   "cell_type": "code",
   "execution_count": null,
   "metadata": {
    "collapsed": true
   },
   "outputs": [],
   "source": []
  },
  {
   "cell_type": "markdown",
   "metadata": {},
   "source": [
    "### Create S2Si DF"
   ]
  },
  {
   "cell_type": "code",
   "execution_count": 16,
   "metadata": {
    "collapsed": true
   },
   "outputs": [],
   "source": [
    "def s2si_dataframe():\n",
    "    evs  = [  0,   0,  0,  0,   0,  0,  0,  3,  3,  3,  3]\n",
    "    peak = [  0,   0,  0,  0,   1,  1,  1,  0,  0,  0,  0]\n",
    "    sipm = [  0,   0,  1,  1,   3,  3,  3, 10, 10, 15, 15]\n",
    "    ene  = [1.5, 2.5, 15, 25, 5.5, 10, 20,  8,  9, 17, 18]\n",
    "\n",
    "    dfs2si = DataFrame.from_dict(dict(\n",
    "        event   = Series(evs , dtype=np.int32),\n",
    "        evtDaq  = evs,\n",
    "        peak    = Series(peak, dtype=np.   int8),\n",
    "        nsipm   = Series(sipm, dtype=np.  int16),\n",
    "        ene     = Series(ene , dtype=np.float32),\n",
    "    ))\n",
    "    return dfs2si"
   ]
  },
  {
   "cell_type": "code",
   "execution_count": 17,
   "metadata": {
    "collapsed": false
   },
   "outputs": [],
   "source": [
    "dfsi = s2si_dataframe()"
   ]
  },
  {
   "cell_type": "code",
   "execution_count": 18,
   "metadata": {
    "collapsed": false
   },
   "outputs": [
    {
     "data": {
      "text/html": [
       "<div>\n",
       "<table border=\"1\" class=\"dataframe\">\n",
       "  <thead>\n",
       "    <tr style=\"text-align: right;\">\n",
       "      <th></th>\n",
       "      <th>ene</th>\n",
       "      <th>event</th>\n",
       "      <th>evtDaq</th>\n",
       "      <th>nsipm</th>\n",
       "      <th>peak</th>\n",
       "    </tr>\n",
       "  </thead>\n",
       "  <tbody>\n",
       "    <tr>\n",
       "      <th>0</th>\n",
       "      <td>1.5</td>\n",
       "      <td>0</td>\n",
       "      <td>0</td>\n",
       "      <td>0</td>\n",
       "      <td>0</td>\n",
       "    </tr>\n",
       "    <tr>\n",
       "      <th>1</th>\n",
       "      <td>2.5</td>\n",
       "      <td>0</td>\n",
       "      <td>0</td>\n",
       "      <td>0</td>\n",
       "      <td>0</td>\n",
       "    </tr>\n",
       "    <tr>\n",
       "      <th>2</th>\n",
       "      <td>15.0</td>\n",
       "      <td>0</td>\n",
       "      <td>0</td>\n",
       "      <td>1</td>\n",
       "      <td>0</td>\n",
       "    </tr>\n",
       "    <tr>\n",
       "      <th>3</th>\n",
       "      <td>25.0</td>\n",
       "      <td>0</td>\n",
       "      <td>0</td>\n",
       "      <td>1</td>\n",
       "      <td>0</td>\n",
       "    </tr>\n",
       "    <tr>\n",
       "      <th>4</th>\n",
       "      <td>5.5</td>\n",
       "      <td>0</td>\n",
       "      <td>0</td>\n",
       "      <td>3</td>\n",
       "      <td>1</td>\n",
       "    </tr>\n",
       "    <tr>\n",
       "      <th>5</th>\n",
       "      <td>10.0</td>\n",
       "      <td>0</td>\n",
       "      <td>0</td>\n",
       "      <td>3</td>\n",
       "      <td>1</td>\n",
       "    </tr>\n",
       "    <tr>\n",
       "      <th>6</th>\n",
       "      <td>20.0</td>\n",
       "      <td>0</td>\n",
       "      <td>0</td>\n",
       "      <td>3</td>\n",
       "      <td>1</td>\n",
       "    </tr>\n",
       "    <tr>\n",
       "      <th>7</th>\n",
       "      <td>8.0</td>\n",
       "      <td>3</td>\n",
       "      <td>3</td>\n",
       "      <td>10</td>\n",
       "      <td>0</td>\n",
       "    </tr>\n",
       "    <tr>\n",
       "      <th>8</th>\n",
       "      <td>9.0</td>\n",
       "      <td>3</td>\n",
       "      <td>3</td>\n",
       "      <td>10</td>\n",
       "      <td>0</td>\n",
       "    </tr>\n",
       "    <tr>\n",
       "      <th>9</th>\n",
       "      <td>17.0</td>\n",
       "      <td>3</td>\n",
       "      <td>3</td>\n",
       "      <td>15</td>\n",
       "      <td>0</td>\n",
       "    </tr>\n",
       "    <tr>\n",
       "      <th>10</th>\n",
       "      <td>18.0</td>\n",
       "      <td>3</td>\n",
       "      <td>3</td>\n",
       "      <td>15</td>\n",
       "      <td>0</td>\n",
       "    </tr>\n",
       "  </tbody>\n",
       "</table>\n",
       "</div>"
      ],
      "text/plain": [
       "     ene  event  evtDaq  nsipm  peak\n",
       "0    1.5      0       0      0     0\n",
       "1    2.5      0       0      0     0\n",
       "2   15.0      0       0      1     0\n",
       "3   25.0      0       0      1     0\n",
       "4    5.5      0       0      3     1\n",
       "5   10.0      0       0      3     1\n",
       "6   20.0      0       0      3     1\n",
       "7    8.0      3       3     10     0\n",
       "8    9.0      3       3     10     0\n",
       "9   17.0      3       3     15     0\n",
       "10  18.0      3       3     15     0"
      ]
     },
     "execution_count": 18,
     "metadata": {},
     "output_type": "execute_result"
    }
   ],
   "source": [
    "dfsi"
   ]
  },
  {
   "cell_type": "code",
   "execution_count": 19,
   "metadata": {
    "collapsed": false
   },
   "outputs": [],
   "source": [
    "s2si_dict = cpm.df_to_s2si_dict(dfs2, dfsi)"
   ]
  },
  {
   "cell_type": "code",
   "execution_count": 20,
   "metadata": {
    "collapsed": false
   },
   "outputs": [
    {
     "name": "stdout",
     "output_type": "stream",
     "text": [
      "{0: ================================================================================\n",
      "S2 (number of peaks = 2)\n",
      "peak number = 0: Peak(samples = 2 width =      0.0 mus , energy =    264.2 pes\n",
      "        height =    140.8 pes tmin-tmax = minmax(min=1.0, max=1.025) mus  \n",
      "peak number = 1: Peak(samples = 3 width =      0.1 mus , energy =   2196.9 pes\n",
      "        height =    734.2 pes tmin-tmax = minmax(min=2.05, max=2.1) mus  \n",
      "--------------------------------------------------------------------------------\n",
      "SiPMs for non-empty peaks\n",
      "\n",
      "peak number = 0: nsipm in peak = (0, 1)\n",
      "\n",
      "peak number = 1: nsipm in peak = (3,)\n",
      "--------------------------------------------------------------------------------\n",
      "SiPMs Waveforms\n",
      "\n",
      "peak number = 0: sipm number = 0\n",
      "    sipm waveform (zs) = Peak(samples = 2 width =      0.0 mus , energy =      4.0 pes\n",
      "        height =      2.5 pes tmin-tmax = minmax(min=1.0, max=1.025) mus \n",
      "peak number = 0: sipm number = 1\n",
      "    sipm waveform (zs) = Peak(samples = 2 width =      0.0 mus , energy =     40.0 pes\n",
      "        height =     25.0 pes tmin-tmax = minmax(min=1.0, max=1.025) mus \n",
      "peak number = 1: sipm number = 3\n",
      "    sipm waveform (zs) = Peak(samples = 3 width =      0.1 mus , energy =     35.5 pes\n",
      "        height =     20.0 pes tmin-tmax = minmax(min=2.05, max=2.1) mus \n",
      "================================================================================, 3: ================================================================================\n",
      "S2 (number of peaks = 1)\n",
      "peak number = 0: Peak(samples = 2 width =      0.0 mus , energy =    820.3 pes\n",
      "        height =    420.3 pes tmin-tmax = minmax(min=5.0, max=5.025) mus  \n",
      "--------------------------------------------------------------------------------\n",
      "SiPMs for non-empty peaks\n",
      "\n",
      "peak number = 0: nsipm in peak = (10, 15)\n",
      "--------------------------------------------------------------------------------\n",
      "SiPMs Waveforms\n",
      "\n",
      "peak number = 0: sipm number = 10\n",
      "    sipm waveform (zs) = Peak(samples = 2 width =      0.0 mus , energy =     17.0 pes\n",
      "        height =      9.0 pes tmin-tmax = minmax(min=5.0, max=5.025) mus \n",
      "peak number = 0: sipm number = 15\n",
      "    sipm waveform (zs) = Peak(samples = 2 width =      0.0 mus , energy =     35.0 pes\n",
      "        height =     18.0 pes tmin-tmax = minmax(min=5.0, max=5.025) mus \n",
      "================================================================================}\n"
     ]
    }
   ],
   "source": [
    "print(s2si_dict)"
   ]
  },
  {
   "cell_type": "code",
   "execution_count": 21,
   "metadata": {
    "collapsed": false
   },
   "outputs": [
    {
     "name": "stdout",
     "output_type": "stream",
     "text": [
      "event number = 0\n",
      "peak number = 0\n",
      "S2: t = [ 1000.  1025.]\n",
      "S2: E = [ 123.40000153  140.80000305]\n",
      "sipm number = 0\n",
      "Si: t = [ 1000.  1025.]\n",
      "Si: E = [ 1.5  2.5]\n",
      "sipm number = 1\n",
      "Si: t = [ 1000.  1025.]\n",
      "Si: E = [ 15.  25.]\n",
      "peak number = 1\n",
      "S2: t = [ 2050.  2075.  2100.]\n",
      "S2: E = [ 730.          734.20001221  732.70001221]\n",
      "sipm number = 3\n",
      "Si: t = [ 2050.  2075.  2100.]\n",
      "Si: E = [  5.5  10.   20. ]\n",
      "event number = 3\n",
      "peak number = 0\n",
      "S2: t = [ 5000.  5025.]\n",
      "S2: E = [ 400.          420.29998779]\n",
      "sipm number = 10\n",
      "Si: t = [ 5000.  5025.]\n",
      "Si: E = [ 8.  9.]\n",
      "sipm number = 15\n",
      "Si: t = [ 5000.  5025.]\n",
      "Si: E = [ 17.  18.]\n"
     ]
    }
   ],
   "source": [
    "dump_s2si_dict(s2si_dict)"
   ]
  },
  {
   "cell_type": "code",
   "execution_count": null,
   "metadata": {
    "collapsed": true
   },
   "outputs": [],
   "source": []
  },
  {
   "cell_type": "code",
   "execution_count": null,
   "metadata": {
    "collapsed": true
   },
   "outputs": [],
   "source": []
  }
 ],
 "metadata": {
  "kernelspec": {
   "display_name": "Python 3",
   "language": "python",
   "name": "python3"
  },
  "language_info": {
   "codemirror_mode": {
    "name": "ipython",
    "version": 3
   },
   "file_extension": ".py",
   "mimetype": "text/x-python",
   "name": "python",
   "nbconvert_exporter": "python",
   "pygments_lexer": "ipython3",
   "version": "3.6.0"
  }
 },
 "nbformat": 4,
 "nbformat_minor": 2
}
