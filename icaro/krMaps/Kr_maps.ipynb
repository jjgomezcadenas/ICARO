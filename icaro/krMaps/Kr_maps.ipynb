{
 "cells": [
  {
   "cell_type": "code",
   "execution_count": 3,
   "metadata": {
    "collapsed": false
   },
   "outputs": [
    {
     "name": "stdout",
     "output_type": "stream",
     "text": [
      "Running on  Tue Jun 13 18:03:41 2017\n"
     ]
    },
    {
     "ename": "ImportError",
     "evalue": "cannot import name 'hist2d_profile'",
     "output_type": "error",
     "traceback": [
      "\u001b[0;31m---------------------------------------------------------------------------\u001b[0m",
      "\u001b[0;31mImportError\u001b[0m                               Traceback (most recent call last)",
      "\u001b[0;32m<ipython-input-3-9afabb47b6e0>\u001b[0m in \u001b[0;36m<module>\u001b[0;34m()\u001b[0m\n\u001b[1;32m     22\u001b[0m \u001b[0;32mfrom\u001b[0m \u001b[0micaro\u001b[0m\u001b[0;34m.\u001b[0m\u001b[0mcore\u001b[0m\u001b[0;34m.\u001b[0m\u001b[0mhst_functions\u001b[0m \u001b[0;32mimport\u001b[0m \u001b[0mpdf\u001b[0m\u001b[0;34m\u001b[0m\u001b[0m\n\u001b[1;32m     23\u001b[0m \u001b[0;32mfrom\u001b[0m \u001b[0micaro\u001b[0m\u001b[0;34m.\u001b[0m\u001b[0mcore\u001b[0m\u001b[0;34m.\u001b[0m\u001b[0mhst_functions\u001b[0m \u001b[0;32mimport\u001b[0m \u001b[0mlabels\u001b[0m\u001b[0;34m\u001b[0m\u001b[0m\n\u001b[0;32m---> 24\u001b[0;31m \u001b[0;32mfrom\u001b[0m \u001b[0micaro\u001b[0m\u001b[0;34m.\u001b[0m\u001b[0mcore\u001b[0m\u001b[0;34m.\u001b[0m\u001b[0mhst_functions\u001b[0m \u001b[0;32mimport\u001b[0m \u001b[0mhist2d_profile\u001b[0m\u001b[0;34m\u001b[0m\u001b[0m\n\u001b[0m\u001b[1;32m     25\u001b[0m \u001b[0;32mfrom\u001b[0m \u001b[0micaro\u001b[0m\u001b[0;34m.\u001b[0m\u001b[0mcore\u001b[0m\u001b[0;34m.\u001b[0m\u001b[0mhst_functions\u001b[0m \u001b[0;32mimport\u001b[0m \u001b[0mcovariance\u001b[0m\u001b[0;34m\u001b[0m\u001b[0m\n\u001b[1;32m     26\u001b[0m \u001b[0;32mfrom\u001b[0m \u001b[0micaro\u001b[0m\u001b[0;34m.\u001b[0m\u001b[0mcore\u001b[0m\u001b[0;34m.\u001b[0m\u001b[0mhst_functions\u001b[0m \u001b[0;32mimport\u001b[0m \u001b[0mresolution\u001b[0m\u001b[0;34m\u001b[0m\u001b[0m\n",
      "\u001b[0;31mImportError\u001b[0m: cannot import name 'hist2d_profile'"
     ]
    }
   ],
   "source": [
    "import os\n",
    "import time\n",
    "print(\"Running on \", time.asctime())\n",
    "\n",
    "import numpy             as np\n",
    "import tables            as tb\n",
    "import matplotlib.pyplot as plt\n",
    "\n",
    "import invisible_cities.database.load_db         as db\n",
    "import invisible_cities.core    .exceptions      as excp\n",
    "import invisible_cities.core    .core_functions  as coref\n",
    "import invisible_cities.core    .fit_functions   as fitf\n",
    "import invisible_cities.reco    .dst_functions   as dstf\n",
    "import invisible_cities.reco    .pmaps_functions as pmpf\n",
    "import invisible_cities.io      .dst_io          as dstio\n",
    "import invisible_cities.reco    .corrections     as corrf\n",
    "import invisible_cities.reco    .xy_algorithms   as reco\n",
    "\n",
    "\n",
    "from icaro.core.hst_functions import hist\n",
    "from icaro.core.hst_functions import hist2d\n",
    "from icaro.core.hst_functions import pdf\n",
    "from icaro.core.hst_functions import labels\n",
    "from icaro.core.hst_functions import hist2d_profile\n",
    "from icaro.core.hst_functions import covariance\n",
    "from icaro.core.hst_functions import resolution\n",
    "from icaro.core.hst_functions import gausstext\n",
    "from icaro.core.hst_functions import shift_to_bin_centers\n",
    "from icaro.core.hst_functions import save_to_folder\n",
    "\n",
    "pi   = np.pi\n",
    "save = functools.partial(save_to_folder, outputfolder) if save_plots else lambda *x: None"
   ]
  },
  {
   "cell_type": "code",
   "execution_count": null,
   "metadata": {
    "collapsed": true
   },
   "outputs": [],
   "source": []
  }
 ],
 "metadata": {
  "kernelspec": {
   "display_name": "Python 3",
   "language": "python",
   "name": "python3"
  },
  "language_info": {
   "codemirror_mode": {
    "name": "ipython",
    "version": 3
   },
   "file_extension": ".py",
   "mimetype": "text/x-python",
   "name": "python",
   "nbconvert_exporter": "python",
   "pygments_lexer": "ipython3",
   "version": "3.6.0"
  }
 },
 "nbformat": 4,
 "nbformat_minor": 2
}
